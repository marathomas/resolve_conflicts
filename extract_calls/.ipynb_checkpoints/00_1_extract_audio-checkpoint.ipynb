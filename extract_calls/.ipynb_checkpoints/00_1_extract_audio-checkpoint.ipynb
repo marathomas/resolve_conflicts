{
 "cells": [
  {
   "cell_type": "markdown",
   "metadata": {},
   "source": [
    "# Extract audio and generate call txts"
   ]
  },
  {
   "cell_type": "markdown",
   "metadata": {},
   "source": [
    "Script to extract audio for each meerkat call based on labelfiles with start- and stop times in our standard format."
   ]
  },
  {
   "cell_type": "code",
   "execution_count": 3,
   "metadata": {},
   "outputs": [],
   "source": [
    "import pandas as pd\n",
    "import os\n",
    "import numpy as np \n",
    "import librosa \n",
    "import datetime\n",
    "import sys\n",
    "import sox\n",
    "import audiofile as af"
   ]
  },
  {
   "cell_type": "code",
   "execution_count": 4,
   "metadata": {},
   "outputs": [],
   "source": [
    "# folder containing label csvs indicating start, stop times etc\n",
    "LABELFILES_FOLDER = \"/Volumes/EAS_shared/meerkat/working/processed/acoustic/total_synched_call_tables/\"\n",
    "\n",
    "# Path to folder that contains audio recording files (long wavs) (can be in subdirectories)\n",
    "AUDIOS_PATH = \"/Volumes/EAS_shared/meerkat/archive/rawdata/MEERKAT_RAW_DATA\"\n",
    "\n",
    "# Info about channel in stereo recordings (all soundfoc are stereo)\n",
    "CHANNEL_INFO_PATH = \"/Volumes/EAS_shared/meerkat/working/METADATA/soundfoc_channels.csv\"\n",
    "\n",
    "# folder that contains output call txt files\n",
    "TXT_PATH = \"txts/\"\n",
    "#TXT_PATH = '/Volumes/MaraMeerkat/additional_call_txts/'\n",
    "\n",
    "\n",
    "# create, if it doesn't exist yet\n",
    "if not os.path.exists(TXT_PATH):\n",
    "    os.mkdir(TXT_PATH)"
   ]
  },
  {
   "cell_type": "code",
   "execution_count": 5,
   "metadata": {},
   "outputs": [],
   "source": [
    "def get_time(timestring):    \n",
    "    \"\"\"\n",
    "    Function that gets datatime object from timestring\n",
    "    timestring must match one of the given time_patterns\n",
    "\n",
    "    Parameters\n",
    "    ----------\n",
    "    timestring : String\n",
    "                 some string containing a time\n",
    "\n",
    "    Returns\n",
    "    -------\n",
    "    result : datetime object\n",
    "             the time as datetime object\n",
    "\n",
    "    Example\n",
    "    -------\n",
    "    >>> dt = get_time(\"01:02:30.555\")\n",
    "    \n",
    "    \"\"\" \n",
    "    time_patterns = ['%H:%M:%S.%f', '%M:%S.%f']\n",
    "    \n",
    "    if(timestring)==0:\n",
    "        return datetime.datetime.strptime('0:00:00.00', '%H:%M:%S.%f')\n",
    "    else:\n",
    "        for pattern in time_patterns:\n",
    "            try:\n",
    "                return datetime.datetime.strptime(timestring, pattern)\n",
    "            except:\n",
    "                pass\n",
    "    \n",
    "        print(\"Date is not in expected format\") \n",
    "        print(timestring)\n",
    "        sys.exit(0)\n",
    "\n",
    "\n",
    "def get_s(dt):\n",
    "    \"\"\"\n",
    "    Function that that converts time in datatime object to s \n",
    "\n",
    "    Parameters\n",
    "    ----------\n",
    "    timestring : datetime object\n",
    "\n",
    "    Returns\n",
    "    -------\n",
    "    result : float\n",
    "             time in s   \n",
    "    \"\"\" \n",
    "    return dt.microsecond/1000000+dt.second + dt.minute*60 + dt.hour*60*60\n",
    "\n",
    "\n",
    "def replace_multiple(string, list_of_chars, replacement):\n",
    "    \"\"\"\n",
    "    Function that replaces multiple substrings in a string\n",
    "    with other substrings.\n",
    "\n",
    "    Parameters\n",
    "    ----------\n",
    "    string : String\n",
    "             your input string \n",
    "    list_of_chars: list of strings\n",
    "                   List of substrings you want to have replaced\n",
    "    replacement: string or list of strings\n",
    "                 Substring or list of substrings you want to use as\n",
    "                 replacement. If list, then it should be the same length as\n",
    "                 list_of_chars to be matched by position.\n",
    "\n",
    "    Returns\n",
    "    -------\n",
    "    result : String\n",
    "             The modified string\n",
    "\n",
    "    Example\n",
    "    -------\n",
    "    >>> mod_string = replace_multiple(\"This is an example\", ['s', 'a'], '!')\n",
    "    >>> 'Thi! i! !n ex!mple'\n",
    "    \n",
    "    >>> mod_string = replace_multiple(\"This is an example\", ['s', 'a'], ['S', 'A'])\n",
    "    >>> 'ThiS iS An exAmple'\n",
    "    \"\"\" \n",
    "    # if all are to be replaced by same string\n",
    "    if (type(replacement)==str):\n",
    "        replacement = [replacement]*len(list_of_chars)\n",
    "        \n",
    "    for ch, repl in zip(list_of_chars, replacement):\n",
    "        if ch in string:\n",
    "            string=string.replace(ch,repl)\n",
    "    return string\n",
    "\n",
    "def write_audio(wav_loc, start_s, duration_s, MEERKAT_CHANNEL, outdir, outname):\n",
    "    \n",
    "    \"\"\"\n",
    "    Function that that extracts a chunk of audio data from a given wav file\n",
    "    and saves the chunk as txt file.\n",
    "    If \"SOUNDFOC\" is in filename, assumes that audio is stereo and \n",
    "    looks up the channel with meerkat vocalizations in MEERKAT_CHANNEL dictionary.\n",
    "    If anything fails and audio cannot be written as txt, returns \"failed read\"\n",
    "\n",
    "    Parameters\n",
    "    ----------\n",
    "    wav_loc : string\n",
    "              path to wav file\n",
    "    start_s : float\n",
    "              offset in s\n",
    "    duration_s: float\n",
    "                duration in s\n",
    "    MEERKAT_CHANNEL: Dict\n",
    "                    Dictionary containing channel info (0/1) for some \n",
    "                    wav files (basename)\n",
    "                    e.g. 'HM_VLF206_SOUNDFOC_20170825_2.WAV' : 0\n",
    "                         'HM_VLF206_SOUNDFOC_20170825_3.WAV' : 1\n",
    "    outdir : String\n",
    "             path to directory, where txt file should be saved\n",
    "    \n",
    "    outname :  String\n",
    "               filename of the resulting txt file (without \".txt\")\n",
    "\n",
    "    Returns\n",
    "    -------\n",
    "        String\n",
    "        wav_loc input string plus \"pass\" if txt has been generated \n",
    "        and \"failed read\" if it has failed\n",
    "    \n",
    "    \"\"\"\n",
    "    error_ms = 'pass'\n",
    "    # SOUNDFOCs are stereo\n",
    "    if ((wav_loc!=\"NA\") and (duration_s>0)):\n",
    "        if \"SOUNDFOC\" in wav_loc:\n",
    "            try:\n",
    "                data, rate = librosa.load(wav_loc, offset=start_s, duration=duration_s, sr=None, mono=False)\n",
    "                wav_filename = os.path.basename(wav_loc)\n",
    "                if wav_filename in MEERKAT_CHANNEL.keys():\n",
    "                    data = np.asfortranarray(data[MEERKAT_CHANNEL[wav_filename],:])\n",
    "                else:\n",
    "                    data = np.asfortranarray(data[0,:])\n",
    "                \n",
    "                np.savetxt(outdir+outname+'.txt', data, fmt='%.18f',header=\"sr:\"+str(rate))\n",
    "            except Exception:\n",
    "                error_ms = 'failed_read'\n",
    "                pass\n",
    "            \n",
    "        else:\n",
    "            try:\n",
    "                data, rate = librosa.load(wav_loc, offset=start_s, duration=duration_s, sr=None)\n",
    "    \n",
    "                if np.issubdtype(type(data[0]), np.integer):\n",
    "                    data = data.astype('float32') \n",
    "                np.savetxt(outdir+outname+'.txt', data, fmt='%.18f',header=\"sr:\"+str(rate))\n",
    "            except Exception:\n",
    "                error_ms = 'failed_read'\n",
    "                pass\n",
    "    return (wav_loc+\" : \"+error_ms)"
   ]
  },
  {
   "cell_type": "code",
   "execution_count": 7,
   "metadata": {},
   "outputs": [],
   "source": [
    "def write_audio_af(wav_loc, start_s, duration_s, MEERKAT_CHANNEL, outdir, outname):\n",
    "    \n",
    "    \"\"\"\n",
    "    Function that that extracts a chunk of audio data from a given wav file\n",
    "    and saves the chunk as txt file.\n",
    "    If \"SOUNDFOC\" is in filename, assumes that audio is stereo and \n",
    "    looks up the channel with meerkat vocalizations in MEERKAT_CHANNEL dictionary.\n",
    "    If anything fails and audio cannot be written as txt, returns \"failed read\"\n",
    "\n",
    "    Parameters\n",
    "    ----------\n",
    "    wav_loc : string\n",
    "              path to wav file\n",
    "    start_s : float\n",
    "              offset in s\n",
    "    duration_s: float\n",
    "                duration in s\n",
    "    MEERKAT_CHANNEL: Dict\n",
    "                    Dictionary containing channel info (0/1) for some \n",
    "                    wav files (basename)\n",
    "                    e.g. 'HM_VLF206_SOUNDFOC_20170825_2.WAV' : 0\n",
    "                         'HM_VLF206_SOUNDFOC_20170825_3.WAV' : 1\n",
    "    outdir : String\n",
    "             path to directory, where txt file should be saved\n",
    "    \n",
    "    outname :  String\n",
    "               filename of the resulting txt file (without \".txt\")\n",
    "\n",
    "    Returns\n",
    "    -------\n",
    "        String\n",
    "        wav_loc input string plus \"pass\" if txt has been generated \n",
    "        and \"failed read\" if it has failed\n",
    "    \n",
    "    \"\"\"\n",
    "    error_ms = 'pass'\n",
    "    # SOUNDFOCs are stereo\n",
    "    if ((wav_loc!=\"NA\") and (duration_s>0)):\n",
    "        try:\n",
    "            data, rate = af.read(wav_loc, offset=start_s, duration=duration_s)\n",
    "            \n",
    "            # if signal is stereo\n",
    "            if data.shape[0]==2:\n",
    "                wav_filename = os.path.basename(wav_loc)\n",
    "                \n",
    "                if wav_filename in MEERKAT_CHANNEL.keys():\n",
    "                    channel = MEERKAT_CHANNEL[wav_filename]\n",
    "                else:\n",
    "                    channel = 0\n",
    "                \n",
    "                data = np.asfortranarray(data[channel,:])  \n",
    "                if np.issubdtype(type(data[0]), np.integer):\n",
    "                    data = data.astype('float32')\n",
    "                    \n",
    "                np.savetxt(outdir+outname+'.txt', data, fmt='%.18f',header=\"sr:\"+str(rate))\n",
    "                \n",
    "        except Exception:\n",
    "            error_ms = 'failed_read'\n",
    "            pass\n",
    "        \n",
    "    return (wav_loc+\" : \"+error_ms)"
   ]
  },
  {
   "cell_type": "markdown",
   "metadata": {},
   "source": [
    "# Preparations\n",
    "## Read in data"
   ]
  },
  {
   "cell_type": "code",
   "execution_count": 8,
   "metadata": {},
   "outputs": [
    {
     "data": {
      "text/plain": [
       "(82264, 22)"
      ]
     },
     "execution_count": 8,
     "metadata": {},
     "output_type": "execute_result"
    }
   ],
   "source": [
    "# Read in all labelfiles \n",
    "labelfiles_list = os.listdir(LABELFILES_FOLDER)\n",
    "\n",
    "df_list=[]\n",
    "for file in labelfiles_list:\n",
    "    df_list.append(pd.read_csv(LABELFILES_FOLDER+file, sep=\"\\t\", encoding=\"ISO-8859-1\"))\n",
    "\n",
    "# concatenate them to have one big labelfile containing all calls\n",
    "labelfile = pd.concat(df_list, axis=0, sort=True)\n",
    "labelfile.reset_index(inplace=True, drop=True)\n",
    "\n",
    "labelfile.shape"
   ]
  },
  {
   "cell_type": "markdown",
   "metadata": {},
   "source": [
    "## Find location of the wav files on server"
   ]
  },
  {
   "cell_type": "code",
   "execution_count": null,
   "metadata": {},
   "outputs": [],
   "source": [
    "# Add column containing the path to the actual wav file on the server\n",
    "# that we need in order to extract that call\n",
    "# ( we have the wav filename, but not its locationon the server)"
   ]
  },
  {
   "cell_type": "code",
   "execution_count": 10,
   "metadata": {},
   "outputs": [],
   "source": [
    "# list all wav filenames that we need to access\n",
    "wavs_we_need = sorted(list(set(labelfile.wavFileName)))\n",
    "\n",
    "# list all filepaths to all available wav files on the server\n",
    "listOfFiles = list()\n",
    "for r, d, f in os.walk(AUDIOS_PATH):\n",
    "    for file in f:\n",
    "        if (file.endswith(\".wav\") or file.endswith(\".WAV\")):\n",
    "            if file[0]!=\".\":\n",
    "                listOfFiles.append(os.path.join(r, file))\n",
    "            else:\n",
    "                pass\n",
    "        else:\n",
    "            pass"
   ]
  },
  {
   "cell_type": "code",
   "execution_count": 11,
   "metadata": {},
   "outputs": [],
   "source": [
    "# Create dictionary\n",
    "wav_matches = []\n",
    "no_wav_path = []\n",
    "\n",
    "# Now assign a path to each wav_filename\n",
    "for wav in wavs_we_need:\n",
    "    # Search corresponding wav\n",
    "    matches = [x for x in listOfFiles if wav in x]\n",
    "    \n",
    "    if(len(matches)==0):\n",
    "        # save all where no_wav_path was found in this list\n",
    "        no_wav_path.append(wav)\n",
    "        matches = \"NA\"\n",
    "    # save all matches in wav_matches\n",
    "    wav_matches.append(matches)\n",
    "    \n",
    "# Unlist all to string and choose first match in case there are multiple\n",
    "wav_matches = [x if type(x)==str else x[0] for x in wav_matches]\n",
    "wav_dict = dict(zip(wavs_we_need, wav_matches))\n",
    "\n",
    "# print the missing\n",
    "for i in range(len(no_wav_path)):\n",
    "    print(\"Couldn't find \", no_wav_path[i], \" in AUDIOS_PATH\")"
   ]
  },
  {
   "cell_type": "markdown",
   "metadata": {},
   "source": [
    "## Modifications in labelfile"
   ]
  },
  {
   "cell_type": "code",
   "execution_count": 14,
   "metadata": {},
   "outputs": [],
   "source": [
    "# Modify labelfile to simplify writing the audio\n",
    "\n",
    "# 1) Add path to wav file to dataframe\n",
    "labelfile['wav_loc'] = [wav_dict[x] for x in labelfile.wavFileName]\n",
    "\n",
    "# 2) Make start and duration column in seconds (to be directly fed into librosa.load)\n",
    "labelfile['start_s'] = labelfile.apply(lambda row: get_s(get_time(row['t0File'])), axis=1)\n",
    "labelfile['duration_s'] = labelfile.apply(lambda row: get_s(get_time(row['duration'])), axis=1)\n",
    "\n",
    "# 3) Make new callID column, as callID currently contains\n",
    "# some chars which make it difficult to use callID as file name\n",
    "to_be_replaced = [\"/\", \" \", \":\", \".\"]\n",
    "replace_with = \"_\"\n",
    "\n",
    "new_callID = [replace_multiple(x, to_be_replaced, replace_with) for x in labelfile.callID]\n",
    "labelfile['callID_new'] = new_callID\n",
    "\n",
    "# 4) Remove duplicate rows\n",
    "labelfile = labelfile.drop_duplicates()"
   ]
  },
  {
   "cell_type": "code",
   "execution_count": 15,
   "metadata": {},
   "outputs": [
    {
     "data": {
      "text/plain": [
       "(82264, 26)"
      ]
     },
     "execution_count": 15,
     "metadata": {},
     "output_type": "execute_result"
    }
   ],
   "source": [
    "labelfile.shape"
   ]
  },
  {
   "cell_type": "markdown",
   "metadata": {},
   "source": [
    "## Save labelfile"
   ]
  },
  {
   "cell_type": "code",
   "execution_count": 16,
   "metadata": {},
   "outputs": [],
   "source": [
    "# Save modified, complete labelfile\n",
    "\n",
    "#labelfile.to_csv(\"/Volumes/EAS_shared/meerkat/working/processed/acoustic/extract_calls/labelfile.csv\", sep=\"\\t\")\n",
    "labelfile.to_csv(\"labelfile.csv\", sep=\"\\t\")"
   ]
  },
  {
   "cell_type": "code",
   "execution_count": 25,
   "metadata": {},
   "outputs": [],
   "source": [
    "#labelfile = pd.read_csv(\"/Volumes/EAS_shared/meerkat/working/processed/acoustic/extract_calls/labelfile.csv\", sep=\"\\t\")"
   ]
  },
  {
   "cell_type": "code",
   "execution_count": 26,
   "metadata": {},
   "outputs": [
    {
     "data": {
      "text/plain": [
       "(81784, 28)"
      ]
     },
     "execution_count": 26,
     "metadata": {},
     "output_type": "execute_result"
    }
   ],
   "source": [
    "labelfile.shape"
   ]
  },
  {
   "cell_type": "markdown",
   "metadata": {},
   "source": [
    "# Generate call txts"
   ]
  },
  {
   "cell_type": "code",
   "execution_count": null,
   "metadata": {},
   "outputs": [],
   "source": [
    "# select only calls\n",
    "labelfile = labelfile.loc[labelfile.isCall==1,:]"
   ]
  },
  {
   "cell_type": "code",
   "execution_count": 87,
   "metadata": {},
   "outputs": [
    {
     "name": "stdout",
     "output_type": "stream",
     "text": [
      "(8133, 28)\n"
     ]
    }
   ],
   "source": [
    "# Check what txt files are already present\n",
    "txts = list(os.listdir(TXT_PATH))\n",
    "txts = [x[:-4] for x in txts] # remove \".txt\"\n",
    "ids = list(labelfile.callID_new)\n",
    "\n",
    "# Which ones are in ids, but not in txts? (i.e. txt have not been generated yet)\n",
    "missing = [x for x in ids if x not in txts]\n",
    "\n",
    "missing_df = labelfile.loc[labelfile.callID_new.isin(missing),:]\n",
    "print(missing_df.shape)"
   ]
  },
  {
   "cell_type": "code",
   "execution_count": null,
   "metadata": {},
   "outputs": [],
   "source": [
    "# Read in channel dictionary (contains info which channel is meerkat recording for stereo files (SOUNDFOC))\n",
    "channel_tab= pd.read_csv(CHANNEL_INFO_PATH, sep=\"\\t\")\n",
    "channel_dict = dict(zip(channel_tab.wavFile, channel_tab.meerkatChannel))"
   ]
  },
  {
   "cell_type": "code",
   "execution_count": 91,
   "metadata": {},
   "outputs": [],
   "source": [
    "# Write the missing call txts\n",
    "#x = missing_df.apply(lambda row: write_audio(row['wav_loc'], # location of long audio file\n",
    "#                                             row['start_s'], # start of call in that file\n",
    "#                                             row['duration_s'], # end of call in that file\n",
    "#                                             channel_dict, # dict containtin channel info\n",
    "#                                             TXT_PATH,  # output directory where call txt will be saved\n",
    "#                                             row['callID_new']), # will be filename of call txt\n",
    "#                     axis=1)"
   ]
  },
  {
   "cell_type": "code",
   "execution_count": null,
   "metadata": {},
   "outputs": [],
   "source": [
    "# Write the missing call txts FASTER\n",
    "x = missing_df.apply(lambda row: write_audio_af(row['wav_loc'], # location of long audio file\n",
    "                                             row['start_s'], # start of call in that file\n",
    "                                             row['duration_s'], # end of call in that file\n",
    "                                             channel_dict, # dict containtin channel info\n",
    "                                             TXT_PATH,  # output directory where call txt will be saved\n",
    "                                             row['callID_new']), # will be filename of call txt\n",
    "                     axis=1)"
   ]
  },
  {
   "cell_type": "markdown",
   "metadata": {},
   "source": [
    "## Generate and save log file"
   ]
  },
  {
   "cell_type": "code",
   "execution_count": 53,
   "metadata": {},
   "outputs": [],
   "source": [
    "statstab = pd.DataFrame(pd.Series(x).value_counts())\n",
    "f_name = [x.split(\" : \")[0] for x in statstab.index]\n",
    "f_status = [x.split(\" : \")[1] for x in statstab.index]\n",
    "statstab['status'] = f_status # either pass or fail (was returned by write_audio function)\n",
    "statstab['filename'] = f_name # long audio recording file for which error occurred\n",
    "\n",
    "statstab = statstab.rename(columns={0: 'count'})\n",
    "statstab.reset_index(inplace=True, drop=True)\n",
    "\n",
    "#statstab.to_csv(\"generate_call_txt_checkfile.csv\", sep=\"\\t\")"
   ]
  },
  {
   "cell_type": "markdown",
   "metadata": {},
   "source": [
    "## Check results"
   ]
  },
  {
   "cell_type": "code",
   "execution_count": null,
   "metadata": {},
   "outputs": [],
   "source": [
    "# Check results\n",
    "# Print a summary of files that were generated and missing files\n",
    "\n",
    "txts = list(os.listdir(TXT_PATH))\n",
    "txts = [x[:-4] for x in txts] # remove \".txt\"\n",
    "ids = list(labelfile.callID_new)\n",
    "\n",
    "intersect = list(set(txts) & set(ids))\n",
    "print(len(intersect), \" matching callID and wav, while \",labelfile.shape[0],\" expected.\")\n",
    "\n",
    "\n",
    "diff = (list(list(set(ids)-set(txts)) + list(set(txts)-set(ids))))\n",
    "print(len(diff), \" non matches\")\n",
    "\n",
    "\n",
    "# Why don't they have matches?\n",
    "\n",
    "# Because of zero duration?\n",
    "zero_duration_ids = list(labelfile.loc[labelfile.duration_s==0,:].callID_new) # 1725\n",
    "zero_duration_diffs = [x for x in diff if x in zero_duration_ids]\n",
    "print(len(zero_duration_diffs), \" of these non matches are due to zero duration\")\n",
    "\n",
    "other_diffs = [x for x in diff if x not in zero_duration_ids]\n",
    "print(\"the others are:\")\n",
    "for d in other_diffs:\n",
    "    print(d)"
   ]
  },
  {
   "cell_type": "code",
   "execution_count": null,
   "metadata": {},
   "outputs": [],
   "source": []
  }
 ],
 "metadata": {
  "kernelspec": {
   "display_name": "Python 3",
   "language": "python",
   "name": "python3"
  },
  "language_info": {
   "codemirror_mode": {
    "name": "ipython",
    "version": 3
   },
   "file_extension": ".py",
   "mimetype": "text/x-python",
   "name": "python",
   "nbconvert_exporter": "python",
   "pygments_lexer": "ipython3",
   "version": "3.7.10"
  }
 },
 "nbformat": 4,
 "nbformat_minor": 2
}
