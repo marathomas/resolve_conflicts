{
 "cells": [
  {
   "cell_type": "markdown",
   "metadata": {},
   "source": [
    "# Extract audio and generate call txts"
   ]
  },
  {
   "cell_type": "markdown",
   "metadata": {},
   "source": [
    "Script to extract audio for each meerkat call based on labelfiles with start- and stop times in our standard format."
   ]
  },
  {
   "cell_type": "code",
   "execution_count": 2,
   "metadata": {},
   "outputs": [],
   "source": [
    "import pandas as pd\n",
    "import os\n",
    "import numpy as np \n",
    "import datetime\n",
    "import sys\n",
    "import audiofile as af"
   ]
  },
  {
   "cell_type": "code",
   "execution_count": 3,
   "metadata": {},
   "outputs": [
    {
     "name": "stdout",
     "output_type": "stream",
     "text": [
      "Enter path to the EAS server (e.g. /Volumes or //10.126.19.90):/Volumes\n"
     ]
    }
   ],
   "source": [
    "#print(\"Please type your path to the EAS server and press enter! \\n For example: \\n /Volumes    (on Mac) \\n //10.126.19.90    (on Windows) \\n /home/username/Documents/MPI-Server    (when mounted in Documents) \\n\")\n",
    "SERVER=input(\"Enter path to the EAS server (e.g. /Volumes or //10.126.19.90):\")"
   ]
  },
  {
   "cell_type": "code",
   "execution_count": 4,
   "metadata": {},
   "outputs": [],
   "source": [
    "if not os.path.exists(SERVER):\n",
    "    print(\"Invalid server path: \", SERVER)\n",
    "    exit()  \n",
    "    \n",
    "# If someone put a slash or backslash in last position\n",
    "if SERVER[-1:]==\"/\" or SERVER[-1:]==\"\\n\":\n",
    "    SERVER = SERVER[:-1]"
   ]
  },
  {
   "cell_type": "code",
   "execution_count": 5,
   "metadata": {},
   "outputs": [],
   "source": [
    "HOME = SERVER + os.path.join(os.path.sep, 'EAS_shared',\n",
    "                                         'meerkat','working','processed',\n",
    "                                         'acoustic', 'extract_calls')\n",
    "\n",
    "LABELFILES_FOLDER = SERVER + os.path.join(os.path.sep, 'EAS_shared',\n",
    "                                         'meerkat','working','processed',\n",
    "                                         'acoustic', 'total_synched_call_tables')\n",
    "\n",
    "AUDIOS_PATH = SERVER + os.path.join(os.path.sep, 'EAS_shared',\n",
    "                                         'meerkat','archive','rawdata',\n",
    "                                         'MEERKAT_RAW_DATA')\n",
    "\n",
    "CHANNEL_INFO_PATH = SERVER + os.path.join(os.path.sep, 'EAS_shared',\n",
    "                                         'meerkat','working','METADATA',\n",
    "                                         'soundfoc_channels.csv')\n",
    "\n",
    "\n",
    "TXT_PATH = os.path.join(os.path.sep, HOME, 'txts')"
   ]
  },
  {
   "cell_type": "code",
   "execution_count": 6,
   "metadata": {},
   "outputs": [],
   "source": [
    "for path in [HOME, CHANNEL_INFO_PATH, LABELFILES_FOLDER, AUDIOS_PATH]:\n",
    "    if not os.path.exists(path):\n",
    "        print(\"Error: Path does not exist \", path)"
   ]
  },
  {
   "cell_type": "code",
   "execution_count": 8,
   "metadata": {},
   "outputs": [],
   "source": [
    "# create, if it doesn't exist yet\n",
    "if not os.path.exists(TXT_PATH):\n",
    "    os.mkdir(TXT_PATH)"
   ]
  },
  {
   "cell_type": "code",
   "execution_count": 9,
   "metadata": {},
   "outputs": [],
   "source": [
    "def get_time(timestring):    \n",
    "    \"\"\"\n",
    "    Function that gets datatime object from timestring\n",
    "    timestring must match one of the given time_patterns\n",
    "\n",
    "    Parameters\n",
    "    ----------\n",
    "    timestring : String\n",
    "                 some string containing a time\n",
    "\n",
    "    Returns\n",
    "    -------\n",
    "    result : datetime object\n",
    "             the time as datetime object\n",
    "\n",
    "    Example\n",
    "    -------\n",
    "    >>> dt = get_time(\"01:02:30.555\")\n",
    "    \n",
    "    \"\"\" \n",
    "    time_patterns = ['%H:%M:%S.%f', '%M:%S.%f']\n",
    "    \n",
    "    if(timestring)==0:\n",
    "        return datetime.datetime.strptime('0:00:00.00', '%H:%M:%S.%f')\n",
    "    else:\n",
    "        for pattern in time_patterns:\n",
    "            try:\n",
    "                return datetime.datetime.strptime(timestring, pattern)\n",
    "            except:\n",
    "                pass\n",
    "    \n",
    "        print(\"Date is not in expected format\") \n",
    "        print(timestring)\n",
    "        sys.exit(0)\n",
    "\n",
    "\n",
    "def get_s(dt):\n",
    "    \"\"\"\n",
    "    Function that that converts time in datatime object to s \n",
    "\n",
    "    Parameters\n",
    "    ----------\n",
    "    timestring : datetime object\n",
    "\n",
    "    Returns\n",
    "    -------\n",
    "    result : float\n",
    "             time in s   \n",
    "    \"\"\" \n",
    "    return dt.microsecond/1000000+dt.second + dt.minute*60 + dt.hour*60*60\n",
    "\n",
    "\n",
    "def replace_multiple(string, list_of_chars, replacement):\n",
    "    \"\"\"\n",
    "    Function that replaces multiple substrings in a string\n",
    "    with other substrings.\n",
    "\n",
    "    Parameters\n",
    "    ----------\n",
    "    string : String\n",
    "             your input string \n",
    "    list_of_chars: list of strings\n",
    "                   List of substrings you want to have replaced\n",
    "    replacement: string or list of strings\n",
    "                 Substring or list of substrings you want to use as\n",
    "                 replacement. If list, then it should be the same length as\n",
    "                 list_of_chars to be matched by position.\n",
    "\n",
    "    Returns\n",
    "    -------\n",
    "    result : String\n",
    "             The modified string\n",
    "\n",
    "    Example\n",
    "    -------\n",
    "    >>> mod_string = replace_multiple(\"This is an example\", ['s', 'a'], '!')\n",
    "    >>> 'Thi! i! !n ex!mple'\n",
    "    \n",
    "    >>> mod_string = replace_multiple(\"This is an example\", ['s', 'a'], ['S', 'A'])\n",
    "    >>> 'ThiS iS An exAmple'\n",
    "    \"\"\" \n",
    "    # if all are to be replaced by same string\n",
    "    if (type(replacement)==str):\n",
    "        replacement = [replacement]*len(list_of_chars)\n",
    "        \n",
    "    for ch, repl in zip(list_of_chars, replacement):\n",
    "        if ch in string:\n",
    "            string=string.replace(ch,repl)\n",
    "    return string\n"
   ]
  },
  {
   "cell_type": "code",
   "execution_count": 10,
   "metadata": {},
   "outputs": [],
   "source": [
    "def write_audio(wav_loc, start_s, duration_s, MEERKAT_CHANNEL, outdir, outname):\n",
    "    \n",
    "    \"\"\"\n",
    "    Function that that extracts a chunk of audio data from a given wav file\n",
    "    and saves the chunk as txt file.\n",
    "    If \"SOUNDFOC\" is in filename, assumes that audio is stereo and \n",
    "    looks up the channel with meerkat vocalizations in MEERKAT_CHANNEL dictionary.\n",
    "    If anything fails and audio cannot be written as txt, returns \"failed read\"\n",
    "\n",
    "    Parameters\n",
    "    ----------\n",
    "    wav_loc : string\n",
    "              path to wav file\n",
    "    start_s : float\n",
    "              offset in s\n",
    "    duration_s: float\n",
    "                duration in s\n",
    "    MEERKAT_CHANNEL: Dict\n",
    "                    Dictionary containing channel info (0/1) for some \n",
    "                    wav files (basename)\n",
    "                    e.g. 'HM_VLF206_SOUNDFOC_20170825_2.WAV' : 0\n",
    "                         'HM_VLF206_SOUNDFOC_20170825_3.WAV' : 1\n",
    "    outdir : String\n",
    "             path to directory, where txt file should be saved\n",
    "    \n",
    "    outname :  String\n",
    "               filename of the resulting txt file (without \".txt\")\n",
    "\n",
    "    Returns\n",
    "    -------\n",
    "        String\n",
    "        wav_loc input string plus \"pass\" if txt has been generated \n",
    "        and \"failed read\" if it has failed\n",
    "    \n",
    "    \"\"\"\n",
    "    error_ms = 'pass'\n",
    "    # SOUNDFOCs are stereo\n",
    "    if ((wav_loc!=\"NA\") and (duration_s>0)):\n",
    "        try:\n",
    "            data, rate = af.read(wav_loc, offset=start_s, duration=duration_s)\n",
    "            \n",
    "            # if signal is stereo\n",
    "            if data.shape[0]==2:\n",
    "                wav_filename = os.path.basename(wav_loc)\n",
    "                \n",
    "                if wav_filename in MEERKAT_CHANNEL.keys():\n",
    "                    channel = MEERKAT_CHANNEL[wav_filename]\n",
    "                else:\n",
    "                    channel = 0\n",
    "                \n",
    "                data = np.asfortranarray(data[channel,:]) \n",
    "                \n",
    "                if np.issubdtype(type(data[0]), np.integer):\n",
    "                    data = data.astype('float32')\n",
    "                    \n",
    "                txt_out_path = os.path.join(os.path.sep, outdir, outname+'.txt')\n",
    "                np.savetxt(txt_out_path, data, fmt='%.18f',header=\"sr:\"+str(rate))\n",
    "                #np.savetxt(outdir+outname+'.txt', data, fmt='%.18f',header=\"sr:\"+str(rate))              \n",
    "                \n",
    "        except Exception:\n",
    "            error_ms = 'failed_read'\n",
    "            pass\n",
    "        \n",
    "    return (wav_loc+\" : \"+error_ms)"
   ]
  },
  {
   "cell_type": "markdown",
   "metadata": {},
   "source": [
    "# Preparations\n",
    "## Read in data"
   ]
  },
  {
   "cell_type": "code",
   "execution_count": 56,
   "metadata": {},
   "outputs": [
    {
     "name": "stdout",
     "output_type": "stream",
     "text": [
      "Making one giant labelfile...\n",
      "(82264, 22)\n"
     ]
    }
   ],
   "source": [
    "# Read in all labelfiles \n",
    "print(\"Making one giant labelfile...\")\n",
    "labelfiles_list = os.listdir(LABELFILES_FOLDER)\n",
    "\n",
    "df_list=[]\n",
    "for file in labelfiles_list:\n",
    "    df_list.append(pd.read_csv(os.path.join(os.path.sep,LABELFILES_FOLDER,file), sep=\"\\t\", encoding=\"ISO-8859-1\"))\n",
    "\n",
    "# concatenate them to have one big labelfile containing all calls\n",
    "labelfile = pd.concat(df_list, axis=0, sort=True)\n",
    "labelfile.reset_index(inplace=True, drop=True)\n",
    "\n",
    "print(labelfile.shape)"
   ]
  },
  {
   "cell_type": "markdown",
   "metadata": {},
   "source": [
    "## Find location of the wav files on server"
   ]
  },
  {
   "cell_type": "code",
   "execution_count": null,
   "metadata": {},
   "outputs": [],
   "source": [
    "# Add column containing the path to the actual wav file on the server\n",
    "# that we need in order to extract that call\n",
    "# ( we have the wav filename, but not its locationon the server)"
   ]
  },
  {
   "cell_type": "code",
   "execution_count": 12,
   "metadata": {},
   "outputs": [
    {
     "name": "stdout",
     "output_type": "stream",
     "text": [
      "Searching wavs on server...\n",
      "Done\n"
     ]
    }
   ],
   "source": [
    "# list all wav filenames that we need to access\n",
    "wavs_we_need = sorted(list(set(labelfile.wavFileName)))\n",
    "\n",
    "# list all filepaths to all available wav files on the server\n",
    "print(\"Searching wavs on server...\")\n",
    "listOfFiles = list()\n",
    "for r, d, f in os.walk(AUDIOS_PATH):\n",
    "    for file in f:\n",
    "        if (file.endswith(\".wav\") or file.endswith(\".WAV\")):\n",
    "            if file[0]!=\".\":\n",
    "                listOfFiles.append(os.path.join(r, file))\n",
    "            else:\n",
    "                pass\n",
    "        else:\n",
    "            pass\n",
    "print(\"Done\")"
   ]
  },
  {
   "cell_type": "code",
   "execution_count": 57,
   "metadata": {},
   "outputs": [],
   "source": [
    "# Create dictionary\n",
    "wav_matches = []\n",
    "no_wav_path = []\n",
    "\n",
    "# Now assign a path to each wav_filename\n",
    "for wav in wavs_we_need:\n",
    "    # Search corresponding wav\n",
    "    matches = [x for x in listOfFiles if wav in x]\n",
    "    \n",
    "    if(len(matches)==0):\n",
    "        # save all where no_wav_path was found in this list\n",
    "        no_wav_path.append(wav)\n",
    "        matches = \"NA\"\n",
    "    # save all matches in wav_matches\n",
    "    wav_matches.append(matches)\n",
    "    \n",
    "# Unlist all to string and choose first match in case there are multiple\n",
    "wav_matches = [x if type(x)==str else x[0] for x in wav_matches]\n",
    "wav_dict = dict(zip(wavs_we_need, wav_matches))\n",
    "\n",
    "# print the missing\n",
    "for i in range(len(no_wav_path)):\n",
    "    print(\"Couldn't find \", no_wav_path[i], \" in AUDIOS_PATH\")"
   ]
  },
  {
   "cell_type": "markdown",
   "metadata": {},
   "source": [
    "## Modifications in labelfile"
   ]
  },
  {
   "cell_type": "code",
   "execution_count": 58,
   "metadata": {},
   "outputs": [],
   "source": [
    "# Modify labelfile to simplify writing the audio\n",
    "\n",
    "# 1) Add path to wav file to dataframe\n",
    "labelfile['wav_loc'] = [wav_dict[x] for x in labelfile.wavFileName]\n",
    "\n",
    "# 2) Make start and duration column in seconds (to be directly fed into librosa.load)\n",
    "labelfile['start_s'] = labelfile.apply(lambda row: get_s(get_time(row['t0File'])), axis=1)\n",
    "labelfile['duration_s'] = labelfile.apply(lambda row: get_s(get_time(row['duration'])), axis=1)\n",
    "\n",
    "# 3) Make new callID column, as callID currently contains\n",
    "# some chars which make it difficult to use callID as file name\n",
    "to_be_replaced = [\"/\", \" \", \":\", \".\"]\n",
    "replace_with = \"_\"\n",
    "\n",
    "new_callID = [replace_multiple(x, to_be_replaced, replace_with) for x in labelfile.callID]\n",
    "labelfile['callID_new'] = new_callID\n",
    "\n",
    "# 4) Remove duplicate rows\n",
    "labelfile = labelfile.drop_duplicates()"
   ]
  },
  {
   "cell_type": "code",
   "execution_count": 59,
   "metadata": {},
   "outputs": [
    {
     "data": {
      "text/plain": [
       "(82264, 26)"
      ]
     },
     "execution_count": 59,
     "metadata": {},
     "output_type": "execute_result"
    }
   ],
   "source": [
    "#labelfile.shape"
   ]
  },
  {
   "cell_type": "markdown",
   "metadata": {},
   "source": [
    "## Save labelfile"
   ]
  },
  {
   "cell_type": "code",
   "execution_count": 27,
   "metadata": {},
   "outputs": [],
   "source": [
    "# Save modified, complete labelfile\n",
    "labelfile_out_path = os.path.join(os.path.sep, HOME, 'labelfile.csv')\n",
    "labelfile.to_csv(labelfile_out_path, sep=\"\\t\", index=False)"
   ]
  },
  {
   "cell_type": "markdown",
   "metadata": {},
   "source": [
    "# Generate call txts"
   ]
  },
  {
   "cell_type": "code",
   "execution_count": 29,
   "metadata": {},
   "outputs": [],
   "source": [
    "# select only calls\n",
    "#labelfile = labelfile.loc[labelfile.isCall==1,:]"
   ]
  },
  {
   "cell_type": "code",
   "execution_count": 73,
   "metadata": {},
   "outputs": [
    {
     "name": "stdout",
     "output_type": "stream",
     "text": [
      "Checking which txt files already exist in  /Volumes/EAS_shared/meerkat/working/processed/acoustic/extract_calls/txts ...\n",
      "Found  77790  txt files\n",
      "Found  82264  rows\n",
      "4474  rows without txt\n",
      "2221  rows without txt after removing zero-duration rows\n",
      "0  rows without txt after removing non-call rows\n"
     ]
    }
   ],
   "source": [
    "# Check what txt files are already present\n",
    "print(\"Checking which txt files already exist in \", TXT_PATH, \"...\")\n",
    "txts = os.listdir(TXT_PATH)\n",
    "txts = [x[:-4] for x in txts] # remove \".txt\"\n",
    "ids = list(labelfile.callID_new)\n",
    "\n",
    "print(\"Found \", len(txts), \" txt files\")\n",
    "print(\"Found \", len(ids), \" rows\")\n",
    "\n",
    "# Which ones are in ids, but not in txts? (i.e. txt have not been generated yet)\n",
    "missing = list(set(ids)-set(txts))\n",
    "missing_df = labelfile.loc[labelfile.callID_new.isin(missing),:]\n",
    "print(missing_df.shape[0], \" rows without txt\")\n",
    "\n",
    "# Only run for calls with duration > 0\n",
    "missing_df = missing_df.loc[missing_df.duration_s>0,:]\n",
    "print(missing_df.shape[0], \" rows without txt after removing zero-duration rows\")\n",
    "\n",
    "\n",
    "# Only run for true calls\n",
    "missing_df = missing_df.loc[missing_df.isCall==1,:]\n",
    "print(missing_df.shape[0], \" rows without txt after removing non-call rows\")"
   ]
  },
  {
   "cell_type": "code",
   "execution_count": 74,
   "metadata": {},
   "outputs": [],
   "source": [
    "# Read in channel dictionary (contains info which channel is meerkat recording for stereo files (SOUNDFOC))\n",
    "channel_tab= pd.read_csv(CHANNEL_INFO_PATH, sep=\"\\t\")\n",
    "channel_dict = dict(zip(channel_tab.wavFile, channel_tab.meerkatChannel))"
   ]
  },
  {
   "cell_type": "code",
   "execution_count": 75,
   "metadata": {},
   "outputs": [
    {
     "name": "stdout",
     "output_type": "stream",
     "text": [
      "Generating  0  missing txts...\n",
      "Done.\n"
     ]
    }
   ],
   "source": [
    "# Write the missing call txts FASTER\n",
    "\n",
    "print(\"Generating \", missing_df.shape[0], \" missing txts...\")\n",
    "x = missing_df.apply(lambda row: write_audio(row['wav_loc'], # location of long audio file\n",
    "                                             row['start_s'], # start of call in that file\n",
    "                                             row['duration_s'], # end of call in that file\n",
    "                                             channel_dict, # dict containtin channel info\n",
    "                                             TXT_PATH,  # output directory where call txt will be saved\n",
    "                                             row['callID_new']), # will be filename of call txt\n",
    "                     axis=1)\n",
    "print(\"Done.\")"
   ]
  },
  {
   "cell_type": "markdown",
   "metadata": {},
   "source": [
    "## Check results"
   ]
  },
  {
   "cell_type": "code",
   "execution_count": 80,
   "metadata": {},
   "outputs": [
    {
     "name": "stdout",
     "output_type": "stream",
     "text": [
      "Final status: \n",
      "77790  matching callID and wav, while  82264  expected.\n",
      "4474  ids with no matching txt\n",
      "4474  of these non matches are due to zero duration or not being a call\n",
      "0  truly missing txts\n",
      "0  txts with no matching id\n"
     ]
    }
   ],
   "source": [
    "# Check results\n",
    "# Print a summary of files that are now present as txt or not\n",
    "\n",
    "print(\"Final status: \")\n",
    "\n",
    "txts = list(os.listdir(TXT_PATH))\n",
    "txts = [x[:-4] for x in txts] # remove \".txt\"\n",
    "ids = list(labelfile.callID_new)\n",
    "\n",
    "intersect = list(set(txts) & set(ids))\n",
    "print(len(intersect), \" matching callID and wav, while \",labelfile.shape[0],\" expected.\")\n",
    "\n",
    "diff = list(set(ids)-set(txts))\n",
    "print(len(diff), \" ids with no matching txt\")\n",
    "\n",
    "\n",
    "# Why don't they have matches?\n",
    "\n",
    "# Because of zero duration or not being a call?\n",
    "invalid_ids = list(labelfile.loc[((labelfile.duration_s==0) | (labelfile.isCall==0)),:].callID_new) # 1725\n",
    "invalid_diffs = [x for x in diff if x in invalid_ids]\n",
    "print(len(invalid_diffs), \" of these non matches are due to zero duration or not being a call\")\n",
    "\n",
    "# Truly missing\n",
    "truly_missing = list(set(diff)-set(invalid_diffs))\n",
    "print(len(truly_missing), \" truly missing txts\")\n",
    "\n",
    "diff2 = list(set(txts)-set(ids))\n",
    "print(len(diff2), \" txts with no matching id\")"
   ]
  }
 ],
 "metadata": {
  "kernelspec": {
   "display_name": "Python 3",
   "language": "python",
   "name": "python3"
  },
  "language_info": {
   "codemirror_mode": {
    "name": "ipython",
    "version": 3
   },
   "file_extension": ".py",
   "mimetype": "text/x-python",
   "name": "python",
   "nbconvert_exporter": "python",
   "pygments_lexer": "ipython3",
   "version": "3.7.10"
  }
 },
 "nbformat": 4,
 "nbformat_minor": 2
}
