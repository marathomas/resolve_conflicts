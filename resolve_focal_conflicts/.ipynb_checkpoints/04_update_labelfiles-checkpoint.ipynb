{
 "cells": [
  {
   "cell_type": "markdown",
   "metadata": {},
   "source": [
    "# Update labelfiles with predictions"
   ]
  },
  {
   "cell_type": "markdown",
   "metadata": {},
   "source": [
    "Script to update labelfile with predictions from resolve_conflicts\n",
    "\n",
    "Requirements:\n",
    "- \"pred_labelfile.csv\" containing the predictions for the candidate calls generated with 03_resolve_focal_conflicts\n",
    "- all original labelfiles in folder \"EAS_shared/meerkat/working/processed/acoustic/total_synched_call_tables/\"\n",
    "\n",
    "Output:\n",
    "- updates the individual labelfile csvs with the predictions for the candidate calls and saves updated with ending \"_conflicts_resolved.csv\" in current working directory"
   ]
  },
  {
   "cell_type": "code",
   "execution_count": 1,
   "metadata": {},
   "outputs": [],
   "source": [
    "import pandas as pd\n",
    "import os\n",
    "import numpy as np"
   ]
  },
  {
   "cell_type": "code",
   "execution_count": null,
   "metadata": {},
   "outputs": [],
   "source": [
    "f = open('server_path.txt', \"r\")\n",
    "SERVER = f.read().strip()\n",
    "f.close()\n",
    "\n",
    "\n",
    "HOME = SERVER + os.path.join(os.path.sep, 'EAS_shared',\n",
    "                             'meerkat','working','processed',\n",
    "                             'acoustic', 'resolve_conflicts')\n",
    "\n",
    "PRED_LABELFILE = os.path.join(os.path.sep, HOME,'pred_labelfile.csv')\n",
    "\n",
    "# folder containing label csvs indicating start, stop times etc\n",
    "LABELFILES_FOLDER = SERVER + os.path.join(os.path.sep, 'EAS_shared',\n",
    "                                         'meerkat','working','processed',\n",
    "                                         'acoustic', 'total_synched_call_tables')"
   ]
  },
  {
   "cell_type": "code",
   "execution_count": 14,
   "metadata": {},
   "outputs": [],
   "source": [
    "def replace_multiple(string, list_of_chars, replacement):\n",
    "    \"\"\"\n",
    "    Function that replaces multiple substrings in a string\n",
    "    with other substrings.\n",
    "\n",
    "    Parameters\n",
    "    ----------\n",
    "    string : String\n",
    "             your input string \n",
    "    list_of_chars: list of strings\n",
    "                   List of substrings you want to have replaced\n",
    "    replacement: string or list of strings\n",
    "                 Substring or list of substrings you want to use as\n",
    "                 replacement. If list, then it should be the same length as\n",
    "                 list_of_chars to be matched by position.\n",
    "\n",
    "    Returns\n",
    "    -------\n",
    "    result : String\n",
    "             The modified string\n",
    "\n",
    "    Example\n",
    "    -------\n",
    "    >>> mod_string = replace_multiple(\"This is an example\", ['s', 'a'], '!')\n",
    "    >>> 'Thi! i! !n ex!mple'\n",
    "    \n",
    "    >>> mod_string = replace_multiple(\"This is an example\", ['s', 'a'], ['S', 'A'])\n",
    "    >>> 'ThiS iS An exAmple'\n",
    "    \"\"\" \n",
    "    # if all are to be replaced by same string\n",
    "    if (type(replacement)==str):\n",
    "        replacement = [replacement]*len(list_of_chars)\n",
    "        \n",
    "    for ch, repl in zip(list_of_chars, replacement):\n",
    "        if ch in string:\n",
    "            string=string.replace(ch,repl)\n",
    "    return string"
   ]
  },
  {
   "cell_type": "code",
   "execution_count": 6,
   "metadata": {},
   "outputs": [],
   "source": [
    "pred_labelfile = pd.read_csv(PRED_LABELFILE,sep=\"\\t\")\n",
    "pred_nf_dict = dict(zip(pred_labelfile.callID_new, [\"F\" if x==0 else \"NF\" for x in pred_labelfile.pred_nonFocal]))"
   ]
  },
  {
   "cell_type": "code",
   "execution_count": 22,
   "metadata": {},
   "outputs": [],
   "source": [
    "# Read in all labelfiles \n",
    "labelfiles_list = os.listdir(LABELFILES_FOLDER)\n",
    "print(\"Updating files...\")\n",
    "\n",
    "for file in labelfiles_list:\n",
    "    \n",
    "    df = pd.read_csv(os.path.join(os.path.sep, LABELFILES_FOLDER,file), sep=\"\\t\", encoding=\"ISO-8859-1\")\n",
    "    \n",
    "    # make new column callID_new without problematic chars\n",
    "    to_be_replaced = [\"/\", \" \", \":\", \".\"]\n",
    "    replace_with = \"_\"\n",
    "    new_callID = [replace_multiple(x, to_be_replaced, replace_with) for x in df.callID]\n",
    "    df['callID_new'] = new_callID\n",
    "    \n",
    "    # make new column pred_focalType with updated type from resolve_conflicts \n",
    "    df['pred_focalType'] = [pred_nf_dict[callID] if callID in pred_nf_dict.keys() else human_nf_label for callID,human_nf_label in zip(df.callID_new, df.focalType)]\n",
    "    \n",
    "    # save\n",
    "    filename = file[:-4]\n",
    "    \n",
    "    outname = os.path.join(os.path.sep, HOME,filename+'_conflicts_resolved.csv')\n",
    "    df.to_csv(outname, sep=\"\\t\", index=False)\n",
    "    print(outname)"
   ]
  },
  {
   "cell_type": "code",
   "execution_count": null,
   "metadata": {},
   "outputs": [],
   "source": [
    "print(\"Done.\")"
   ]
  }
 ],
 "metadata": {
  "kernelspec": {
   "display_name": "Python 3",
   "language": "python",
   "name": "python3"
  },
  "language_info": {
   "codemirror_mode": {
    "name": "ipython",
    "version": 3
   },
   "file_extension": ".py",
   "mimetype": "text/x-python",
   "name": "python",
   "nbconvert_exporter": "python",
   "pygments_lexer": "ipython3",
   "version": "3.7.4"
  }
 },
 "nbformat": 4,
 "nbformat_minor": 4
}
