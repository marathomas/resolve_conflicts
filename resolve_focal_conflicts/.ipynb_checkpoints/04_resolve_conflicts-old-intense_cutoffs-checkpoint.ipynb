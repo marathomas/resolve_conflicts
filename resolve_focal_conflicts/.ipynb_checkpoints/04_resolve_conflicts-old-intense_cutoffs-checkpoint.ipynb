{
 "cells": [
  {
   "cell_type": "markdown",
   "metadata": {},
   "source": [
    "# Resolve focal conflicts\n",
    "\n",
    "Script to detect conflicts in labeling (e.g. two calls that overlap in time and have both been labelled focal)"
   ]
  },
  {
   "cell_type": "code",
   "execution_count": 147,
   "metadata": {},
   "outputs": [],
   "source": [
    "import pandas as pd\n",
    "import os\n",
    "import numpy as np\n",
    "import pickle\n",
    "import json\n",
    "from scipy import stats\n",
    "import matplotlib.pyplot as plt\n",
    "import random\n",
    "import math"
   ]
  },
  {
   "cell_type": "code",
   "execution_count": 148,
   "metadata": {},
   "outputs": [],
   "source": [
    "HOME = \"/Users/marathomas/Documents/MPI_work/code\"\n",
    "OUTDIR = \"/Volumes/MaraMeerkat/\"\n",
    "\n",
    "# these should have been generated with 01_identify_focal_conflicts\n",
    "CANDIDATES_MATCHES = \"/Volumes/MaraMeerkat/candidates_matches.json\"\n",
    "CANDIDATES_LABELFILE = \"/Volumes/MaraMeerkat/candidates_labelfile.pkl\"\n",
    "\n",
    "# need full labelfile because intensity thresholds for focal/nonfocal calls\n",
    "# are assigned based on 95% percentiles in full dataset\n",
    "FULL_LABELFILE = \"/Volumes/MaraMeerkat/full_labelfile.pkl\"\n",
    "\n",
    "# File that contains distance scores between call pairs\n",
    "# generated with 02_assign_distances\n",
    "F_NF_FILE = '/Volumes/MaraMeerkat/f_nf.csv'\n",
    "\n",
    "\n",
    "N_MELS=40\n",
    "CLIP_VAL = 0 # in denoised_spectrograms, set all values below clip_val to zero\n",
    "MEL_BINS_REMOVED_LOWER = 5 # remove lowest x=MEL_BINS_REMOVED mel bins from spectrograms\n",
    "MEL_BINS_REMOVED_UPPER = 5 # remove lowest x=MEL_BINS_REMOVED mel bins from spectrograms\n",
    "CUTOFF = 0.25 # cutoff score for same-different. Using a very conservative cutoff here in order to avoid false-positives\n",
    "             # I want to correct potential errors and not introduce new ones... thus only label nonfocal if I am pretty\n",
    "             # SURE that this call is the same as another one."
   ]
  },
  {
   "cell_type": "code",
   "execution_count": 194,
   "metadata": {},
   "outputs": [],
   "source": [
    "def calc_spec_intense_score(spec):\n",
    "    # cutoff mels\n",
    "    spec = spec[MEL_BINS_REMOVED_LOWER:(N_MELS-MEL_BINS_REMOVED_UPPER),:] \n",
    "    \n",
    "    # set floor and ceiling\n",
    "    spec = np.where(spec < 0, 0, spec)\n",
    "    \n",
    "    # magnify strong signals\n",
    "    spec = np.where(spec > 15, 200, spec)\n",
    "    \n",
    "    # calculate average intensity score\n",
    "    intense_score = np.sum(spec, axis=None)/(spec.shape[0]*spec.shape[1])      \n",
    "    return intense_score\n",
    "\n",
    "def calc_audio_intense_score(audio):\n",
    "    intense_score = np.sum(np.abs(audio), axis=None)/audio.shape[0]\n",
    "    return intense_score\n",
    "\n",
    "\n",
    "def calc_audio_intense_score_frants(audio):\n",
    "#1) Filter signal with a (call-type specific?) band --> how am I supposed to filter frequencies from audio!?\n",
    "#                                                       could filter low amplitude data but.. why?\n",
    "#2) Find start/end of signal (not necessary if you already have sharp bounds) --> NO NEED\n",
    "\n",
    "#3) Calculate RMS amplitude:  A = sqrt(mean(p^2))\n",
    "#(or in dB: 20*log10( sqrt(mean(p^2)))\n",
    "\n",
    "#4) Intensity is squared amplitude I = mean(p^2)\n",
    "#(or in dB: 10*log10(mean(p^2))\n",
    "    res = 10*log10(np.mean(audio**2)\n",
    "    return np.mean(audio**2)\n",
    "\n",
    "\n",
    "\n",
    "def which_call_am_I(call,sub_df):\n",
    "    \n",
    "    if call==sub_df.call_a.values[0]:\n",
    "        call=\"a\"\n",
    "        other=\"b\"\n",
    "    elif call==sub_df.call_b.values[0]:\n",
    "        call=\"b\"\n",
    "        other=\"a\"    \n",
    "    return call, other\n",
    "\n",
    "def pad_spectro(spec,maxlen):\n",
    "    padding = maxlen - spec.shape[1]\n",
    "    z = np.zeros((spec.shape[0],padding))\n",
    "    padded_spec=np.append(spec, z, axis=1)\n",
    "    return padded_spec"
   ]
  },
  {
   "cell_type": "markdown",
   "metadata": {},
   "source": [
    "# Read in data"
   ]
  },
  {
   "cell_type": "code",
   "execution_count": 150,
   "metadata": {},
   "outputs": [
    {
     "data": {
      "text/plain": [
       "(3193, 35)"
      ]
     },
     "execution_count": 150,
     "metadata": {},
     "output_type": "execute_result"
    }
   ],
   "source": [
    "# labelfile of all potentially conflicting calls\n",
    "\n",
    "labelfile = pd.read_pickle(CANDIDATES_LABELFILE)\n",
    "labelfile.shape"
   ]
  },
  {
   "cell_type": "code",
   "execution_count": 151,
   "metadata": {},
   "outputs": [
    {
     "data": {
      "text/plain": [
       "(54386, 36)"
      ]
     },
     "execution_count": 151,
     "metadata": {},
     "output_type": "execute_result"
    }
   ],
   "source": [
    "# labelfile of all calls\n",
    "full_labelfile = pd.read_pickle(FULL_LABELFILE)\n",
    "full_labelfile.shape"
   ]
  },
  {
   "cell_type": "code",
   "execution_count": 152,
   "metadata": {},
   "outputs": [
    {
     "data": {
      "text/plain": [
       "3193"
      ]
     },
     "execution_count": 152,
     "metadata": {},
     "output_type": "execute_result"
    }
   ],
   "source": [
    "# dictionary of calls and their potential conflicting partners\n",
    "\n",
    "with open(CANDIDATES_MATCHES, \"r\") as file:  \n",
    "    matches = json.load(file)\n",
    "\n",
    "len(matches)"
   ]
  },
  {
   "cell_type": "code",
   "execution_count": 153,
   "metadata": {},
   "outputs": [
    {
     "name": "stdout",
     "output_type": "stream",
     "text": [
      "1843\n"
     ]
    }
   ],
   "source": [
    "# list containing all pairs of calls\n",
    "# (non-redundant, i.e. does not contain both [x,y] and [y,x], but only [x,y])\n",
    "\n",
    "all_pairs = []\n",
    "\n",
    "for key in matches.keys():\n",
    "    for val in matches[key]:\n",
    "        if [val,key] not in all_pairs:\n",
    "            all_pairs.append([key, val])\n",
    "        \n",
    "print(len(all_pairs))"
   ]
  },
  {
   "cell_type": "code",
   "execution_count": 8,
   "metadata": {},
   "outputs": [],
   "source": [
    "# this would be the redundant list\n",
    "#all_pairs = [[x,y] for x,y in zip(matches.keys(), matches.values())]"
   ]
  },
  {
   "cell_type": "code",
   "execution_count": 154,
   "metadata": {},
   "outputs": [],
   "source": [
    "f_nf = pd.read_csv(F_NF_FILE, sep=\"\\t\", index_col=0)"
   ]
  },
  {
   "cell_type": "markdown",
   "metadata": {},
   "source": [
    "## Calculate intense score"
   ]
  },
  {
   "cell_type": "code",
   "execution_count": 213,
   "metadata": {},
   "outputs": [],
   "source": [
    "#audio_intense_scores_frants = [calc_audio_intense_score_frants(x) for x in full_labelfile.raw_audio.values]\n",
    "audio_intense_scores_frants = [math.log(x,10) for x in audio_intense_scores_frants]"
   ]
  },
  {
   "cell_type": "code",
   "execution_count": 195,
   "metadata": {},
   "outputs": [],
   "source": [
    "spec_intense_scores = [calc_spec_intense_score(x) for x in full_labelfile.denoised_spectrograms.values]\n",
    "audio_intense_scores = [calc_audio_intense_score(x) for x in full_labelfile.raw_audio.values]\n",
    "total_intense_scores = [x*y for x,y in zip(spec_intense_scores, audio_intense_scores)]\n",
    "full_labelfile['intense_score'] = total_intense_scores"
   ]
  },
  {
   "cell_type": "code",
   "execution_count": 193,
   "metadata": {},
   "outputs": [
    {
     "data": {
      "text/plain": [
       "(0, 0.1)"
      ]
     },
     "execution_count": 193,
     "metadata": {},
     "output_type": "execute_result"
    },
    {
     "data": {
      "image/png": "[encoded data removed]",
      "text/plain": [
       "<Figure size 432x288 with 1 Axes>"
      ]
     },
     "metadata": {
      "needs_background": "light"
     },
     "output_type": "display_data"
    }
   ],
   "source": [
    "n, bins, patches = plt.hist(full_labelfile.loc[full_labelfile.nonFocal==0,:]['intense_score'] , \n",
    "                            color=\"blue\", label=\"Same\", alpha=0.6, bins=1000)\n",
    "n, bins, patches = plt.hist(full_labelfile.loc[full_labelfile.nonFocal==1,:]['intense_score'] , \n",
    "                            color=\"orange\", label=\"Different\", alpha=0.6, bins=1000)\n",
    "plt.xlim(0,0.1)"
   ]
  },
  {
   "cell_type": "code",
   "execution_count": 214,
   "metadata": {},
   "outputs": [
    {
     "data": {
      "text/plain": [
       "Text(0.5, 0, 'Intensity (conventional)')"
      ]
     },
     "execution_count": 214,
     "metadata": {},
     "output_type": "execute_result"
    },
    {
     "data": {
      "image/png": "[encoded data removed]",
      "text/plain": [
       "<Figure size 432x288 with 1 Axes>"
      ]
     },
     "metadata": {
      "needs_background": "light"
     },
     "output_type": "display_data"
    }
   ],
   "source": [
    "full_labelfile['audio_intense_score'] = audio_intense_scores_frants\n",
    "n, bins, patches = plt.hist(full_labelfile.loc[full_labelfile.nonFocal==0,:]['audio_intense_score'] , \n",
    "                            color=\"blue\", label=\"Same\", alpha=0.6, bins=1000)\n",
    "n, bins, patches = plt.hist(full_labelfile.loc[full_labelfile.nonFocal==1,:]['audio_intense_score'] , \n",
    "                            color=\"orange\", label=\"Different\", alpha=0.6, bins=1000)\n",
    "\n",
    "plt.xlabel('Intensity (conventional)')"
   ]
  },
  {
   "cell_type": "code",
   "execution_count": 211,
   "metadata": {},
   "outputs": [
    {
     "data": {
      "text/plain": [
       "Text(0.5, 0, 'Audio intense score (custom)')"
      ]
     },
     "execution_count": 211,
     "metadata": {},
     "output_type": "execute_result"
    },
    {
     "data": {
      "image/png": "[encoded data removed]",
      "text/plain": [
       "<Figure size 432x288 with 1 Axes>"
      ]
     },
     "metadata": {
      "needs_background": "light"
     },
     "output_type": "display_data"
    }
   ],
   "source": [
    "full_labelfile['audio_intense_score'] = audio_intense_scores\n",
    "n, bins, patches = plt.hist(full_labelfile.loc[full_labelfile.nonFocal==0,:]['audio_intense_score'] , \n",
    "                            color=\"blue\", label=\"Same\", alpha=0.6, bins=1000)\n",
    "n, bins, patches = plt.hist(full_labelfile.loc[full_labelfile.nonFocal==1,:]['audio_intense_score'] , \n",
    "                            color=\"orange\", label=\"Different\", alpha=0.6, bins=1000)\n",
    "plt.xlim(0,0.1)\n",
    "plt.xlabel('Audio intense score (custom)')"
   ]
  },
  {
   "cell_type": "code",
   "execution_count": 158,
   "metadata": {},
   "outputs": [],
   "source": [
    "#full_labelfile['spec_intense_score'] = spec_intense_scores\n",
    "#n, bins, patches = plt.hist(full_labelfile.loc[full_labelfile.nonFocal==0,:]['spec_intense_score'] , \n",
    "#                            color=\"blue\", label=\"Same\", alpha=0.6, bins=1000)\n",
    "#n, bins, patches = plt.hist(full_labelfile.loc[full_labelfile.nonFocal==1,:]['spec_intense_score'] , \n",
    "#                            color=\"orange\", label=\"Different\", alpha=0.6, bins=1000)\n",
    "#plt.xlim(0,0.05)"
   ]
  },
  {
   "cell_type": "markdown",
   "metadata": {},
   "source": [
    "## Add faint scores to labelfile and f_nf dataframe"
   ]
  },
  {
   "cell_type": "code",
   "execution_count": 159,
   "metadata": {},
   "outputs": [],
   "source": [
    "intense_dict = dict(zip(full_labelfile.callID_new.values, full_labelfile.intense_score.values))\n",
    "labelfile['intense_score'] = [intense_dict[x] for x in labelfile.callID_new]"
   ]
  },
  {
   "cell_type": "code",
   "execution_count": 160,
   "metadata": {},
   "outputs": [
    {
     "data": {
      "text/html": [
       "<div>\n",
       "<style scoped>\n",
       "    .dataframe tbody tr th:only-of-type {\n",
       "        vertical-align: middle;\n",
       "    }\n",
       "\n",
       "    .dataframe tbody tr th {\n",
       "        vertical-align: top;\n",
       "    }\n",
       "\n",
       "    .dataframe thead th {\n",
       "        text-align: right;\n",
       "    }\n",
       "</style>\n",
       "<table border=\"1\" class=\"dataframe\">\n",
       "  <thead>\n",
       "    <tr style=\"text-align: right;\">\n",
       "      <th></th>\n",
       "      <th>call_a</th>\n",
       "      <th>call_b</th>\n",
       "      <th>dist_score</th>\n",
       "      <th>intense_a</th>\n",
       "      <th>intense_b</th>\n",
       "    </tr>\n",
       "  </thead>\n",
       "  <tbody>\n",
       "    <tr>\n",
       "      <td>0</td>\n",
       "      <td>20170806_VCVM001_01_11_05_400_0_00_065_sn</td>\n",
       "      <td>20170806_VHMM003_01_10_57_645_0_00_063_sn</td>\n",
       "      <td>0.615411</td>\n",
       "      <td>0.014940</td>\n",
       "      <td>2.175501</td>\n",
       "    </tr>\n",
       "    <tr>\n",
       "      <td>1</td>\n",
       "      <td>20170806_VCVM001_01_11_05_645_0_00_068_sn</td>\n",
       "      <td>20170806_VHMM003_01_10_57_887_0_00_071_sn</td>\n",
       "      <td>0.931236</td>\n",
       "      <td>0.073197</td>\n",
       "      <td>0.631837</td>\n",
       "    </tr>\n",
       "    <tr>\n",
       "      <td>2</td>\n",
       "      <td>20170806_VCVM001_01_11_05_880_0_00_062_sn</td>\n",
       "      <td>20170806_VHMM003_01_10_58_067_0_00_058_sn</td>\n",
       "      <td>0.498800</td>\n",
       "      <td>0.080241</td>\n",
       "      <td>1.657163</td>\n",
       "    </tr>\n",
       "    <tr>\n",
       "      <td>3</td>\n",
       "      <td>20170806_VCVM001_01_11_05_880_0_00_062_sn</td>\n",
       "      <td>20170806_VHMM003_01_10_58_153_0_00_069_sn</td>\n",
       "      <td>0.628041</td>\n",
       "      <td>0.080241</td>\n",
       "      <td>1.298593</td>\n",
       "    </tr>\n",
       "    <tr>\n",
       "      <td>4</td>\n",
       "      <td>20170806_VCVM001_01_12_26_129_0_00_064_sn_x</td>\n",
       "      <td>20170806_VHMM002_01_12_08_899_0_00_066_sn</td>\n",
       "      <td>0.944550</td>\n",
       "      <td>0.125779</td>\n",
       "      <td>0.267663</td>\n",
       "    </tr>\n",
       "    <tr>\n",
       "      <td>...</td>\n",
       "      <td>...</td>\n",
       "      <td>...</td>\n",
       "      <td>...</td>\n",
       "      <td>...</td>\n",
       "      <td>...</td>\n",
       "    </tr>\n",
       "    <tr>\n",
       "      <td>1838</td>\n",
       "      <td>20190719_VHMM017_01_18_54_428_0_00_161_cc</td>\n",
       "      <td>20190719_VHMM023_01_19_36_532_0_00_147_cc</td>\n",
       "      <td>0.403222</td>\n",
       "      <td>0.511495</td>\n",
       "      <td>2.102530</td>\n",
       "    </tr>\n",
       "    <tr>\n",
       "      <td>1839</td>\n",
       "      <td>20190719_VHMM021_01_19_42_491_0_00_172_cc</td>\n",
       "      <td>20190719_VHMM023_01_20_05_843_0_00_161_cc</td>\n",
       "      <td>0.314651</td>\n",
       "      <td>2.120999</td>\n",
       "      <td>1.341579</td>\n",
       "    </tr>\n",
       "    <tr>\n",
       "      <td>1840</td>\n",
       "      <td>20190719_VHMM021_01_20_07_584_0_00_146_cc</td>\n",
       "      <td>20190719_VHMM023_01_20_31_056_0_00_123_cc</td>\n",
       "      <td>0.458837</td>\n",
       "      <td>1.745420</td>\n",
       "      <td>2.001854</td>\n",
       "    </tr>\n",
       "    <tr>\n",
       "      <td>1841</td>\n",
       "      <td>20190719_VHMM021_01_20_21_300_0_00_123_cc</td>\n",
       "      <td>20190719_VHMM023_01_20_44_677_0_00_150_cc</td>\n",
       "      <td>0.239479</td>\n",
       "      <td>2.154277</td>\n",
       "      <td>0.951312</td>\n",
       "    </tr>\n",
       "    <tr>\n",
       "      <td>1842</td>\n",
       "      <td>20190719_VHMM021_01_28_29_568_0_00_165_cc</td>\n",
       "      <td>20190719_VHMM023_01_28_52_214_0_00_159_cc</td>\n",
       "      <td>0.226947</td>\n",
       "      <td>1.704069</td>\n",
       "      <td>0.994433</td>\n",
       "    </tr>\n",
       "  </tbody>\n",
       "</table>\n",
       "<p>1843 rows × 5 columns</p>\n",
       "</div>"
      ],
      "text/plain": [
       "                                           call_a  \\\n",
       "0       20170806_VCVM001_01_11_05_400_0_00_065_sn   \n",
       "1       20170806_VCVM001_01_11_05_645_0_00_068_sn   \n",
       "2       20170806_VCVM001_01_11_05_880_0_00_062_sn   \n",
       "3       20170806_VCVM001_01_11_05_880_0_00_062_sn   \n",
       "4     20170806_VCVM001_01_12_26_129_0_00_064_sn_x   \n",
       "...                                           ...   \n",
       "1838    20190719_VHMM017_01_18_54_428_0_00_161_cc   \n",
       "1839    20190719_VHMM021_01_19_42_491_0_00_172_cc   \n",
       "1840    20190719_VHMM021_01_20_07_584_0_00_146_cc   \n",
       "1841    20190719_VHMM021_01_20_21_300_0_00_123_cc   \n",
       "1842    20190719_VHMM021_01_28_29_568_0_00_165_cc   \n",
       "\n",
       "                                         call_b  dist_score  intense_a  \\\n",
       "0     20170806_VHMM003_01_10_57_645_0_00_063_sn    0.615411   0.014940   \n",
       "1     20170806_VHMM003_01_10_57_887_0_00_071_sn    0.931236   0.073197   \n",
       "2     20170806_VHMM003_01_10_58_067_0_00_058_sn    0.498800   0.080241   \n",
       "3     20170806_VHMM003_01_10_58_153_0_00_069_sn    0.628041   0.080241   \n",
       "4     20170806_VHMM002_01_12_08_899_0_00_066_sn    0.944550   0.125779   \n",
       "...                                         ...         ...        ...   \n",
       "1838  20190719_VHMM023_01_19_36_532_0_00_147_cc    0.403222   0.511495   \n",
       "1839  20190719_VHMM023_01_20_05_843_0_00_161_cc    0.314651   2.120999   \n",
       "1840  20190719_VHMM023_01_20_31_056_0_00_123_cc    0.458837   1.745420   \n",
       "1841  20190719_VHMM023_01_20_44_677_0_00_150_cc    0.239479   2.154277   \n",
       "1842  20190719_VHMM023_01_28_52_214_0_00_159_cc    0.226947   1.704069   \n",
       "\n",
       "      intense_b  \n",
       "0      2.175501  \n",
       "1      0.631837  \n",
       "2      1.657163  \n",
       "3      1.298593  \n",
       "4      0.267663  \n",
       "...         ...  \n",
       "1838   2.102530  \n",
       "1839   1.341579  \n",
       "1840   2.001854  \n",
       "1841   0.951312  \n",
       "1842   0.994433  \n",
       "\n",
       "[1843 rows x 5 columns]"
      ]
     },
     "execution_count": 160,
     "metadata": {},
     "output_type": "execute_result"
    }
   ],
   "source": [
    "f_nf['intense_a'] = [intense_dict[x] for x in f_nf.call_a]\n",
    "f_nf['intense_b'] = [intense_dict[x] for x in f_nf.call_b]\n",
    "f_nf.to_csv(OUTDIR+\"f_nf.csv\", sep=\"\\t\")\n",
    "f_nf"
   ]
  },
  {
   "cell_type": "markdown",
   "metadata": {},
   "source": [
    "# [Add intense_score relative to surrounding focal calls for all matches]"
   ]
  },
  {
   "cell_type": "markdown",
   "metadata": {},
   "source": [
    "Removed this section because it proved to be not such a great way to differentiate focal from nonfocal calls."
   ]
  },
  {
   "cell_type": "code",
   "execution_count": 14,
   "metadata": {},
   "outputs": [],
   "source": [
    "#Only need to do this for calls with a match:\n",
    "\n",
    "#matched_f_nf = f_nf.loc[f_nf.dist_score<=CUTOFF,:]\n",
    "#matched_f_nf"
   ]
  },
  {
   "cell_type": "code",
   "execution_count": 15,
   "metadata": {},
   "outputs": [],
   "source": [
    "#matched_calls = list(set(list(matched_f_nf.call_a)+list(matched_f_nf.call_b)))\n",
    "#len(matched_calls)"
   ]
  },
  {
   "cell_type": "code",
   "execution_count": 16,
   "metadata": {},
   "outputs": [],
   "source": [
    "#log2_dict = {}\n",
    "#start_time_dict = {}\n",
    "#end_time_dict = {}\n",
    "#wavs_we_need = []\n",
    "\n",
    "#n_compare = 3 # calls before and after to compare to\n",
    "#for call in matched_calls:\n",
    "    \n",
    "    # find recording filename\n",
    "#    wavFile = full_labelfile.loc[full_labelfile.callID_new==call,'wavFileName'].values[0]\n",
    "#    wavs_we_need.append(wavFile)\n",
    "    # select all calls in that recording\n",
    "#    sub_df = full_labelfile.loc[full_labelfile.wavFileName==wavFile,:]\n",
    "    # select only focal\n",
    "#    sub_df = sub_df.loc[sub_df.nonFocal==0,:]\n",
    "\n",
    "    # make sure it's sorted by t0 GPS time\n",
    "#    sub_df['date'] = pd.to_datetime(sub_df['t0GPS_UTC'])\n",
    "#    sub_df = sub_df.sort_values(by='date')\n",
    "\n",
    "    # reset index\n",
    "#    sub_df.reset_index(inplace=True)\n",
    "    # find call index\n",
    "#    call_index = sub_df.loc[sub_df.callID_new==call,:].index[0]\n",
    "\n",
    "    # border cases, where call is at very beginning or end of recording file\n",
    "#    if call_index<n_compare:\n",
    "#        n_left = call_index\n",
    "#        n_right = n_compare*2 - n_left\n",
    "#    elif ((sub_df.shape[0]-call_index-1)<n_compare):\n",
    "#        n_right = sub_df.shape[0]-call_index-1\n",
    "#        n_left = n_compare*2 - n_right\n",
    "    \n",
    "    # base case:\n",
    "#    else:\n",
    "#        n_left = n_compare\n",
    "#        n_right = n_compare\n",
    "        \n",
    "#   start_time_dict[call] = sub_df.iloc[call_index-n_left,:].t0File\n",
    "#    end_time_dict[call] = sub_df.iloc[call_index+n_right,:].t0File\n",
    "    \n",
    "#    surrounding_scores = []\n",
    "\n",
    "#    for i in range(1,n_left+1):\n",
    "#        nb_call = sub_df.iloc[call_index-i,:].callID_new\n",
    "#        surrounding_scores.append(intense_dict[nb_call])\n",
    "\n",
    "#    for i in range(1,n_right+1):\n",
    "#        nb_call = sub_df.iloc[call_index+i,:].callID_new\n",
    "#        surrounding_scores.append(intense_dict[nb_call])\n",
    "\n",
    "#    surrounding_mean = np.mean(surrounding_scores)\n",
    "#    log2_dict[call] = math.log2(intense_dict[call]/surrounding_mean)"
   ]
  },
  {
   "cell_type": "markdown",
   "metadata": {},
   "source": [
    "## Define cutoff"
   ]
  },
  {
   "cell_type": "code",
   "execution_count": null,
   "metadata": {},
   "outputs": [],
   "source": [
    "def reject_outliers(data, m=5):\n",
    "    return data[abs(data - np.mean(data)) < m * np.std(data)]\n",
    "\n",
    "#score_min = np.min(full_labelfile['intense_score'])\n",
    "#score_max = np.max(full_labelfile['intense_score'])\n",
    "score_min = np.min(reject_outliers(np.asarray(full_labelfile['intense_score'])))\n",
    "score_max = np.max(reject_outliers(np.asarray(full_labelfile['intense_score'])))\n",
    "score_range = score_max - score_min"
   ]
  },
  {
   "cell_type": "code",
   "execution_count": 221,
   "metadata": {},
   "outputs": [],
   "source": [
    "percent_nonfocal_dict = {}\n",
    "score_range_low = 0.1*score_range - score_min\n",
    "\n",
    "for cutoff in np.arange(score_min, score_min+0.1*score_range, score_range_low/100):\n",
    "    subset = full_labelfile.loc[full_labelfile.intense_score<=cutoff,:]\n",
    "    if subset.shape[0]!=0:\n",
    "        n_nf = subset.loc[subset.nonFocal==1,:].shape[0]\n",
    "        if n_nf==0:\n",
    "            percent_nonfocal_dict[cutoff] = 0\n",
    "        else:\n",
    "            percent_nonfocal_dict[cutoff] = n_nf/subset.shape[0]  "
   ]
  },
  {
   "cell_type": "code",
   "execution_count": 229,
   "metadata": {},
   "outputs": [],
   "source": [
    "percent_focal_dict = {}\n",
    "score_range_high = score_max - 0.75*score_range\n",
    "\n",
    "#for cutoff in np.arange(0.8,2, 0.1):\n",
    "for cutoff in np.arange(score_min+0.75*score_range, score_max, score_range_high/100):\n",
    "    subset = full_labelfile.loc[full_labelfile.intense_score>=cutoff,:]\n",
    "    if subset.shape[0]!=0:      \n",
    "        n_f = subset.loc[subset.nonFocal==0,:].shape[0]\n",
    "        if n_f==0:\n",
    "            percent_focal_dict[cutoff] = 0\n",
    "        else:\n",
    "            percent_focal_dict[cutoff] = n_f/subset.shape[0]"
   ]
  },
  {
   "cell_type": "code",
   "execution_count": 227,
   "metadata": {},
   "outputs": [
    {
     "name": "stdout",
     "output_type": "stream",
     "text": [
      "0.009780095209014548  :  0.9635258358662614\n",
      "0.017868241326668918  :  0.9396709323583181\n"
     ]
    }
   ],
   "source": [
    "for key, val in zip(percent_nonfocal_dict.keys(), percent_nonfocal_dict.values()):\n",
    "    if val>=0.93 and val<=0.98:\n",
    "        print(key, \" : \", val)"
   ]
  },
  {
   "cell_type": "code",
   "execution_count": 230,
   "metadata": {},
   "outputs": [
    {
     "name": "stdout",
     "output_type": "stream",
     "text": [
      "6.080491155517337  :  0.9960526315789474\n",
      "6.100770739029671  :  0.9960159362549801\n",
      "6.121050322542005  :  0.9959623149394348\n",
      "6.141329906054339  :  0.9959404600811907\n",
      "6.161609489566673  :  0.9959128065395095\n",
      "6.181889073079007  :  0.9958791208791209\n",
      "6.202168656591341  :  0.9958563535911602\n",
      "6.222448240103675  :  0.9958100558659218\n",
      "6.242727823616009  :  0.9957264957264957\n",
      "6.263007407128343  :  0.995702005730659\n",
      "6.2832869906406765  :  0.9956896551724138\n",
      "6.3035665741530105  :  0.9956458635703919\n",
      "6.323846157665344  :  0.9956076134699854\n",
      "6.344125741177678  :  0.9955947136563876\n",
      "6.364405324690012  :  0.9955686853766618\n",
      "6.384684908202346  :  0.9955489614243324\n",
      "6.40496449171468  :  0.9955022488755623\n",
      "6.425244075227014  :  0.9954819277108434\n",
      "6.445523658739348  :  0.9969650986342944\n",
      "6.465803242251682  :  0.9969465648854962\n",
      "6.486082825764016  :  0.9969278033794163\n",
      "6.50636240927635  :  0.9968992248062015\n",
      "6.526641992788684  :  0.9968652037617555\n",
      "6.546921576301018  :  0.9968354430379747\n",
      "6.567201159813352  :  0.9968102073365231\n",
      "6.587480743325686  :  0.9967948717948718\n",
      "6.60776032683802  :  0.9967741935483871\n",
      "6.628039910350354  :  0.9967637540453075\n",
      "6.6483194938626875  :  0.9967266775777414\n",
      "6.6685990773750214  :  0.9966996699669967\n",
      "6.688878660887355  :  0.9966777408637874\n",
      "6.709158244399689  :  0.9966386554621849\n",
      "6.729437827912023  :  0.9966159052453468\n",
      "6.749717411424357  :  0.9966101694915255\n",
      "6.769996994936691  :  0.9965928449744463\n",
      "6.790276578449025  :  0.9965928449744463\n",
      "6.810556161961359  :  0.9965694682675815\n",
      "6.830835745473693  :  0.9965277777777778\n",
      "6.851115328986027  :  0.9965034965034965\n",
      "6.871394912498361  :  0.9964601769911504\n",
      "6.891674496010695  :  0.9964285714285714\n",
      "6.911954079523029  :  0.9963963963963964\n",
      "6.932233663035363  :  0.9963570127504554\n",
      "6.952513246547697  :  0.996309963099631\n",
      "6.972792830060031  :  0.9962756052141527\n",
      "6.9930724135723645  :  0.9962546816479401\n",
      "7.0133519970846985  :  0.996219281663516\n",
      "7.033631580597032  :  0.9961759082217974\n",
      "7.053911164109366  :  0.9961538461538462\n",
      "7.0741907476217  :  0.996116504854369\n",
      "7.094470331134034  :  0.9960707269155207\n",
      "7.114749914646368  :  0.996039603960396\n",
      "7.135029498158702  :  0.9960159362549801\n",
      "7.155309081671036  :  0.9959514170040485\n",
      "7.17558866518337  :  0.9959266802443992\n",
      "7.195868248695704  :  0.9959016393442623\n",
      "7.216147832208038  :  0.9958677685950413\n",
      "7.236427415720372  :  0.9958419958419958\n",
      "7.256706999232706  :  0.9957983193277311\n",
      "7.27698658274504  :  0.9957446808510638\n",
      "7.297266166257374  :  0.9957173447537473\n",
      "7.317545749769708  :  0.9956803455723542\n",
      "7.337825333282042  :  0.9956427015250545\n",
      "7.3581049167943755  :  0.9955947136563876\n",
      "7.3783845003067094  :  0.9955456570155902\n",
      "7.398664083819043  :  0.9954954954954955\n",
      "7.418943667331377  :  0.9954648526077098\n",
      "7.439223250843711  :  0.9954441913439636\n",
      "7.459502834356045  :  0.9954022988505747\n",
      "7.479782417868379  :  0.9953703703703703\n",
      "7.500062001380713  :  0.9953379953379954\n",
      "7.520341584893047  :  0.9953051643192489\n",
      "7.540621168405381  :  0.9952830188679245\n",
      "7.560900751917715  :  0.995249406175772\n",
      "7.581180335430049  :  0.9952267303102625\n",
      "7.601459918942383  :  0.9951690821256038\n",
      "7.621739502454717  :  0.9951219512195122\n",
      "7.642019085967051  :  0.9950980392156863\n",
      "7.662298669479385  :  0.995049504950495\n",
      "7.682578252991719  :  0.995049504950495\n",
      "7.7028578365040525  :  0.9950124688279302\n",
      "7.7231374200163865  :  0.9949874686716792\n",
      "7.74341700352872  :  0.9949494949494949\n",
      "7.763696587041054  :  0.9948979591836735\n",
      "7.783976170553388  :  0.9948849104859335\n",
      "7.804255754065722  :  0.9948717948717949\n",
      "7.824535337578056  :  0.9948453608247423\n",
      "7.84481492109039  :  0.9948186528497409\n",
      "7.865094504602724  :  0.994750656167979\n",
      "7.885374088115058  :  0.9947368421052631\n",
      "7.905653671627392  :  0.9947229551451188\n",
      "7.925933255139726  :  0.9946949602122016\n",
      "7.94621283865206  :  0.9946236559139785\n",
      "7.966492422164394  :  0.9946236559139785\n",
      "7.986772005676728  :  0.9945504087193461\n",
      "8.00705158918906  :  0.9945504087193461\n",
      "8.027331172701395  :  0.9945054945054945\n",
      "8.047610756213729  :  0.994475138121547\n",
      "8.067890339726063  :  0.9944598337950139\n",
      "8.088169923238397  :  0.9971988795518207\n"
     ]
    }
   ],
   "source": [
    "for key, val in zip(percent_focal_dict.keys(), percent_focal_dict.values()):\n",
    "    if val>=0.9 and val<=1:\n",
    "        print(key, \" : \", val)"
   ]
  },
  {
   "cell_type": "code",
   "execution_count": 165,
   "metadata": {},
   "outputs": [
    {
     "name": "stdout",
     "output_type": "stream",
     "text": [
      "0.011\n",
      "1.4\n"
     ]
    }
   ],
   "source": [
    "FAINT_CUTOFF = 0.011\n",
    "print(FAINT_CUTOFF)\n",
    "#STRONG_CUTOFF = 0.93\n",
    "STRONG_CUTOFF = 1.4\n",
    "print(STRONG_CUTOFF)"
   ]
  },
  {
   "cell_type": "code",
   "execution_count": 21,
   "metadata": {},
   "outputs": [],
   "source": [
    "# old!\n",
    "#FAINT_CUTOFF = np.percentile(np.asarray(full_labelfile.loc[full_labelfile.nonFocal==1,'intense_score']), 5)\n",
    "#print(FAINT_CUTOFF)\n",
    "#STRONG_CUTOFF = np.percentile(np.asarray(full_labelfile.loc[full_labelfile.nonFocal==0,'intense_score']), 95)\n",
    "#print(STRONG_CUTOFF)"
   ]
  },
  {
   "cell_type": "markdown",
   "metadata": {},
   "source": [
    "## Assess usefulness of intensity score for prediction focal/nonfocal"
   ]
  },
  {
   "cell_type": "code",
   "execution_count": 166,
   "metadata": {},
   "outputs": [],
   "source": [
    "def calc_confusion_vals(pred, truth):\n",
    "    \n",
    "    eval_dict = {}\n",
    "    eval_dict['TP'] = np.sum([1 if t==1 and p==1 else 0 for t,p in zip(truth, pred)])\n",
    "    eval_dict['TN']= np.sum([1 if t==0 and p==0 else 0 for t,p in zip(truth, pred)])\n",
    "    eval_dict['FP'] = np.sum([1 if t==0 and p==1 else 0 for t,p in zip(truth, pred)])\n",
    "    eval_dict['FN'] = np.sum([1 if t==1 and p==0 else 0 for t,p in zip(truth, pred)])\n",
    "    \n",
    "    return eval_dict\n",
    "\n",
    "def get_metric(metric, eval_dict):\n",
    "    \n",
    "    TP = eval_dict['TP']\n",
    "    TN = eval_dict['TN']\n",
    "    FP = eval_dict['FP']\n",
    "    FN = eval_dict['FN']\n",
    "       \n",
    "    \n",
    "    if metric in [\"Sensitivity\", \"sensitivity\", \"recall\", \"Recall\", \"TPR\", \"tpr\"]:\n",
    "        res = TP/(TP+FN)\n",
    "    elif metric in [\"Accuracy\", \"accuracy\", \"acc\"]:\n",
    "        res = (TP+TN)/(TP+TN+FN+FP) \n",
    "    elif metric in [\"Specificity\", \"specificity\", \"TNR\", \"tnr\"]:                   \n",
    "        res = TN/(TN+FP)\n",
    "    elif metric in [\"Precision\", \"precision\", \"PPV\", \"ppv\"]:\n",
    "        res = TP/(TP+FP)\n",
    "    elif metric in [\"NPV\", \"npv\"]:\n",
    "        res = TN/(TN+FN) \n",
    "    elif metric in [\"F1\", \"f1\", \"f1score\", \"F1Score\"]:\n",
    "        res = (2*TP)/(2*TP+FP+FN)\n",
    "    elif metric in [\"FPR\", \"fpr\"]:\n",
    "        res = 1-(TN/(TN+FP))\n",
    "    else:\n",
    "        print(\"unknown metric\")\n",
    "    \n",
    "    return res\n",
    "\n",
    "def plot_me(x_param, y_param, evals):\n",
    "    if isinstance(x_param, str):\n",
    "        x = [get_metric(x_param, eval_dict) for eval_dict in evals]\n",
    "    else:\n",
    "        x = x_param\n",
    "    \n",
    "    if isinstance(y_param, str):\n",
    "        y = [get_metric(y_param, eval_dict) for eval_dict in evals]\n",
    "    else:\n",
    "        y = y_param\n",
    "        \n",
    "    plt.plot(x,y)\n",
    "    plt.xlabel(x_param if isinstance(x_param, str) else None)\n",
    "    plt.ylabel(x_param if isinstance(x_param, str) else None)"
   ]
  },
  {
   "cell_type": "code",
   "execution_count": 167,
   "metadata": {},
   "outputs": [],
   "source": [
    "truth = list(full_labelfile.nonFocal)\n",
    "evals= []\n",
    "\n",
    "\n",
    "for threshold in np.arange(0.01,3, 0.001):\n",
    "    pred = [1 if x<=threshold else 0 for x in full_labelfile.intense_score]\n",
    "    \n",
    "    eval_dict = calc_confusion_vals(pred, truth)\n",
    "    evals.append(eval_dict)"
   ]
  },
  {
   "cell_type": "code",
   "execution_count": 146,
   "metadata": {},
   "outputs": [
    {
     "data": {
      "image/png": "[encoded data removed]",
      "text/plain": [
       "<Figure size 432x288 with 1 Axes>"
      ]
     },
     "metadata": {
      "needs_background": "light"
     },
     "output_type": "display_data"
    }
   ],
   "source": [
    "# precision recall\n",
    "plot_me('precision', 'recall', evals)"
   ]
  },
  {
   "cell_type": "code",
   "execution_count": 145,
   "metadata": {},
   "outputs": [
    {
     "data": {
      "image/png": "[encoded data removed]",
      "text/plain": [
       "<Figure size 432x288 with 1 Axes>"
      ]
     },
     "metadata": {
      "needs_background": "light"
     },
     "output_type": "display_data"
    }
   ],
   "source": [
    "plot_me('fpr', 'tpr', evals)"
   ]
  },
  {
   "cell_type": "code",
   "execution_count": 144,
   "metadata": {},
   "outputs": [
    {
     "data": {
      "image/png": "[encoded data removed]",
      "text/plain": [
       "<Figure size 432x288 with 1 Axes>"
      ]
     },
     "metadata": {
      "needs_background": "light"
     },
     "output_type": "display_data"
    }
   ],
   "source": [
    "plot_me(np.arange(0.01,3, 0.001), 'accuracy', evals)"
   ]
  },
  {
   "cell_type": "markdown",
   "metadata": {},
   "source": [
    "# Assign focal or nonfocal"
   ]
  },
  {
   "cell_type": "markdown",
   "metadata": {},
   "source": [
    "Make dataframe of all call pairs, their distance scores and faint scores."
   ]
  },
  {
   "cell_type": "markdown",
   "metadata": {},
   "source": [
    "Then assign calls focal or noncal following these hierarchical steps:\n",
    "\n",
    "- 1) Assignment based on faintness alone\n",
    "- 2) Assignment of calls with no high fidelity match (e.g. that were not recognized as \"same-call\")\n",
    "- 3) Assignment of calls that have only one high fidelity match\n",
    "- 4) Assignment of calls that have multiple high fidelity matches"
   ]
  },
  {
   "cell_type": "code",
   "execution_count": 168,
   "metadata": {},
   "outputs": [],
   "source": [
    "CUTOFF=0.25"
   ]
  },
  {
   "cell_type": "markdown",
   "metadata": {},
   "source": [
    "### 1) Case: Assignment based on intensity alone\n",
    "\n",
    "Assignment based on intensity cutoffs. Some clearly focal, some clearly nonfocal."
   ]
  },
  {
   "cell_type": "code",
   "execution_count": 169,
   "metadata": {},
   "outputs": [
    {
     "name": "stdout",
     "output_type": "stream",
     "text": [
      "1209\n",
      "1209\n",
      "1209\n"
     ]
    }
   ],
   "source": [
    "very_faint = labelfile.loc[labelfile.intense_score<=FAINT_CUTOFF,:]\n",
    "pred_nonFocal=dict(zip(very_faint.callID_new, [1]*very_faint.shape[0]))\n",
    "why_pred = dict(zip(very_faint.callID_new, [\"intense_low\"]*very_faint.shape[0]))\n",
    "pred_comment = dict(zip(very_faint.callID_new, [str(round(intense_dict[x],2)) for x in very_faint.callID_new]))\n",
    "\n",
    "very_strong = labelfile.loc[labelfile.intense_score>=STRONG_CUTOFF,:]\n",
    "\n",
    "for call in very_strong.callID_new:\n",
    "    pred_nonFocal[call] = 0\n",
    "    why_pred[call] = \"intense_high\"\n",
    "    pred_comment[call] = str(round(intense_dict[call],2))\n",
    "\n",
    "print(len(pred_nonFocal))\n",
    "print(len(why_pred))\n",
    "print(len(pred_comment))"
   ]
  },
  {
   "cell_type": "code",
   "execution_count": 172,
   "metadata": {},
   "outputs": [
    {
     "name": "stdout",
     "output_type": "stream",
     "text": [
      "5\n",
      "5\n",
      "5\n"
     ]
    }
   ],
   "source": [
    "#FAINT_CUTOFF = 1.09\n",
    "\n",
    "very_faint = labelfile.loc[labelfile.intense_score<=FAINT_CUTOFF,:]\n",
    "pred_nonFocal=dict(zip(very_faint.callID_new, [1]*very_faint.shape[0]))\n",
    "why_pred = dict(zip(very_faint.callID_new, [\"intense_low\"]*very_faint.shape[0]))\n",
    "pred_comment = dict(zip(very_faint.callID_new, [str(round(intense_dict[x],2)) for x in very_faint.callID_new]))\n",
    "\n",
    "\n",
    "print(len(pred_nonFocal))\n",
    "print(len(why_pred))\n",
    "print(len(pred_comment))"
   ]
  },
  {
   "cell_type": "code",
   "execution_count": 173,
   "metadata": {},
   "outputs": [
    {
     "name": "stdout",
     "output_type": "stream",
     "text": [
      "0\n",
      "0\n",
      "0\n"
     ]
    }
   ],
   "source": [
    "why_pred = {}\n",
    "pred_comment= {}\n",
    "pred_nonFocal={}\n",
    "print(len(pred_nonFocal))\n",
    "print(len(why_pred))\n",
    "print(len(pred_comment))"
   ]
  },
  {
   "cell_type": "markdown",
   "metadata": {},
   "source": [
    "### 2) Case: Calls with no high fidelity match\n",
    "\n",
    "--> can be assigned focal"
   ]
  },
  {
   "cell_type": "code",
   "execution_count": 174,
   "metadata": {},
   "outputs": [
    {
     "name": "stdout",
     "output_type": "stream",
     "text": [
      "1506\n",
      "1506\n",
      "1506\n"
     ]
    }
   ],
   "source": [
    "for call in labelfile.callID_new.values:    \n",
    "    # if not already assigned\n",
    "    if call not in pred_nonFocal.keys():\n",
    "        # all rows that concern this call\n",
    "        sub_df = f_nf.loc[(f_nf['call_a']==call) | (f_nf['call_b']==call),:]\n",
    "        # all matches of this call        \n",
    "        sub_df_matched = sub_df.loc[sub_df.dist_score<CUTOFF,:]\n",
    "        \n",
    "        # if call has no matches!:\n",
    "        if sub_df_matched.shape[0]==0:\n",
    "            pred_nonFocal[call] = 0\n",
    "            why_pred[call] = \"no_match\"\n",
    "            pred_comment[call] = \"no further info\"\n",
    "\n",
    "print(len(pred_nonFocal))\n",
    "print(len(why_pred))\n",
    "print(len(pred_comment))"
   ]
  },
  {
   "cell_type": "markdown",
   "metadata": {},
   "source": [
    "### 3) Case: Only 1 high fidelity match "
   ]
  },
  {
   "cell_type": "markdown",
   "metadata": {},
   "source": [
    "    3a) the match partner is already assigned f/nf or\n",
    "        -->  assign call to the opposite\n",
    "\n",
    "    3b) match partner is not yet assigned\n",
    "         --> assign to nf if weaker, assign to f if stronger "
   ]
  },
  {
   "cell_type": "code",
   "execution_count": 175,
   "metadata": {},
   "outputs": [
    {
     "name": "stdout",
     "output_type": "stream",
     "text": [
      "3044\n",
      "3044\n",
      "3044\n"
     ]
    }
   ],
   "source": [
    "for call in labelfile.callID_new.values:    \n",
    "    # if not already assigned\n",
    "    if call not in pred_nonFocal.keys():\n",
    "        # all rows that concern this call\n",
    "        sub_df = f_nf.loc[(f_nf['call_a']==call) | (f_nf['call_b']==call),:]\n",
    "        # all matches of this call\n",
    "        \n",
    "        sub_df_matched = sub_df.loc[sub_df.dist_score<CUTOFF,:]\n",
    "        \n",
    "        # if call has exactly 1 match:\n",
    "        if sub_df_matched.shape[0]==1:\n",
    "            me, other = which_call_am_I(call, sub_df_matched)\n",
    "            other_call = sub_df_matched['call_'+other].values[0] \n",
    "            \n",
    "            # if partner already assigned\n",
    "            if other_call in pred_nonFocal.keys():\n",
    "                # assign to opposite\n",
    "                pred_nonFocal[call] = np.abs(1-pred_nonFocal[other_call])\n",
    "                why_pred[call] = \"partner_assigned (\"+why_pred[other_call]+\")\"\n",
    "                \n",
    "                other_assignment = \"focal\" if pred_nonFocal[other_call]==0 else \"nonfocal\"\n",
    "                pred_comment[call] = other_call+\": \"+other_assignment\n",
    "                \n",
    "            # if partner not already assigned   \n",
    "            else:\n",
    "                #if weaker, assign nonfocal\n",
    "                if intense_dict[call]<=intense_dict[other_call]:\n",
    "                    pred_nonFocal[call] = 1\n",
    "                    why_pred[call] = \"weaker_1_match\"\n",
    "                    pred_comment[call] = str(round(intense_dict[call],2))+\" vs. \"+str(round(intense_dict[other_call],2))+\" (\"+other_call+\")\"\n",
    "                #if stronger, assign focal\n",
    "                else:\n",
    "                    pred_nonFocal[call] = 0\n",
    "                    why_pred[call] = \"stronger_1_match\"\n",
    "                    pred_comment[call] = str(round(intense_dict[call],2))+\" vs. \"+str(round(intense_dict[other_call],2))+\" (\"+other_call+\")\"\n",
    "\n",
    "\n",
    "print(len(pred_nonFocal))\n",
    "print(len(why_pred))\n",
    "print(len(pred_comment))"
   ]
  },
  {
   "cell_type": "markdown",
   "metadata": {},
   "source": [
    "### 4)  Case: Multiple high fidelity matches\n",
    "\n",
    "    4a) of which at least ONE (should be only one) is already known to be the focal one\n",
    "        -->  assign call to nonfocal\n",
    "\n",
    "    4b) of which NONE is known to be focal, but\n",
    "\n",
    "        4b1) I am the strongest\n",
    "            --> assign call to focal\n",
    "\n",
    "        4b2) I am not the strongest\n",
    "            --> assign call to nonfocal"
   ]
  },
  {
   "cell_type": "code",
   "execution_count": 176,
   "metadata": {},
   "outputs": [
    {
     "name": "stdout",
     "output_type": "stream",
     "text": [
      "3193\n",
      "3193\n",
      "3193\n"
     ]
    }
   ],
   "source": [
    "for call in labelfile.callID_new.values:    \n",
    "    # if not already assigned\n",
    "    if call not in pred_nonFocal.keys():\n",
    "        # all rows that concern this call\n",
    "        sub_df = f_nf.loc[(f_nf['call_a']==call) | (f_nf['call_b']==call),:]\n",
    "        # all matches of this call\n",
    "        \n",
    "        sub_df_matched = sub_df.loc[sub_df.dist_score<CUTOFF,:]\n",
    "        \n",
    "        # if call has  >1 match:\n",
    "        if sub_df_matched.shape[0]>1:\n",
    "            all_ids = (list(set(list(sub_df_matched.call_a.values)+list(sub_df_matched.call_b.values))))\n",
    "            all_partners = [x for x in all_ids if x != call]            \n",
    "            partner_assignments = [pred_nonFocal[x] for x in all_partners if x in pred_nonFocal.keys()]\n",
    "            \n",
    "            #  a) if at least 1 partner is assigned focal\n",
    "            # (at least one partner is assigned AND at least one is assigned as focal)\n",
    "            if ((len(partner_assignments)!=0) and (len([x for x in partner_assignments if x==0])>0)):\n",
    "                pred_nonFocal[call] = 1\n",
    "                why_pred[call] = \"match_with_a_focal\"\n",
    "                \n",
    "                focal_partner = [x for x in all_partners if ((x in pred_nonFocal.keys()) and (pred_nonFocal[x]==0))]\n",
    "                pred_comment[call] = focal_partner[0]\n",
    "            # b) no partner is assigned focal\n",
    "            else: \n",
    "                # b1) I am the strongest\n",
    "                if intense_dict[call]==np.max([intense_dict[x] for x in all_ids]):\n",
    "                    pred_nonFocal[call] = 0\n",
    "                    why_pred[call] = \"strongest_in_multiple\"\n",
    "                    pred_comment[call] = str(round(intense_dict[call],2))\n",
    "                # b2) I am not the strongest\n",
    "                else:\n",
    "                    pred_nonFocal[call] = 1\n",
    "                    why_pred[call] = \"not_strongest_in_multiple\"\n",
    "                    pred_comment[call] = str(round(intense_dict[call],2))+\" vs.\"+str(round(np.max([intense_dict[x] for x in all_ids]),2))\n",
    "                    \n",
    "                \n",
    "print(len(pred_nonFocal))\n",
    "print(len(why_pred))\n",
    "print(len(pred_comment))"
   ]
  },
  {
   "cell_type": "markdown",
   "metadata": {},
   "source": [
    "There should be no remainders"
   ]
  },
  {
   "cell_type": "code",
   "execution_count": null,
   "metadata": {},
   "outputs": [],
   "source": [
    "remainders = [x for x in labelfile.callID_new.values if x not in pred_nonFocal.keys()]\n",
    "print(len(remainders))"
   ]
  },
  {
   "cell_type": "markdown",
   "metadata": {},
   "source": [
    "# Save results"
   ]
  },
  {
   "cell_type": "code",
   "execution_count": 177,
   "metadata": {},
   "outputs": [],
   "source": [
    "labelfile['pred_nonFocal'] = [pred_nonFocal[x] for x in labelfile.callID_new]\n",
    "labelfile['pred_why'] = [why_pred[x] for x in labelfile.callID_new]\n",
    "labelfile['pred_comment'] = [pred_comment[x] for x in labelfile.callID_new]"
   ]
  },
  {
   "cell_type": "code",
   "execution_count": 178,
   "metadata": {},
   "outputs": [],
   "source": [
    "labelfile.to_pickle(OUTDIR+\"pred_labelfile.pkl\")"
   ]
  },
  {
   "cell_type": "code",
   "execution_count": 179,
   "metadata": {},
   "outputs": [
    {
     "data": {
      "text/plain": [
       "'/Volumes/MaraMeerkat/pred_labelfile.pkl'"
      ]
     },
     "execution_count": 179,
     "metadata": {},
     "output_type": "execute_result"
    }
   ],
   "source": [
    "OUTDIR+\"pred_labelfile.pkl\""
   ]
  },
  {
   "cell_type": "markdown",
   "metadata": {},
   "source": [
    "# Check performance"
   ]
  },
  {
   "cell_type": "code",
   "execution_count": 180,
   "metadata": {},
   "outputs": [
    {
     "data": {
      "text/plain": [
       "0    2338\n",
       "1     855\n",
       "Name: pred_nonFocal, dtype: int64"
      ]
     },
     "execution_count": 180,
     "metadata": {},
     "output_type": "execute_result"
    }
   ],
   "source": [
    "labelfile.pred_nonFocal.value_counts()"
   ]
  },
  {
   "cell_type": "code",
   "execution_count": 181,
   "metadata": {},
   "outputs": [
    {
     "data": {
      "text/html": [
       "<div>\n",
       "<style scoped>\n",
       "    .dataframe tbody tr th:only-of-type {\n",
       "        vertical-align: middle;\n",
       "    }\n",
       "\n",
       "    .dataframe tbody tr th {\n",
       "        vertical-align: top;\n",
       "    }\n",
       "\n",
       "    .dataframe thead th {\n",
       "        text-align: right;\n",
       "    }\n",
       "</style>\n",
       "<table border=\"1\" class=\"dataframe\">\n",
       "  <thead>\n",
       "    <tr style=\"text-align: right;\">\n",
       "      <th>pred_nonFocal</th>\n",
       "      <th>0</th>\n",
       "      <th>1</th>\n",
       "    </tr>\n",
       "    <tr>\n",
       "      <th>pred_why</th>\n",
       "      <th></th>\n",
       "      <th></th>\n",
       "    </tr>\n",
       "  </thead>\n",
       "  <tbody>\n",
       "    <tr>\n",
       "      <td>match_with_a_focal</td>\n",
       "      <td>0</td>\n",
       "      <td>77</td>\n",
       "    </tr>\n",
       "    <tr>\n",
       "      <td>no_match</td>\n",
       "      <td>1506</td>\n",
       "      <td>0</td>\n",
       "    </tr>\n",
       "    <tr>\n",
       "      <td>not_strongest_in_multiple</td>\n",
       "      <td>0</td>\n",
       "      <td>11</td>\n",
       "    </tr>\n",
       "    <tr>\n",
       "      <td>partner_assigned (stronger_1_match)</td>\n",
       "      <td>0</td>\n",
       "      <td>296</td>\n",
       "    </tr>\n",
       "    <tr>\n",
       "      <td>partner_assigned (weaker_1_match)</td>\n",
       "      <td>436</td>\n",
       "      <td>0</td>\n",
       "    </tr>\n",
       "    <tr>\n",
       "      <td>stronger_1_match</td>\n",
       "      <td>335</td>\n",
       "      <td>0</td>\n",
       "    </tr>\n",
       "    <tr>\n",
       "      <td>strongest_in_multiple</td>\n",
       "      <td>61</td>\n",
       "      <td>0</td>\n",
       "    </tr>\n",
       "    <tr>\n",
       "      <td>weaker_1_match</td>\n",
       "      <td>0</td>\n",
       "      <td>471</td>\n",
       "    </tr>\n",
       "  </tbody>\n",
       "</table>\n",
       "</div>"
      ],
      "text/plain": [
       "pred_nonFocal                           0    1\n",
       "pred_why                                      \n",
       "match_with_a_focal                      0   77\n",
       "no_match                             1506    0\n",
       "not_strongest_in_multiple               0   11\n",
       "partner_assigned (stronger_1_match)     0  296\n",
       "partner_assigned (weaker_1_match)     436    0\n",
       "stronger_1_match                      335    0\n",
       "strongest_in_multiple                  61    0\n",
       "weaker_1_match                          0  471"
      ]
     },
     "execution_count": 181,
     "metadata": {},
     "output_type": "execute_result"
    }
   ],
   "source": [
    "pd.crosstab(index=labelfile['pred_why'], columns=labelfile['pred_nonFocal'])"
   ]
  },
  {
   "cell_type": "markdown",
   "metadata": {},
   "source": [
    "## Visualize some examples"
   ]
  },
  {
   "cell_type": "code",
   "execution_count": 22,
   "metadata": {},
   "outputs": [
    {
     "name": "stdout",
     "output_type": "stream",
     "text": [
      "20170806_VHMM002_01_09_58_067_0_00_060_sn\n",
      "20170806_VHMM006_01_10_18_373_0_00_067_sn\n",
      "20170806_2_VLF206_00_25_43_078_0_00_049_sn\n"
     ]
    },
    {
     "data": {
      "image/png": "[encoded data removed]",
      "text/plain": [
       "<Figure size 720x720 with 3 Axes>"
      ]
     },
     "metadata": {
      "needs_background": "light"
     },
     "output_type": "display_data"
    }
   ],
   "source": [
    "example= random.choice(list(matches.keys()))\n",
    "example = '20170806_VHMM002_01_09_58_067_0_00_060_sn'\n",
    "spec = list(labelfile.loc[labelfile.callID_new==example,'denoised_spectrograms'])[0]\n",
    "neighbor_specs = [list(labelfile.loc[labelfile.callID_new==x,'denoised_spectrograms'])[0] for x in matches[example]]\n",
    "neighbor_names = matches[example]\n",
    "\n",
    "print(example)\n",
    "for x in neighbor_names:\n",
    "    print(x)\n",
    "\n",
    "# Make padded data\n",
    "maxlen= np.max([spec.shape[1] for spec in neighbor_specs]+[spec.shape[1]])\n",
    "padded_spec = pad_spectro(spec, maxlen)\n",
    "\n",
    "fig = plt.figure(figsize=(10,10))\n",
    "plt.subplot(len(matches[example])+1,2,1)\n",
    "plt.imshow(padded_spec, interpolation='nearest', origin='lower', aspect='equal')\n",
    "intenseness = str(round(intense_dict[example],2))\n",
    "entryname = labelfile.loc[labelfile.callID_new==example,'entryName'].values[0]\n",
    "pred = \"f\" if pred_nonFocal[example]==0 else \"nf\"\n",
    "predwhy = str(why_pred[example])\n",
    "title_string = \"ORIGINAL: \"+entryname+\";intense:\"+intenseness+\"; pred:\"+pred+\" (\"+predwhy+\")\"\n",
    "plt.title(title_string)\n",
    "\n",
    "p=2\n",
    "\n",
    "dists = []\n",
    "for neighbor_spec, neighbor_name in zip(neighbor_specs, neighbor_names):\n",
    "    padded_neighbor_spec = pad_spectro(neighbor_spec, maxlen)\n",
    "    \n",
    "    sub_df = f_nf.loc[(f_nf['call_a']==sorted([example, neighbor_name])[0]) | (f_nf['call_b']==sorted([example, neighbor_name])[0]),:]\n",
    "    dist = sub_df.dist_score.values[0]    \n",
    "    dist_str = \"same\" if dist<=0.4 else \"diff\"\n",
    "    \n",
    "    intenseness = str(round(intense_dict[neighbor_name],2))\n",
    "    entryname = labelfile.loc[labelfile.callID_new==neighbor_name,'entryName'].values[0]\n",
    "    pred = \"f\" if pred_nonFocal[neighbor_name]==0 else \"nf\"\n",
    "    predwhy = str(why_pred[neighbor_name])\n",
    "    \n",
    "    title_string = entryname+\";intense:\"+intenseness+\";\"+dist_str+\":\"+str(round(dist,2))+\"; pred:\"+pred+\" (\"+predwhy+\")\"   \n",
    "    plt.subplot(len(matches[example])+1,2, p)\n",
    "    plt.imshow(padded_neighbor_spec, interpolation='nearest', origin='lower', aspect='equal')\n",
    "    plt.title(title_string)\n",
    "    p=p+1\n",
    "\n",
    "plt.tight_layout() "
   ]
  },
  {
   "cell_type": "code",
   "execution_count": null,
   "metadata": {},
   "outputs": [],
   "source": [
    "audio = list(labelfile.loc[labelfile.callID_new==example,'raw_audio'])[0]\n",
    "sr = list(labelfile.loc[labelfile.callID_new==example,'samplerate_hz'])[0]\n",
    "Audio(data = audio, rate=sr)"
   ]
  },
  {
   "cell_type": "code",
   "execution_count": null,
   "metadata": {},
   "outputs": [],
   "source": [
    "nn = neighbor_names[0]\n",
    "nb_audio = list(labelfile.loc[labelfile.callID_new==nn,'raw_audio'])[0]\n",
    "nb_sr = list(labelfile.loc[labelfile.callID_new==nn,'samplerate_hz'])[0]\n",
    "Audio(data =nb_audio, rate=nb_sr) "
   ]
  }
 ],
 "metadata": {
  "kernelspec": {
   "display_name": "Python 3",
   "language": "python",
   "name": "python3"
  },
  "language_info": {
   "codemirror_mode": {
    "name": "ipython",
    "version": 3
   },
   "file_extension": ".py",
   "mimetype": "text/x-python",
   "name": "python",
   "nbconvert_exporter": "python",
   "pygments_lexer": "ipython3",
   "version": "3.7.4"
  }
 },
 "nbformat": 4,
 "nbformat_minor": 2
}
