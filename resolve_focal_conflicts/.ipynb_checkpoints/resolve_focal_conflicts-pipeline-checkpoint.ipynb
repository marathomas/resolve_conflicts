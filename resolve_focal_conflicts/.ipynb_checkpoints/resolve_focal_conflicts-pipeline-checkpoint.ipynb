{
 "cells": [
  {
   "cell_type": "markdown",
   "metadata": {},
   "source": [
    "# Resolve focal conflicts\n",
    "\n",
    "Script to detect conflicts in labeling (e.g. two calls that overlap in time and have both been labelled focal)"
   ]
  },
  {
   "cell_type": "markdown",
   "metadata": {},
   "source": [
    "# Libraries, Constants and Functions"
   ]
  },
  {
   "cell_type": "code",
   "execution_count": 1,
   "metadata": {},
   "outputs": [],
   "source": [
    "import pandas as pd\n",
    "import os\n",
    "import numpy as np\n",
    "import pickle\n",
    "import json\n",
    "\n",
    "from glob import glob\n",
    "from pandas.core.common import flatten\n",
    "\n",
    "from IPython.display import Audio\n",
    "import matplotlib.pyplot as plt\n",
    "from scipy.spatial import distance\n",
    "from scipy import stats\n",
    "\n",
    "import librosa\n",
    "import librosa.display\n",
    "\n",
    "import seaborn as sns\n",
    "import random"
   ]
  },
  {
   "cell_type": "code",
   "execution_count": 28,
   "metadata": {},
   "outputs": [],
   "source": [
    "HOME = \"/Users/marathomas/Documents/MPI_work/code\"\n",
    "OUTDIR = \"/Volumes/MaraMeerkat/\"\n",
    "#CANDIDATES_MATCHES = \"/Volumes/MaraMeerkat/usecase_matches.json\"\n",
    "#CANDIDATES_LABELFILE = \"/Volumes/MaraMeerkat/usecase_labelfile.pkl\"\n",
    "\n",
    "CANDIDATES_MATCHES = \"/Volumes/MaraMeerkat/candidates_matches.json\"\n",
    "CANDIDATES_LABELFILE = \"/Volumes/MaraMeerkat/candidates_labelfile.pkl\"\n",
    "\n",
    "FULL_LABELFILE = \"/Volumes/MaraMeerkat/full_labelfile.pkl\"\n",
    "\n",
    "\n",
    "MIN_OVERLAP = 0.9 # short spectrogram has to have at least MIN_OVERLAP with longer spectrogram\n",
    "MAX_F_SHIFT = 1 # max frequency shift allowed when comparing spectrograms (in mel bins)\n",
    "SR = 8000\n",
    "N_MELS=40\n",
    "CLIP_VAL = 0 # in denoised_spectrograms, set all values below clip_val to zero\n",
    "MEL_BINS_REMOVED_LOWER = 5 # remove lowest x=MEL_BINS_REMOVED mel bins from spectrograms\n",
    "MEL_BINS_REMOVED_UPPER = 5 # remove lowest x=MEL_BINS_REMOVED mel bins from spectrograms\n",
    "CUTOFF = 0.3 # cutoff score for same-different. Using a very conservative cutoff here in order to avoid false-positives\n",
    "             # I want to correct potential errors and not introduce new ones... thus only label nonfocal if I am pretty\n",
    "             # SURE that this call is the same as another one."
   ]
  },
  {
   "cell_type": "code",
   "execution_count": 32,
   "metadata": {},
   "outputs": [],
   "source": [
    "def pad_spectro(spec,maxlen):\n",
    "    padding = maxlen - spec.shape[1]\n",
    "    z = np.zeros((spec.shape[0],padding))\n",
    "    padded_spec=np.append(spec, z, axis=1)\n",
    "    return padded_spec\n",
    "\n",
    "def spec_dist(s_1, s_2):\n",
    "    \n",
    "    dist = np.sum((np.subtract(s_1, s_2)*np.subtract(s_1, s_2)), axis=None)\n",
    "    \n",
    "    # Normalize to random shuffling\n",
    "    random_dist = calc_random_dist(s_1,s_2)\n",
    "    norm_dist = dist / random_dist \n",
    "    \n",
    "    return norm_dist\n",
    "\n",
    "def calc_random_dist(s_1, s_2):\n",
    "    dists = []\n",
    "    s_1_shuffled = np.copy(s_1)\n",
    "    for i in range(10):\n",
    "        np.random.shuffle(s_1_shuffled)\n",
    "        dists.append(np.sum((np.subtract(s_1_shuffled, s_2)*np.subtract(s_1_shuffled, s_2)), axis=None)) \n",
    "    return(np.mean(dists))   \n",
    "\n",
    "def calc_mindist(spec_a, spec_b):\n",
    "    \n",
    "    # Find the bigger spec\n",
    "    spec_list = [spec_a, spec_b]\n",
    "    spec_lens = [s.shape[1] for s in spec_list]\n",
    "    \n",
    "    if spec_a.shape[1]==spec_b.shape[1]:\n",
    "        spec_s = spec_a\n",
    "        len_s = spec_s.shape[1]\n",
    "        spec_l = spec_b\n",
    "        len_l = len_s\n",
    "    else:\n",
    "        spec_s = spec_list[np.argmin(spec_lens)] # shorter spec\n",
    "        len_s = np.min(spec_lens)\n",
    "        spec_l = spec_list[np.argmax(spec_lens)] # longer spec\n",
    "        len_l = np.max(spec_lens)\n",
    "\n",
    "    # define start position\n",
    "    min_overlap_frames = int(MIN_OVERLAP * len_s)\n",
    "    start_timeline = min_overlap_frames-len_s\n",
    "    max_timeline = len_l - min_overlap_frames\n",
    "\n",
    "    distances = []\n",
    "\n",
    "    \n",
    "    for timeline_p in range(start_timeline, max_timeline+1):\n",
    "        # mismatch on left side\n",
    "        if timeline_p < 0:\n",
    "            start_col_l = 0\n",
    "            len_overlap = len_s - abs(timeline_p)\n",
    "\n",
    "            end_col_l = start_col_l + len_overlap\n",
    "\n",
    "            end_col_s = len_s # until the end\n",
    "            start_col_s = end_col_s - len_overlap\n",
    "\n",
    "        # mismatch on right side\n",
    "        elif timeline_p > (len_l-len_s):\n",
    "            start_col_l = timeline_p\n",
    "            len_overlap = len_l - timeline_p\n",
    "            end_col_l = len_l\n",
    "\n",
    "            start_col_s = 0\n",
    "            end_col_s = start_col_s + len_overlap\n",
    "\n",
    "        # no mismatch on either side\n",
    "        else:\n",
    "            start_col_l = timeline_p\n",
    "            len_overlap = len_s\n",
    "            end_col_l = start_col_l + len_overlap\n",
    "\n",
    "            start_col_s = 0\n",
    "            end_col_s = len_s # until the end\n",
    "\n",
    "        s_s = spec_s[:,start_col_s:end_col_s] \n",
    "        s_l = spec_l[:,start_col_l:end_col_l] \n",
    "        \n",
    "        distances.append(spec_dist(s_s, s_l))\n",
    "        \n",
    "        # Now do frequency shift\n",
    "        \n",
    "        # move smaller spec UP\n",
    "        for fshift in range(1,MAX_F_SHIFT):\n",
    "            s_s_fshifted = s_s[fshift:,:] # remove lowest freq row(s) from s_s\n",
    "            s_l_fshifted = s_l[:-fshift,:] # remove highest freq row(s) from s_l\n",
    "            \n",
    "            distances.append(spec_dist(s_s_fshifted, s_l_fshifted))\n",
    "\n",
    "        \n",
    "        # move smaller spec DOWN\n",
    "        for fshift in range(1,MAX_F_SHIFT):\n",
    "            s_s_fshifted = s_s[:-fshift,:] # remove highest freq row(s) from s_s\n",
    "            s_l_fshifted = s_l[fshift:,:]  # remove lowest freq row(s) from s_l\n",
    "            \n",
    "            distances.append(spec_dist(s_s_fshifted, s_l_fshifted))            \n",
    "        \n",
    "\n",
    "    min_dist = np.min(distances)\n",
    "    ind = np.arange(0, len(distances))[np.argmin(distances)]\n",
    "    return min_dist\n",
    "\n",
    "def preprocess_specs(spec, nb_spec):\n",
    "    \n",
    "    # Remove MEL_BINS_REMOVED_UPPER and -LOWER mels\n",
    "    spec = spec[MEL_BINS_REMOVED_LOWER:(N_MELS-MEL_BINS_REMOVED_UPPER),:]\n",
    "    nb_spec = nb_spec[MEL_BINS_REMOVED_LOWER:(N_MELS-MEL_BINS_REMOVED_UPPER),:]\n",
    "\n",
    "    # Clip values lower than CLIP_VAL to 0\n",
    "    spec = np.where(spec < CLIP_VAL, 0, spec)\n",
    "    nb_spec = np.where(nb_spec < CLIP_VAL, 0, nb_spec)\n",
    "\n",
    "    # Z-score normalize\n",
    "    spec = stats.zscore(spec, axis=None)\n",
    "    nb_spec = stats.zscore(nb_spec, axis=None)\n",
    "    \n",
    "    # Cap vals > 3 STD higher than mean (intense=intense)\n",
    "    spec = np.where(spec > 3, 3, spec)\n",
    "    nb_spec = np.where(nb_spec > 3, 3, nb_spec)\n",
    "    \n",
    "    #  Cap vals lower than mean to 0\n",
    "    spec = np.where(spec < 0, 0, spec)\n",
    "    nb_spec = np.where(nb_spec < 0, 0, nb_spec)\n",
    "    \n",
    "    return spec, nb_spec\n",
    "\n",
    "def calc_intense_score(spec):\n",
    "    # cutoff mels\n",
    "    spec = spec[MEL_BINS_REMOVED_LOWER:(N_MELS-MEL_BINS_REMOVED_UPPER),:]    \n",
    "    spec = np.where(spec < 10, 0, spec)\n",
    "    spec = np.where(spec >= 10, 1, spec)\n",
    "    \n",
    "    intense_score = np.sum(spec, axis=None)/(spec.shape[0]*spec.shape[1])  \n",
    "    \n",
    "    return intense_score\n",
    "\n",
    "def calc_spec_intense_score(spec):\n",
    "    # cutoff mels\n",
    "    spec = spec[MEL_BINS_REMOVED_LOWER:(N_MELS-MEL_BINS_REMOVED_UPPER),:] \n",
    "    spec = np.where(spec < 0, 0, spec)\n",
    "    spec = np.where(spec > 15, 100, spec)\n",
    "    intense_score = np.sum(spec, axis=None)/(spec.shape[0]*spec.shape[1])      \n",
    "    return intense_score\n",
    "\n",
    "\n",
    "def calc_audio_intense_score(audio):\n",
    "    intense_score = np.sum(np.abs(audio), axis=None)/audio.shape[0]\n",
    "    return intense_score"
   ]
  },
  {
   "cell_type": "markdown",
   "metadata": {},
   "source": [
    "# 1) Read in data"
   ]
  },
  {
   "cell_type": "code",
   "execution_count": 5,
   "metadata": {},
   "outputs": [
    {
     "data": {
      "text/plain": [
       "(3193, 34)"
      ]
     },
     "execution_count": 5,
     "metadata": {},
     "output_type": "execute_result"
    }
   ],
   "source": [
    "# labelfile of all potentially conflicting calls\n",
    "\n",
    "labelfile = pd.read_pickle(CANDIDATES_LABELFILE)\n",
    "labelfile.shape"
   ]
  },
  {
   "cell_type": "code",
   "execution_count": 6,
   "metadata": {},
   "outputs": [
    {
     "data": {
      "text/plain": [
       "(54386, 34)"
      ]
     },
     "execution_count": 6,
     "metadata": {},
     "output_type": "execute_result"
    }
   ],
   "source": [
    "# labelfile of all potentially conflicting calls\n",
    "\n",
    "full_labelfile = pd.read_pickle(FULL_LABELFILE)\n",
    "full_labelfile.shape"
   ]
  },
  {
   "cell_type": "code",
   "execution_count": 7,
   "metadata": {},
   "outputs": [],
   "source": [
    "# dictionary of calls and their potential conflicting partners\n",
    "\n",
    "with open(CANDIDATES_MATCHES, \"r\") as file:  \n",
    "    matches = json.load(file)"
   ]
  },
  {
   "cell_type": "code",
   "execution_count": 8,
   "metadata": {},
   "outputs": [
    {
     "data": {
      "text/plain": [
       "3193"
      ]
     },
     "execution_count": 8,
     "metadata": {},
     "output_type": "execute_result"
    }
   ],
   "source": [
    "len(matches)"
   ]
  },
  {
   "cell_type": "code",
   "execution_count": 10,
   "metadata": {},
   "outputs": [
    {
     "name": "stdout",
     "output_type": "stream",
     "text": [
      "1843\n"
     ]
    }
   ],
   "source": [
    "# list containing all pairs of calls\n",
    "# (non-redundant, i.e. does not contain both [x,y] and [y,x], but only [x,y])\n",
    "\n",
    "all_pairs = []\n",
    "\n",
    "for key in matches.keys():\n",
    "    for val in matches[key]:\n",
    "        if [val,key] not in all_pairs:\n",
    "            all_pairs.append([key, val])\n",
    "        \n",
    "print(len(all_pairs))"
   ]
  },
  {
   "cell_type": "markdown",
   "metadata": {},
   "source": [
    "## Calculate intense score"
   ]
  },
  {
   "cell_type": "markdown",
   "metadata": {},
   "source": [
    "### Normalized per recording"
   ]
  },
  {
   "cell_type": "markdown",
   "metadata": {},
   "source": [
    "This seems to be the obvious way to do it, but turns out it's better to use unnormalized intenseness scores."
   ]
  },
  {
   "cell_type": "code",
   "execution_count": 49,
   "metadata": {},
   "outputs": [],
   "source": [
    "#recordings = sorted(list(set(full_labelfile.wavFileName)))\n",
    "\n",
    "#df_list = []\n",
    "#for recording in recordings:\n",
    "    #print(recording)\n",
    "#    sub_df = full_labelfile.loc[full_labelfile.wavFileName==recording,:]\n",
    "#    spec_intense_scores = [calc_spec_intense_score(x) for x in sub_df.denoised_spectrograms.values]\n",
    "#    audio_intense_scores = [calc_audio_intense_score(x) for x in sub_df.raw_audio.values]\n",
    "\n",
    "#    total_intense_scores = [x*y for x,y in zip(spec_intense_scores, audio_intense_scores)]\n",
    "#    sub_df['intense_score'] = total_intense_scores\n",
    "#    norm_intense = stats.zscore(total_intense_scores, axis=None)\n",
    "#    sub_df['norm_intense'] = norm_intense\n",
    "#    df_list.append(sub_df)\n",
    "#full_labelfile = pd.concat(df_list, axis=0)"
   ]
  },
  {
   "cell_type": "code",
   "execution_count": 26,
   "metadata": {},
   "outputs": [
    {
     "data": {
      "image/png": "[encoded data removed]",
      "text/plain": [
       "<Figure size 432x288 with 1 Axes>"
      ]
     },
     "metadata": {
      "needs_background": "light"
     },
     "output_type": "display_data"
    }
   ],
   "source": [
    "#n, bins, patches = plt.hist(full_file.loc[full_file.nonFocal==0,:]['norm_intense'] , \n",
    "#                            color=\"blue\", label=\"Same\", alpha=0.6, bins=100)\n",
    "#n, bins, patches = plt.hist(full_file.loc[full_file.nonFocal==1,:]['norm_intense'] , \n",
    "#                            color=\"orange\", label=\"Different\", alpha=0.6, bins=100)"
   ]
  },
  {
   "cell_type": "markdown",
   "metadata": {},
   "source": [
    "### Normalize by call type"
   ]
  },
  {
   "cell_type": "markdown",
   "metadata": {},
   "source": [
    "This seems to be another good way to do it, but turns out it's better to use unnormalized intenseness scores."
   ]
  },
  {
   "cell_type": "code",
   "execution_count": null,
   "metadata": {},
   "outputs": [],
   "source": [
    "#calltypes = ['al', 'agg', 'cc', 'mo', 'ld', 'soc', 'sn']\n",
    "\n",
    "#df_list = []\n",
    "#for calltype in calltypes:\n",
    "#    print(calltype)\n",
    "#    sub_df = full_labelfile.loc[full_labelfile.callType==calltype,:]\n",
    "#    spec_intense_scores = [calc_spec_intense_score(x) for x in sub_df.denoised_spectrograms.values]\n",
    "#    audio_intense_scores = [calc_audio_intense_score(x) for x in sub_df.raw_audio.values]\n",
    "#    total_intense_scores = [x*y for x,y in zip(spec_intense_scores, audio_intense_scores)]\n",
    "#    norm_intense = stats.zscore(total_intense_scores, axis=None)\n",
    "#    sub_df['norm_intense'] = norm_intense\n",
    "#    df_list.append(sub_df)\n",
    "\n",
    "#sub_df = full_labelfile.loc[~full_labelfile['callType'].isin(calltypes),:]\n",
    "#spec_intense_scores = [calc_spec_intense_score(x) for x in sub_df.denoised_spectrograms.values]\n",
    "#audio_intense_scores = [calc_audio_intense_score(x) for x in sub_df.raw_audio.values]\n",
    "#total_intense_scores = [x*y for x,y in zip(spec_intense_scores, audio_intense_scores)]\n",
    "#norm_intense = stats.zscore(total_intense_scores, axis=None)\n",
    "#sub_df['norm_intense'] = norm_intense\n",
    "#df_list.append(sub_df)\n",
    "    \n",
    "#full_labelfile = pd.concat(df_list, axis=0)"
   ]
  },
  {
   "cell_type": "code",
   "execution_count": null,
   "metadata": {},
   "outputs": [],
   "source": [
    "#n, bins, patches = plt.hist(full_labelfile.loc[full_labelfile.nonFocal==0,:]['norm_intense'] , \n",
    "#                            color=\"blue\", label=\"Same\", alpha=0.6, bins=100)\n",
    "#n, bins, patches = plt.hist(full_labelfile.loc[full_labelfile.nonFocal==1,:]['norm_intense'] , \n",
    "#                            color=\"orange\", label=\"Different\", alpha=0.6, bins=100)"
   ]
  },
  {
   "cell_type": "markdown",
   "metadata": {},
   "source": [
    "### Unnormalized"
   ]
  },
  {
   "cell_type": "code",
   "execution_count": 33,
   "metadata": {},
   "outputs": [],
   "source": [
    "spec_intense_scores = [calc_spec_intense_score(x) for x in full_labelfile.denoised_spectrograms.values]\n",
    "audio_intense_scores = [calc_audio_intense_score(x) for x in full_labelfile.raw_audio.values]\n",
    "total_intense_scores = [x*y for x,y in zip(spec_intense_scores, audio_intense_scores)]\n",
    "full_labelfile['intense_score'] = total_intense_scores"
   ]
  },
  {
   "cell_type": "code",
   "execution_count": 34,
   "metadata": {},
   "outputs": [
    {
     "data": {
      "text/plain": [
       "(0, 4)"
      ]
     },
     "execution_count": 34,
     "metadata": {},
     "output_type": "execute_result"
    },
    {
     "data": {
      "image/png": "[encoded data removed]",
      "text/plain": [
       "<Figure size 432x288 with 1 Axes>"
      ]
     },
     "metadata": {
      "needs_background": "light"
     },
     "output_type": "display_data"
    }
   ],
   "source": [
    "n, bins, patches = plt.hist(full_labelfile.loc[full_labelfile.nonFocal==0,:]['intense_score'] , \n",
    "                            color=\"blue\", label=\"Same\", alpha=0.6, bins=100)\n",
    "n, bins, patches = plt.hist(full_labelfile.loc[full_labelfile.nonFocal==1,:]['intense_score'] , \n",
    "                            color=\"orange\", label=\"Different\", alpha=0.6, bins=100)\n",
    "plt.xlim(0,4)"
   ]
  },
  {
   "cell_type": "markdown",
   "metadata": {},
   "source": [
    "Add faint scores to labelfile"
   ]
  },
  {
   "cell_type": "code",
   "execution_count": 35,
   "metadata": {},
   "outputs": [],
   "source": [
    "intense_dict = dict(zip(full_labelfile.callID_new.values, full_labelfile.intense_score.values))\n",
    "labelfile['intense_score'] = [intense_dict[x] for x in labelfile.callID_new]"
   ]
  },
  {
   "cell_type": "markdown",
   "metadata": {},
   "source": [
    "## Define cutoff"
   ]
  },
  {
   "cell_type": "code",
   "execution_count": 37,
   "metadata": {},
   "outputs": [
    {
     "name": "stdout",
     "output_type": "stream",
     "text": [
      "0.010048856445799961\n",
      "2.230273290581067\n"
     ]
    }
   ],
   "source": [
    "FAINT_CUTOFF = np.percentile(np.asarray(full_labelfile.loc[full_labelfile.nonFocal==1,'intense_score']), 5)\n",
    "print(FAINT_CUTOFF)\n",
    "STRONG_CUTOFF = np.percentile(np.asarray(full_labelfile.loc[full_labelfile.nonFocal==0,'intense_score']), 95)\n",
    "print(STRONG_CUTOFF)"
   ]
  },
  {
   "cell_type": "markdown",
   "metadata": {},
   "source": [
    "### Calc dists"
   ]
  },
  {
   "cell_type": "code",
   "execution_count": 17,
   "metadata": {},
   "outputs": [],
   "source": [
    "spec_dict = dict(zip(labelfile.callID_new.values, labelfile.denoised_spectrograms.values))"
   ]
  },
  {
   "cell_type": "code",
   "execution_count": 18,
   "metadata": {},
   "outputs": [],
   "source": [
    "dists=[]\n",
    "\n",
    "for pair in all_pairs:\n",
    "    spec, nb_spec = preprocess_specs(spec_dict[pair[0]], spec_dict[pair[1]])\n",
    "    dist = calc_mindist(spec, nb_spec)\n",
    "    dists.append(dist)"
   ]
  },
  {
   "cell_type": "markdown",
   "metadata": {},
   "source": [
    "## Assign focal or nonfocal"
   ]
  },
  {
   "cell_type": "markdown",
   "metadata": {},
   "source": [
    "Make dataframe of all call pairs, their distance scores and faint scores."
   ]
  },
  {
   "cell_type": "code",
   "execution_count": 38,
   "metadata": {},
   "outputs": [
    {
     "data": {
      "text/html": [
       "<div>\n",
       "<style scoped>\n",
       "    .dataframe tbody tr th:only-of-type {\n",
       "        vertical-align: middle;\n",
       "    }\n",
       "\n",
       "    .dataframe tbody tr th {\n",
       "        vertical-align: top;\n",
       "    }\n",
       "\n",
       "    .dataframe thead th {\n",
       "        text-align: right;\n",
       "    }\n",
       "</style>\n",
       "<table border=\"1\" class=\"dataframe\">\n",
       "  <thead>\n",
       "    <tr style=\"text-align: right;\">\n",
       "      <th></th>\n",
       "      <th>call_a</th>\n",
       "      <th>call_b</th>\n",
       "      <th>dist_score</th>\n",
       "      <th>intense_a</th>\n",
       "      <th>intense_b</th>\n",
       "    </tr>\n",
       "  </thead>\n",
       "  <tbody>\n",
       "    <tr>\n",
       "      <td>0</td>\n",
       "      <td>20170806_VCVM001_01_11_05_400_0_00_065_sn</td>\n",
       "      <td>20170806_VHMM003_01_10_57_645_0_00_063_sn</td>\n",
       "      <td>0.648355</td>\n",
       "      <td>0.014940</td>\n",
       "      <td>1.198537</td>\n",
       "    </tr>\n",
       "    <tr>\n",
       "      <td>1</td>\n",
       "      <td>20170806_VCVM001_01_11_05_645_0_00_068_sn</td>\n",
       "      <td>20170806_VHMM003_01_10_57_887_0_00_071_sn</td>\n",
       "      <td>0.955351</td>\n",
       "      <td>0.046736</td>\n",
       "      <td>0.412277</td>\n",
       "    </tr>\n",
       "    <tr>\n",
       "      <td>2</td>\n",
       "      <td>20170806_VCVM001_01_11_05_880_0_00_062_sn</td>\n",
       "      <td>20170806_VHMM003_01_10_58_067_0_00_058_sn</td>\n",
       "      <td>0.536927</td>\n",
       "      <td>0.054092</td>\n",
       "      <td>0.948229</td>\n",
       "    </tr>\n",
       "    <tr>\n",
       "      <td>3</td>\n",
       "      <td>20170806_VCVM001_01_11_05_880_0_00_062_sn</td>\n",
       "      <td>20170806_VHMM003_01_10_58_153_0_00_069_sn</td>\n",
       "      <td>0.634421</td>\n",
       "      <td>0.054092</td>\n",
       "      <td>0.742683</td>\n",
       "    </tr>\n",
       "    <tr>\n",
       "      <td>4</td>\n",
       "      <td>20170806_VCVM001_01_12_26_129_0_00_064_sn_x</td>\n",
       "      <td>20170806_VHMM002_01_12_08_899_0_00_066_sn</td>\n",
       "      <td>1.059141</td>\n",
       "      <td>0.087846</td>\n",
       "      <td>0.145992</td>\n",
       "    </tr>\n",
       "    <tr>\n",
       "      <td>...</td>\n",
       "      <td>...</td>\n",
       "      <td>...</td>\n",
       "      <td>...</td>\n",
       "      <td>...</td>\n",
       "      <td>...</td>\n",
       "    </tr>\n",
       "    <tr>\n",
       "      <td>1838</td>\n",
       "      <td>20190719_VHMM017_01_18_54_428_0_00_161_cc</td>\n",
       "      <td>20190719_VHMM023_01_19_36_532_0_00_147_cc</td>\n",
       "      <td>0.505213</td>\n",
       "      <td>0.342398</td>\n",
       "      <td>1.160400</td>\n",
       "    </tr>\n",
       "    <tr>\n",
       "      <td>1839</td>\n",
       "      <td>20190719_VHMM021_01_19_42_491_0_00_172_cc</td>\n",
       "      <td>20190719_VHMM023_01_20_05_843_0_00_161_cc</td>\n",
       "      <td>0.354899</td>\n",
       "      <td>1.163698</td>\n",
       "      <td>0.740246</td>\n",
       "    </tr>\n",
       "    <tr>\n",
       "      <td>1840</td>\n",
       "      <td>20190719_VHMM021_01_20_07_584_0_00_146_cc</td>\n",
       "      <td>20190719_VHMM023_01_20_31_056_0_00_123_cc</td>\n",
       "      <td>0.504031</td>\n",
       "      <td>0.951883</td>\n",
       "      <td>1.092899</td>\n",
       "    </tr>\n",
       "    <tr>\n",
       "      <td>1841</td>\n",
       "      <td>20190719_VHMM021_01_20_21_300_0_00_123_cc</td>\n",
       "      <td>20190719_VHMM023_01_20_44_677_0_00_150_cc</td>\n",
       "      <td>0.255138</td>\n",
       "      <td>1.181925</td>\n",
       "      <td>0.533275</td>\n",
       "    </tr>\n",
       "    <tr>\n",
       "      <td>1842</td>\n",
       "      <td>20190719_VHMM021_01_28_29_568_0_00_165_cc</td>\n",
       "      <td>20190719_VHMM023_01_28_52_214_0_00_159_cc</td>\n",
       "      <td>0.234040</td>\n",
       "      <td>0.934555</td>\n",
       "      <td>0.591248</td>\n",
       "    </tr>\n",
       "  </tbody>\n",
       "</table>\n",
       "<p>1843 rows × 5 columns</p>\n",
       "</div>"
      ],
      "text/plain": [
       "                                           call_a  \\\n",
       "0       20170806_VCVM001_01_11_05_400_0_00_065_sn   \n",
       "1       20170806_VCVM001_01_11_05_645_0_00_068_sn   \n",
       "2       20170806_VCVM001_01_11_05_880_0_00_062_sn   \n",
       "3       20170806_VCVM001_01_11_05_880_0_00_062_sn   \n",
       "4     20170806_VCVM001_01_12_26_129_0_00_064_sn_x   \n",
       "...                                           ...   \n",
       "1838    20190719_VHMM017_01_18_54_428_0_00_161_cc   \n",
       "1839    20190719_VHMM021_01_19_42_491_0_00_172_cc   \n",
       "1840    20190719_VHMM021_01_20_07_584_0_00_146_cc   \n",
       "1841    20190719_VHMM021_01_20_21_300_0_00_123_cc   \n",
       "1842    20190719_VHMM021_01_28_29_568_0_00_165_cc   \n",
       "\n",
       "                                         call_b  dist_score  intense_a  \\\n",
       "0     20170806_VHMM003_01_10_57_645_0_00_063_sn    0.648355   0.014940   \n",
       "1     20170806_VHMM003_01_10_57_887_0_00_071_sn    0.955351   0.046736   \n",
       "2     20170806_VHMM003_01_10_58_067_0_00_058_sn    0.536927   0.054092   \n",
       "3     20170806_VHMM003_01_10_58_153_0_00_069_sn    0.634421   0.054092   \n",
       "4     20170806_VHMM002_01_12_08_899_0_00_066_sn    1.059141   0.087846   \n",
       "...                                         ...         ...        ...   \n",
       "1838  20190719_VHMM023_01_19_36_532_0_00_147_cc    0.505213   0.342398   \n",
       "1839  20190719_VHMM023_01_20_05_843_0_00_161_cc    0.354899   1.163698   \n",
       "1840  20190719_VHMM023_01_20_31_056_0_00_123_cc    0.504031   0.951883   \n",
       "1841  20190719_VHMM023_01_20_44_677_0_00_150_cc    0.255138   1.181925   \n",
       "1842  20190719_VHMM023_01_28_52_214_0_00_159_cc    0.234040   0.934555   \n",
       "\n",
       "      intense_b  \n",
       "0      1.198537  \n",
       "1      0.412277  \n",
       "2      0.948229  \n",
       "3      0.742683  \n",
       "4      0.145992  \n",
       "...         ...  \n",
       "1838   1.160400  \n",
       "1839   0.740246  \n",
       "1840   1.092899  \n",
       "1841   0.533275  \n",
       "1842   0.591248  \n",
       "\n",
       "[1843 rows x 5 columns]"
      ]
     },
     "execution_count": 38,
     "metadata": {},
     "output_type": "execute_result"
    }
   ],
   "source": [
    "f_nf = pd.DataFrame({'call_a': [x[0] for x in all_pairs],\n",
    "                    'call_b' : [x[1] for x in all_pairs],\n",
    "                    'dist_score' : dists})\n",
    "\n",
    "f_nf['intense_a'] = [intense_dict[x] for x in f_nf.call_a]\n",
    "f_nf['intense_b'] = [intense_dict[x] for x in f_nf.call_b]\n",
    "f_nf"
   ]
  },
  {
   "cell_type": "code",
   "execution_count": 20,
   "metadata": {},
   "outputs": [],
   "source": [
    "def which_call_am_I(call,sub_df):\n",
    "    \n",
    "    if call==sub_df.call_a.values[0]:\n",
    "        call=\"a\"\n",
    "        other=\"b\"\n",
    "    elif call==sub_df.call_b.values[0]:\n",
    "        call=\"b\"\n",
    "        other=\"a\"\n",
    "    \n",
    "    return call, other"
   ]
  },
  {
   "cell_type": "markdown",
   "metadata": {},
   "source": [
    "Then assign calls focal or noncal following these hierarchical steps:\n",
    "\n",
    "- 1) Assignment based on faintness along\n",
    "- 2) Assignment of calls with no high fidelity match (e.g. that were not recognized as \"same-call\")\n",
    "- 3) Assignment of calls that have only one high fidelity match\n",
    "- 4) Assignment of calls that have multiple high fidelity matches"
   ]
  },
  {
   "cell_type": "markdown",
   "metadata": {},
   "source": [
    "### 1) Case: Assignment based on intensity alone\n",
    "\n",
    "Assignment based on intensity cutoffs. Some clearly focal, some clearly nonfocal."
   ]
  },
  {
   "cell_type": "code",
   "execution_count": 39,
   "metadata": {},
   "outputs": [
    {
     "name": "stdout",
     "output_type": "stream",
     "text": [
      "285\n",
      "285\n"
     ]
    }
   ],
   "source": [
    "very_faint = labelfile.loc[labelfile.intense_score<=FAINT_CUTOFF,:]\n",
    "pred_nonFocal=dict(zip(very_faint.callID_new, [1]*very_faint.shape[0]))\n",
    "why_pred = dict(zip(very_faint.callID_new, [\"intense_low\"]*very_faint.shape[0]))\n",
    "\n",
    "very_strong = labelfile.loc[labelfile.intense_score>=STRONG_CUTOFF,:]\n",
    "\n",
    "for call in very_strong.callID_new:\n",
    "    pred_nonFocal[call] = 0\n",
    "    why_pred[call] = \"intense_high\"\n",
    "\n",
    "print(len(pred_nonFocal))\n",
    "print(len(why_pred))"
   ]
  },
  {
   "cell_type": "markdown",
   "metadata": {},
   "source": [
    "### 2) Case: Calls with no high fidelity match\n",
    "\n",
    "--> can be assigned focal"
   ]
  },
  {
   "cell_type": "code",
   "execution_count": 40,
   "metadata": {},
   "outputs": [
    {
     "name": "stdout",
     "output_type": "stream",
     "text": [
      "1574\n",
      "1574\n"
     ]
    }
   ],
   "source": [
    "for call in labelfile.callID_new.values:    \n",
    "    # if not already assigned\n",
    "    if call not in pred_nonFocal.keys():\n",
    "        # all rows that concern this call\n",
    "        sub_df = f_nf.loc[(f_nf['call_a']==call) | (f_nf['call_b']==call),:]\n",
    "        # all matches of this call        \n",
    "        sub_df_matched = sub_df.loc[sub_df.dist_score<CUTOFF,:]\n",
    "        \n",
    "        # if call has no matches!:\n",
    "        if sub_df_matched.shape[0]==0:\n",
    "            pred_nonFocal[call] = 0\n",
    "            why_pred[call] = \"no_match\"\n",
    "\n",
    "print(len(pred_nonFocal))\n",
    "print(len(why_pred))"
   ]
  },
  {
   "cell_type": "markdown",
   "metadata": {},
   "source": [
    "### 3) Case: Only 1 high fidelity match "
   ]
  },
  {
   "cell_type": "markdown",
   "metadata": {},
   "source": [
    "    3a) the match partner is already assigned f/nf or\n",
    "        -->  assign call to the opposite\n",
    "\n",
    "    3b) match partner is not yet assigned\n",
    "         --> assign to nf if weaker, assign to f if stronger "
   ]
  },
  {
   "cell_type": "code",
   "execution_count": 41,
   "metadata": {},
   "outputs": [
    {
     "name": "stdout",
     "output_type": "stream",
     "text": [
      "3042\n",
      "3042\n"
     ]
    }
   ],
   "source": [
    "for call in labelfile.callID_new.values:    \n",
    "    # if not already assigned\n",
    "    if call not in pred_nonFocal.keys():\n",
    "        # all rows that concern this call\n",
    "        sub_df = f_nf.loc[(f_nf['call_a']==call) | (f_nf['call_b']==call),:]\n",
    "        # all matches of this call\n",
    "        \n",
    "        sub_df_matched = sub_df.loc[sub_df.dist_score<CUTOFF,:]\n",
    "        \n",
    "        # if call has exactly 1 match:\n",
    "        if sub_df_matched.shape[0]==1:\n",
    "            me, other = which_call_am_I(call, sub_df)\n",
    "            other_call = sub_df['call_'+other].values[0] \n",
    "            \n",
    "            # if partner already assigned\n",
    "            if other_call in pred_nonFocal.keys():\n",
    "                # assign to opposite\n",
    "                pred_nonFocal[call] = np.abs(1-pred_nonFocal[sub_df['call_'+other].values[0]])\n",
    "                why_pred[call] = \"partner_assigned\"\n",
    "                \n",
    "            # if partner not already assigned   \n",
    "            else:\n",
    "                # if weaker, assign nonfocal\n",
    "                if intense_dict[call]<=intense_dict[other_call]:\n",
    "                    pred_nonFocal[call] = 1\n",
    "                    why_pred[call] = \"weaker_1_match\"\n",
    "                # if stronger, assign focal\n",
    "                else:\n",
    "                    pred_nonFocal[call] = 0\n",
    "                    why_pred[call] = \"stronger_1_match\"\n",
    "            \n",
    "print(len(pred_nonFocal))\n",
    "print(len(why_pred))"
   ]
  },
  {
   "cell_type": "markdown",
   "metadata": {},
   "source": [
    "### 4)  Case: Multiple high fidelity matches\n",
    "\n",
    "    4a) of which at least ONE (should be only one) is already known to be the focal one\n",
    "        -->  assign call to nonfocal\n",
    "\n",
    "    4b) of which NONE is known to be focal, but\n",
    "\n",
    "        4b1) I am the strongest\n",
    "            --> assign call to focal\n",
    "\n",
    "        4b2) I am not the strongest\n",
    "            --> assign call to nonfocal"
   ]
  },
  {
   "cell_type": "code",
   "execution_count": 42,
   "metadata": {},
   "outputs": [
    {
     "name": "stdout",
     "output_type": "stream",
     "text": [
      "3193\n",
      "3193\n"
     ]
    }
   ],
   "source": [
    "for call in labelfile.callID_new.values:    \n",
    "    # if not already assigned\n",
    "    if call not in pred_nonFocal.keys():\n",
    "        # all rows that concern this call\n",
    "        sub_df = f_nf.loc[(f_nf['call_a']==call) | (f_nf['call_b']==call),:]\n",
    "        # all matches of this call\n",
    "        \n",
    "        sub_df_matched = sub_df.loc[sub_df.dist_score<CUTOFF,:]\n",
    "        \n",
    "        # if call has  >1 match:\n",
    "        if sub_df_matched.shape[0]>1:\n",
    "            all_ids = (list(set(list(sub_df.call_a.values)+list(sub_df.call_b.values))))\n",
    "            all_partners = [x for x in all_ids if x != call]            \n",
    "            partner_assignments = [pred_nonFocal[x] for x in all_partners if x in pred_nonFocal.keys()]\n",
    "            \n",
    "            #  a) if at least 1 partner is assigned focal\n",
    "            # (at least one partner is assigned AND at least one is assigned as focal)\n",
    "            if ((len(partner_assignments)!=0) and (len([x for x in partner_assignments if x==0])>0)):\n",
    "                pred_nonFocal[call] = 1\n",
    "                why_pred[call] = \"match_with_a_focal\"\n",
    "            # b) no partner is assigned focal\n",
    "            else: \n",
    "                # b1) I am the strongest\n",
    "                if intense_dict[call]==np.max([intense_dict[x] for x in all_ids]):\n",
    "                    pred_nonFocal[call] = 0\n",
    "                    why_pred[call] = \"strongest_in_multiple\"\n",
    "                # b2) I am not the strongest\n",
    "                else:\n",
    "                    pred_nonFocal[call] = 1\n",
    "                    why_pred[call] = \"not_strongest_in_multiple\"\n",
    "                    \n",
    "                \n",
    "print(len(pred_nonFocal))\n",
    "print(len(why_pred))"
   ]
  },
  {
   "cell_type": "markdown",
   "metadata": {},
   "source": [
    "There should be no remainders"
   ]
  },
  {
   "cell_type": "code",
   "execution_count": 43,
   "metadata": {},
   "outputs": [
    {
     "name": "stdout",
     "output_type": "stream",
     "text": [
      "0\n"
     ]
    }
   ],
   "source": [
    "remainders = [x for x in labelfile.callID_new.values if x not in pred_nonFocal.keys()]\n",
    "print(len(remainders))"
   ]
  },
  {
   "cell_type": "markdown",
   "metadata": {},
   "source": [
    "# Save results"
   ]
  },
  {
   "cell_type": "code",
   "execution_count": 44,
   "metadata": {},
   "outputs": [],
   "source": [
    "labelfile['pred_nonFocal'] = [pred_nonFocal[x] for x in labelfile.callID_new]\n",
    "labelfile['pred_why'] = [why_pred[x] for x in labelfile.callID_new]"
   ]
  },
  {
   "cell_type": "code",
   "execution_count": 27,
   "metadata": {},
   "outputs": [],
   "source": [
    "labelfile.to_pickle(OUTDIR+\"pred_labelfile.pkl\")"
   ]
  },
  {
   "cell_type": "markdown",
   "metadata": {},
   "source": [
    "# Check performance"
   ]
  },
  {
   "cell_type": "code",
   "execution_count": 45,
   "metadata": {},
   "outputs": [
    {
     "data": {
      "text/plain": [
       "0    2254\n",
       "1     939\n",
       "Name: pred_nonFocal, dtype: int64"
      ]
     },
     "execution_count": 45,
     "metadata": {},
     "output_type": "execute_result"
    }
   ],
   "source": [
    "labelfile.pred_nonFocal.value_counts()"
   ]
  },
  {
   "cell_type": "code",
   "execution_count": 46,
   "metadata": {},
   "outputs": [
    {
     "name": "stdout",
     "output_type": "stream",
     "text": [
      "different\n",
      "0.7566278\n",
      "same\n",
      "0.011565101\n",
      "same\n",
      "0.20099379\n"
     ]
    },
    {
     "data": {
      "image/png": "[encoded data removed]",
      "text/plain": [
       "<Figure size 720x720 with 6 Axes>"
      ]
     },
     "metadata": {
      "needs_background": "light"
     },
     "output_type": "display_data"
    }
   ],
   "source": [
    "# Visualize some examples\n",
    "\n",
    "random_pairs = random.sample(all_pairs, 3)\n",
    "ids_a = [x[0] for x in random_pairs]\n",
    "ids_b = [x[1] for x in random_pairs]\n",
    "\n",
    "specs_a = [spec_dict[x] for x in ids_a]\n",
    "specs_b = [spec_dict[x] for x in ids_b]\n",
    "\n",
    "\n",
    "#entryNames = random_subset.entryName.values\n",
    "fig = plt.figure(figsize=(10,10))\n",
    "\n",
    "p=1\n",
    "\n",
    "for i in range(3):\n",
    "    spec, nb_spec = preprocess_specs(specs_a[i], specs_b[i])\n",
    "    dist = calc_mindist(spec, nb_spec)\n",
    "    if dist<0.4:\n",
    "        print(\"same\")\n",
    "    else:\n",
    "        print(\"different\")\n",
    "    print(dist)\n",
    "    plt.subplot(3, 2, p)\n",
    "    plt.imshow(specs_a[i], interpolation='nearest', origin='lower', aspect='equal')\n",
    "    prediction = labelfile.loc[labelfile['callID_new']==ids_a[i],'pred_nonFocal'].values[0]\n",
    "    why = labelfile.loc[labelfile['callID_new']==ids_a[i],'pred_why'].values[0]\n",
    "    plt.title(str(prediction)+\" (\"+why+\")\")\n",
    "    plt.subplot(3, 2, p+1)\n",
    "    plt.imshow(specs_b[i], interpolation='nearest', origin='lower', aspect='equal')\n",
    "    prediction = labelfile.loc[labelfile['callID_new']==ids_b[i],'pred_nonFocal'].values[0]\n",
    "    why = labelfile.loc[labelfile['callID_new']==ids_b[i],'pred_why'].values[0]\n",
    "    plt.title(str(prediction)+\" (\"+why+\")\")\n",
    "    p = p + 2"
   ]
  },
  {
   "cell_type": "code",
   "execution_count": 47,
   "metadata": {},
   "outputs": [
    {
     "data": {
      "text/html": [
       "<div>\n",
       "<style scoped>\n",
       "    .dataframe tbody tr th:only-of-type {\n",
       "        vertical-align: middle;\n",
       "    }\n",
       "\n",
       "    .dataframe tbody tr th {\n",
       "        vertical-align: top;\n",
       "    }\n",
       "\n",
       "    .dataframe thead th {\n",
       "        text-align: right;\n",
       "    }\n",
       "</style>\n",
       "<table border=\"1\" class=\"dataframe\">\n",
       "  <thead>\n",
       "    <tr style=\"text-align: right;\">\n",
       "      <th>pred_nonFocal</th>\n",
       "      <th>0</th>\n",
       "      <th>1</th>\n",
       "    </tr>\n",
       "    <tr>\n",
       "      <th>pred_why</th>\n",
       "      <th></th>\n",
       "      <th></th>\n",
       "    </tr>\n",
       "  </thead>\n",
       "  <tbody>\n",
       "    <tr>\n",
       "      <td>intense_high</td>\n",
       "      <td>280</td>\n",
       "      <td>0</td>\n",
       "    </tr>\n",
       "    <tr>\n",
       "      <td>intense_low</td>\n",
       "      <td>0</td>\n",
       "      <td>5</td>\n",
       "    </tr>\n",
       "    <tr>\n",
       "      <td>match_with_a_focal</td>\n",
       "      <td>0</td>\n",
       "      <td>99</td>\n",
       "    </tr>\n",
       "    <tr>\n",
       "      <td>no_match</td>\n",
       "      <td>1289</td>\n",
       "      <td>0</td>\n",
       "    </tr>\n",
       "    <tr>\n",
       "      <td>not_strongest_in_multiple</td>\n",
       "      <td>0</td>\n",
       "      <td>9</td>\n",
       "    </tr>\n",
       "    <tr>\n",
       "      <td>partner_assigned</td>\n",
       "      <td>359</td>\n",
       "      <td>439</td>\n",
       "    </tr>\n",
       "    <tr>\n",
       "      <td>stronger_1_match</td>\n",
       "      <td>283</td>\n",
       "      <td>0</td>\n",
       "    </tr>\n",
       "    <tr>\n",
       "      <td>strongest_in_multiple</td>\n",
       "      <td>43</td>\n",
       "      <td>0</td>\n",
       "    </tr>\n",
       "    <tr>\n",
       "      <td>weaker_1_match</td>\n",
       "      <td>0</td>\n",
       "      <td>387</td>\n",
       "    </tr>\n",
       "  </tbody>\n",
       "</table>\n",
       "</div>"
      ],
      "text/plain": [
       "pred_nonFocal                 0    1\n",
       "pred_why                            \n",
       "intense_high                280    0\n",
       "intense_low                   0    5\n",
       "match_with_a_focal            0   99\n",
       "no_match                   1289    0\n",
       "not_strongest_in_multiple     0    9\n",
       "partner_assigned            359  439\n",
       "stronger_1_match            283    0\n",
       "strongest_in_multiple        43    0\n",
       "weaker_1_match                0  387"
      ]
     },
     "execution_count": 47,
     "metadata": {},
     "output_type": "execute_result"
    }
   ],
   "source": [
    "pd.crosstab(index=labelfile['pred_why'], columns=labelfile['pred_nonFocal'])"
   ]
  },
  {
   "cell_type": "code",
   "execution_count": 50,
   "metadata": {},
   "outputs": [
    {
     "name": "stdout",
     "output_type": "stream",
     "text": [
      "20170825_3_VHMM003_00_42_48_251_0_00_169_cc\n",
      "20170825_2_VLF206_00_09_58_248_0_00_175_cc\n"
     ]
    },
    {
     "data": {
      "image/png": "[encoded data removed]",
      "text/plain": [
       "<Figure size 720x720 with 2 Axes>"
      ]
     },
     "metadata": {
      "needs_background": "light"
     },
     "output_type": "display_data"
    }
   ],
   "source": [
    "example= random.choice(list(matches.keys()))\n",
    "\n",
    "spec = list(labelfile.loc[labelfile.callID_new==example,'denoised_spectrograms'])[0]\n",
    "neighbor_specs = [list(labelfile.loc[labelfile.callID_new==x,'denoised_spectrograms'])[0] for x in matches_for_all_calls[example]]\n",
    "neighbor_names = matches_for_all_calls[example]\n",
    "\n",
    "print(example)\n",
    "for x in neighbor_names:\n",
    "    print(x)\n",
    "\n",
    "# Make padded data\n",
    "maxlen= np.max([spec.shape[1] for spec in neighbor_specs]+[spec.shape[1]])\n",
    "padded_spec = pad_spectro(spec, maxlen)\n",
    "\n",
    "fig = plt.figure(figsize=(10,10))\n",
    "plt.subplot(len(matches_for_all_calls[example])+1,2,1)\n",
    "plt.imshow(padded_spec, interpolation='nearest', origin='lower', aspect='equal')\n",
    "intenseness = str(round(intense_dict[example],2))\n",
    "entryname = labelfile.loc[labelfile.callID_new==example,'entryName'].values[0]\n",
    "pred = \"f\" if pred_nonFocal[example]==0 else \"nf\"\n",
    "predwhy = str(why_pred[example])\n",
    "title_string = \"ORIGINAL: \"+entryname+\";intense:\"+intenseness+\"; pred:\"+pred+\" (\"+predwhy+\")\"\n",
    "plt.title(title_string)\n",
    "\n",
    "p=2\n",
    "\n",
    "dists = []\n",
    "for neighbor_spec, neighbor_name in zip(neighbor_specs, neighbor_names):\n",
    "    padded_neighbor_spec = pad_spectro(neighbor_spec, maxlen)\n",
    "    pr_spec, pr_neighbor_spec = preprocess_specs(spec, neighbor_spec)\n",
    "    \n",
    "    dist = calc_mindist(spec, neighbor_spec)\n",
    "    dist_str = \"same\" if dist<=0.4 else \"diff\"\n",
    "    \n",
    "    intenseness = str(round(intense_dict[neighbor_name],2))\n",
    "    entryname = labelfile.loc[labelfile.callID_new==neighbor_name,'entryName'].values[0]\n",
    "    pred = \"f\" if pred_nonFocal[neighbor_name]==0 else \"nf\"\n",
    "    predwhy = str(why_pred[neighbor_name])\n",
    "    \n",
    "    title_string = entryname+\";intense:\"+intenseness+\";\"+dist_str+\":\"+str(round(dist,2))+\"; pred:\"+pred+\" (\"+predwhy+\")\"   \n",
    "    plt.subplot(len(matches_for_all_calls[example])+1,2, p)\n",
    "    plt.imshow(padded_neighbor_spec, interpolation='nearest', origin='lower', aspect='equal')\n",
    "    plt.title(title_string)\n",
    "    p=p+1\n",
    "\n",
    "plt.tight_layout() "
   ]
  },
  {
   "cell_type": "code",
   "execution_count": 51,
   "metadata": {},
   "outputs": [
    {
     "data": {
      "text/html": [
       "\n",
       "                <audio  controls=\"controls\" >\n",
       "                    <source src=\"data:audio/wav;base64,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\" type=\"audio/wav\" />\n",
       "                    Your browser does not support the audio element.\n",
       "                </audio>\n",
       "              "
      ],
      "text/plain": [
       "<IPython.lib.display.Audio object>"
      ]
     },
     "execution_count": 51,
     "metadata": {},
     "output_type": "execute_result"
    }
   ],
   "source": [
    "audio = list(labelfile.loc[labelfile.callID_new==example,'raw_audio'])[0]\n",
    "sr = list(labelfile.loc[labelfile.callID_new==example,'samplerate_hz'])[0]\n",
    "Audio(data = audio, rate=sr)"
   ]
  },
  {
   "cell_type": "code",
   "execution_count": 86,
   "metadata": {},
   "outputs": [
    {
     "data": {
      "text/html": [
       "\n",
       "                <audio  controls=\"controls\" >\n",
       "                    <source src=\"data:audio/wav;base64,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\" type=\"audio/wav\" />\n",
       "                    Your browser does not support the audio element.\n",
       "                </audio>\n",
       "              "
      ],
      "text/plain": [
       "<IPython.lib.display.Audio object>"
      ]
     },
     "execution_count": 86,
     "metadata": {},
     "output_type": "execute_result"
    }
   ],
   "source": [
    "nn = neighbor_names[0]\n",
    "nb_audio = list(labelfile.loc[labelfile.callID_new==nn,'raw_audio'])[0]\n",
    "nb_sr = list(labelfile.loc[labelfile.callID_new==nn,'samplerate_hz'])[0]\n",
    "Audio(data =nb_audio, rate=nb_sr) "
   ]
  }
 ],
 "metadata": {
  "kernelspec": {
   "display_name": "Python 3",
   "language": "python",
   "name": "python3"
  },
  "language_info": {
   "codemirror_mode": {
    "name": "ipython",
    "version": 3
   },
   "file_extension": ".py",
   "mimetype": "text/x-python",
   "name": "python",
   "nbconvert_exporter": "python",
   "pygments_lexer": "ipython3",
   "version": "3.7.4"
  }
 },
 "nbformat": 4,
 "nbformat_minor": 2
}
