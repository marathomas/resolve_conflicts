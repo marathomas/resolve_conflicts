{
 "cells": [
  {
   "cell_type": "markdown",
   "metadata": {},
   "source": [
    "# Resolve focal conflicts\n",
    "\n",
    "Script to detect conflicts in labeling (e.g. two calls that overlap in time and have both been labelled focal)"
   ]
  },
  {
   "cell_type": "code",
   "execution_count": 1,
   "metadata": {},
   "outputs": [],
   "source": [
    "import pandas as pd\n",
    "import os\n",
    "import numpy as np\n",
    "import pickle\n",
    "import json\n",
    "from scipy import stats\n",
    "import matplotlib.pyplot as plt\n",
    "import random\n",
    "import math"
   ]
  },
  {
   "cell_type": "code",
   "execution_count": 2,
   "metadata": {},
   "outputs": [],
   "source": [
    "HOME = \"/Users/marathomas/Documents/MPI_work/code\"\n",
    "OUTDIR = \"/Volumes/MaraMeerkat/\"\n",
    "\n",
    "# these should have been generated with 01_identify_focal_conflicts\n",
    "CANDIDATES_MATCHES = \"/Volumes/MaraMeerkat/candidates_matches.json\"\n",
    "CANDIDATES_LABELFILE = \"/Volumes/MaraMeerkat/candidates_labelfile.pkl\"\n",
    "\n",
    "# need full labelfile because intensity thresholds for focal/nonfocal calls\n",
    "# are assigned based on 95% percentiles in full dataset\n",
    "FULL_LABELFILE = \"/Volumes/MaraMeerkat/full_labelfile.pkl\"\n",
    "\n",
    "# File that contains distance scores between call pairs\n",
    "# generated with 02_assign_distances\n",
    "F_NF_FILE = '/Volumes/MaraMeerkat/f_nf.csv'\n",
    "\n",
    "\n",
    "N_MELS=40\n",
    "CLIP_VAL = 0 # in denoised_spectrograms, set all values below clip_val to zero\n",
    "MEL_BINS_REMOVED_LOWER = 5 # remove lowest x=MEL_BINS_REMOVED mel bins from spectrograms\n",
    "MEL_BINS_REMOVED_UPPER = 5 # remove lowest x=MEL_BINS_REMOVED mel bins from spectrograms\n",
    "CUTOFF = 0.25 # cutoff score for same-different. Using a very conservative cutoff here in order to avoid false-positives\n",
    "             # I want to correct potential errors and not introduce new ones... thus only label nonfocal if I am pretty\n",
    "             # SURE that this call is the same as another one."
   ]
  },
  {
   "cell_type": "code",
   "execution_count": 3,
   "metadata": {},
   "outputs": [],
   "source": [
    "def calc_intense_score(spec):\n",
    "    # cutoff mels\n",
    "    spec = spec[MEL_BINS_REMOVED_LOWER:(N_MELS-MEL_BINS_REMOVED_UPPER),:]    \n",
    "    spec = np.where(spec < 10, 0, spec)\n",
    "    spec = np.where(spec >= 10, 1, spec)\n",
    "    \n",
    "    intense_score = np.sum(spec, axis=None)/(spec.shape[0]*spec.shape[1])  \n",
    "    \n",
    "    return intense_score\n",
    "\n",
    "def calc_spec_intense_score(spec):\n",
    "    # cutoff mels\n",
    "    spec = spec[MEL_BINS_REMOVED_LOWER:(N_MELS-MEL_BINS_REMOVED_UPPER),:] \n",
    "    spec = np.where(spec < 0, 0, spec)\n",
    "    spec = np.where(spec > 15, 100, spec)\n",
    "    intense_score = np.sum(spec, axis=None)/(spec.shape[0]*spec.shape[1])      \n",
    "    return intense_score\n",
    "\n",
    "def calc_audio_intense_score(audio):\n",
    "    intense_score = np.sum(np.abs(audio), axis=None)/audio.shape[0]\n",
    "    return intense_score\n",
    "\n",
    "def which_call_am_I(call,sub_df):\n",
    "    \n",
    "    if call==sub_df.call_a.values[0]:\n",
    "        call=\"a\"\n",
    "        other=\"b\"\n",
    "    elif call==sub_df.call_b.values[0]:\n",
    "        call=\"b\"\n",
    "        other=\"a\"\n",
    "    \n",
    "    return call, other\n",
    "\n",
    "def calc_SNR(arr, axis=0, ddof=0):\n",
    "    a = np.asanyarray(a)\n",
    "    m = a.mean(axis)\n",
    "    sd = a.std(axis=axis, ddof=ddof)\n",
    "    return np.where(sd == 0, 0, m/sd)\n",
    "\n",
    "def pad_spectro(spec,maxlen):\n",
    "    padding = maxlen - spec.shape[1]\n",
    "    z = np.zeros((spec.shape[0],padding))\n",
    "    padded_spec=np.append(spec, z, axis=1)\n",
    "    return padded_spec"
   ]
  },
  {
   "cell_type": "code",
   "execution_count": 4,
   "metadata": {},
   "outputs": [],
   "source": [
    "def calc_snr(audio):\n",
    "    audio = np.abs(audio)\n",
    "    lower = np.percentile(audio, 25)\n",
    "    upper = np.percentile(audio, 75)\n",
    "    if (upper-lower)!=0:\n",
    "        s_range = 1/(upper-lower)\n",
    "    else:\n",
    "        s_range = 0\n",
    "    return s_range"
   ]
  },
  {
   "cell_type": "markdown",
   "metadata": {},
   "source": [
    "# Read in data"
   ]
  },
  {
   "cell_type": "code",
   "execution_count": 5,
   "metadata": {},
   "outputs": [
    {
     "data": {
      "text/plain": [
       "(3193, 34)"
      ]
     },
     "execution_count": 5,
     "metadata": {},
     "output_type": "execute_result"
    }
   ],
   "source": [
    "# labelfile of all potentially conflicting calls\n",
    "\n",
    "labelfile = pd.read_pickle(CANDIDATES_LABELFILE)\n",
    "labelfile.shape"
   ]
  },
  {
   "cell_type": "code",
   "execution_count": 6,
   "metadata": {},
   "outputs": [
    {
     "data": {
      "text/plain": [
       "(54386, 34)"
      ]
     },
     "execution_count": 6,
     "metadata": {},
     "output_type": "execute_result"
    }
   ],
   "source": [
    "# labelfile of all calls\n",
    "full_labelfile = pd.read_pickle(FULL_LABELFILE)\n",
    "full_labelfile.shape"
   ]
  },
  {
   "cell_type": "markdown",
   "metadata": {},
   "source": [
    "# Generate noise audio"
   ]
  },
  {
   "cell_type": "code",
   "execution_count": 72,
   "metadata": {},
   "outputs": [],
   "source": [
    "import librosa\n",
    "\n",
    "def get_audio(wav_loc, start_s, duration_s, MEERKAT_CHANNEL):\n",
    "    # SOUNDFOCs are stereo\n",
    "    if ((wav_loc!=\"NA\") and (duration_s>0)):\n",
    "        if \"SOUNDFOC\" in wav_loc:\n",
    "            try:\n",
    "                data, rate = librosa.load(wav_loc, offset=start_s, duration=duration_s, sr=None, mono=False)\n",
    "                wav_filename = os.path.basename(wav_loc)\n",
    "                if wav_filename in MEERKAT_CHANNEL.keys():\n",
    "                    data = np.asfortranarray(data[MEERKAT_CHANNEL[wav_filename],:])\n",
    "                else:\n",
    "                    data = np.asfortranarray(data[0,:])\n",
    "            except Exception:\n",
    "                data = np.asarray([0])\n",
    "                print(\"Failed read SOUNDFOC: \", wav_loc)\n",
    "                pass\n",
    "            \n",
    "        else:\n",
    "            try:\n",
    "                data, rate = librosa.load(wav_loc, offset=start_s, duration=duration_s, sr=None) \n",
    "                if np.issubdtype(type(data[0]), np.integer):\n",
    "                    data = data.astype('float32') \n",
    "            except Exception:\n",
    "                data = np.asarray([0])\n",
    "                print(\"Failed read\", wav_loc)\n",
    "                pass\n",
    "    return data"
   ]
  },
  {
   "cell_type": "code",
   "execution_count": 49,
   "metadata": {},
   "outputs": [],
   "source": [
    "CHANNEL_INFO_PATH = \"/Volumes/EAS_shared/meerkat/working/METADATA/soundfoc_channels.csv\"\n",
    "channel_tab= pd.read_csv(CHANNEL_INFO_PATH, sep=\"\\t\")\n",
    "channel_dict = dict(zip(channel_tab.wavFile, channel_tab.meerkatChannel))"
   ]
  },
  {
   "cell_type": "code",
   "execution_count": 79,
   "metadata": {},
   "outputs": [
    {
     "name": "stdout",
     "output_type": "stream",
     "text": [
      "(4000,)\n",
      "(1440,)\n",
      "(4000,)\n",
      "(4000,)\n",
      "(4000,)\n",
      "(4000,)\n",
      "(4000,)\n",
      "(4000,)\n",
      "(4000,)\n",
      "(4000,)\n"
     ]
    }
   ],
   "source": [
    "noise_audio = []\n",
    "\n",
    "MIN_NOISE = 0.1\n",
    "MAX_NOISE = 0.5\n",
    "\n",
    "all_calls = list(labelfile.callID_new)\n",
    "\n",
    "for call in all_calls:\n",
    "    start_s = labelfile.loc[labelfile.callID_new==call,'start_s'].values[0]\n",
    "    duration_s = labelfile.loc[labelfile.callID_new==call,'duration_s'].values[0]\n",
    "    wav_loc = labelfile.loc[labelfile.callID_new==call,'wav_loc'].values[0]   \n",
    "    sub_df = full_labelfile.loc[full_labelfile.wav_loc==wav_loc,:]\n",
    "    sub_df.reset_index(inplace=True)\n",
    "    \n",
    "    # index of call\n",
    "    call_ind = sub_df[sub_df.callID_new==call].index.values[0]\n",
    "    \n",
    "    temp_start_current = start_s    \n",
    "    temp_stop_current = start_s+duration_s\n",
    "    \n",
    "    noise_start = 0\n",
    "    noise_end = 0\n",
    "    \n",
    "    for i in range(1,10):\n",
    "        \n",
    "        # TRY FIND PRE NOISE\n",
    "        \n",
    "        start_pre = sub_df.loc[call_ind-i,'start_s']\n",
    "        duration_pre = sub_df.loc[call_ind-i,'duration_s']\n",
    "        end_pre = start_pre+duration_pre\n",
    "        \n",
    "        # if pre time window big enough\n",
    "        if temp_start_current-end_pre>MIN_NOISE:           \n",
    "            # extract largest possible time window\n",
    "            noise_start = end_pre\n",
    "            noise_end = temp_start_current\n",
    "            break\n",
    "        \n",
    "        # TRY FIND POST NOISE        \n",
    "        start_post = sub_df.loc[call_ind+i,'start_s']\n",
    "        duration_post = sub_df.loc[call_ind+i,'duration_s']\n",
    "        end_post = start_post+duration_post\n",
    "            \n",
    "        if start_post-temp_stop_current>MIN_NOISE:\n",
    "            noise_start = temp_stop_current\n",
    "            noise_end = start_post\n",
    "            break\n",
    "        \n",
    "        # update temp_start_current and temp_stop_current\n",
    "        temp_start_current = start_pre\n",
    "        temp_stop_current = end_post\n",
    "    \n",
    "    \n",
    "    noise_duration = noise_end-noise_start\n",
    "    \n",
    "    # check if noise duration is not zero\n",
    "    if  noise_duration== 0:\n",
    "        noise_audio.append([0])\n",
    "    else:\n",
    "        # choose min of MAX_Noise, duration or call duration\n",
    "        noise_duration = np.min([MAX_NOISE, noise_duration, duration_s])\n",
    "        # extract noise raw audio\n",
    "        audio = get_audio(wav_loc, noise_start, noise_duration, channel_dict)\n",
    "        #print(audio.shape)\n",
    "        # append\n",
    "        noise_audio.append(audio)   "
   ]
  },
  {
   "cell_type": "code",
   "execution_count": 6,
   "metadata": {},
   "outputs": [
    {
     "data": {
      "text/plain": [
       "3193"
      ]
     },
     "execution_count": 6,
     "metadata": {},
     "output_type": "execute_result"
    }
   ],
   "source": [
    "# dictionary of calls and their potential conflicting partners\n",
    "\n",
    "with open(CANDIDATES_MATCHES, \"r\") as file:  \n",
    "    matches = json.load(file)\n",
    "\n",
    "len(matches)"
   ]
  },
  {
   "cell_type": "code",
   "execution_count": 7,
   "metadata": {},
   "outputs": [
    {
     "name": "stdout",
     "output_type": "stream",
     "text": [
      "1843\n"
     ]
    }
   ],
   "source": [
    "# list containing all pairs of calls\n",
    "# (non-redundant, i.e. does not contain both [x,y] and [y,x], but only [x,y])\n",
    "\n",
    "all_pairs = []\n",
    "\n",
    "for key in matches.keys():\n",
    "    for val in matches[key]:\n",
    "        if [val,key] not in all_pairs:\n",
    "            all_pairs.append([key, val])\n",
    "        \n",
    "print(len(all_pairs))"
   ]
  },
  {
   "cell_type": "code",
   "execution_count": 8,
   "metadata": {},
   "outputs": [],
   "source": [
    "# this would be the redundant list\n",
    "#all_pairs = [[x,y] for x,y in zip(matches.keys(), matches.values())]"
   ]
  },
  {
   "cell_type": "code",
   "execution_count": 9,
   "metadata": {},
   "outputs": [],
   "source": [
    "f_nf = pd.read_csv(F_NF_FILE, sep=\"\\t\", index_col=0)"
   ]
  },
  {
   "cell_type": "markdown",
   "metadata": {},
   "source": [
    "## Calculate intense score"
   ]
  },
  {
   "cell_type": "code",
   "execution_count": 10,
   "metadata": {},
   "outputs": [],
   "source": [
    "spec_intense_scores = [calc_spec_intense_score(x) for x in full_labelfile.denoised_spectrograms.values]\n",
    "audio_intense_scores = [calc_audio_intense_score(x) for x in full_labelfile.raw_audio.values]\n",
    "total_intense_scores = [x*y for x,y in zip(spec_intense_scores, audio_intense_scores)]\n",
    "full_labelfile['intense_score'] = total_intense_scores"
   ]
  },
  {
   "cell_type": "code",
   "execution_count": 14,
   "metadata": {},
   "outputs": [
    {
     "data": {
      "text/plain": [
       "(0, 1)"
      ]
     },
     "execution_count": 14,
     "metadata": {},
     "output_type": "execute_result"
    },
    {
     "data": {
      "image/png": "[encoded data removed]",
      "text/plain": [
       "<Figure size 432x288 with 1 Axes>"
      ]
     },
     "metadata": {
      "needs_background": "light"
     },
     "output_type": "display_data"
    }
   ],
   "source": [
    "n, bins, patches = plt.hist(full_labelfile.loc[full_labelfile.nonFocal==0,:]['intense_score'] , \n",
    "                            color=\"blue\", label=\"Same\", alpha=0.6, bins=1000)\n",
    "n, bins, patches = plt.hist(full_labelfile.loc[full_labelfile.nonFocal==1,:]['intense_score'] , \n",
    "                            color=\"orange\", label=\"Different\", alpha=0.6, bins=1000)\n",
    "plt.xlim(0,1)"
   ]
  },
  {
   "cell_type": "code",
   "execution_count": 18,
   "metadata": {},
   "outputs": [
    {
     "data": {
      "text/plain": [
       "(0, 0.05)"
      ]
     },
     "execution_count": 18,
     "metadata": {},
     "output_type": "execute_result"
    },
    {
     "data": {
      "image/png": "[encoded data removed]",
      "text/plain": [
       "<Figure size 432x288 with 1 Axes>"
      ]
     },
     "metadata": {
      "needs_background": "light"
     },
     "output_type": "display_data"
    }
   ],
   "source": [
    "full_labelfile['audio_intense_score'] = audio_intense_scores\n",
    "n, bins, patches = plt.hist(full_labelfile.loc[full_labelfile.nonFocal==0,:]['audio_intense_score'] , \n",
    "                            color=\"blue\", label=\"Same\", alpha=0.6, bins=1000)\n",
    "n, bins, patches = plt.hist(full_labelfile.loc[full_labelfile.nonFocal==1,:]['audio_intense_score'] , \n",
    "                            color=\"orange\", label=\"Different\", alpha=0.6, bins=1000)\n",
    "plt.xlim(0,0.05)"
   ]
  },
  {
   "cell_type": "code",
   "execution_count": 16,
   "metadata": {},
   "outputs": [
    {
     "data": {
      "image/png": "[encoded data removed]",
      "text/plain": [
       "<Figure size 432x288 with 1 Axes>"
      ]
     },
     "metadata": {
      "needs_background": "light"
     },
     "output_type": "display_data"
    }
   ],
   "source": [
    "full_labelfile['spec_intense_score'] = spec_intense_scores\n",
    "n, bins, patches = plt.hist(full_labelfile.loc[full_labelfile.nonFocal==0,:]['spec_intense_score'] , \n",
    "                            color=\"blue\", label=\"Same\", alpha=0.6, bins=1000)\n",
    "n, bins, patches = plt.hist(full_labelfile.loc[full_labelfile.nonFocal==1,:]['spec_intense_score'] , \n",
    "                            color=\"orange\", label=\"Different\", alpha=0.6, bins=1000)\n",
    "#plt.xlim(0,0.05)"
   ]
  },
  {
   "cell_type": "code",
   "execution_count": null,
   "metadata": {},
   "outputs": [],
   "source": [
    "total_intense_scores = [x*y for x,y in zip(spec_intense_scores, audio_intense_scores)]\n",
    "full_labelfile['intense_score'] = total_intense_scores"
   ]
  },
  {
   "cell_type": "markdown",
   "metadata": {},
   "source": [
    "## Add faint scores to labelfile and f_nf dataframe"
   ]
  },
  {
   "cell_type": "code",
   "execution_count": 86,
   "metadata": {},
   "outputs": [],
   "source": [
    "intense_dict = dict(zip(full_labelfile.callID_new.values, full_labelfile.intense_score.values))\n",
    "labelfile['intense_score'] = [intense_dict[x] for x in labelfile.callID_new]"
   ]
  },
  {
   "cell_type": "code",
   "execution_count": 87,
   "metadata": {},
   "outputs": [
    {
     "data": {
      "text/html": [
       "<div>\n",
       "<style scoped>\n",
       "    .dataframe tbody tr th:only-of-type {\n",
       "        vertical-align: middle;\n",
       "    }\n",
       "\n",
       "    .dataframe tbody tr th {\n",
       "        vertical-align: top;\n",
       "    }\n",
       "\n",
       "    .dataframe thead th {\n",
       "        text-align: right;\n",
       "    }\n",
       "</style>\n",
       "<table border=\"1\" class=\"dataframe\">\n",
       "  <thead>\n",
       "    <tr style=\"text-align: right;\">\n",
       "      <th></th>\n",
       "      <th>call_a</th>\n",
       "      <th>call_b</th>\n",
       "      <th>dist_score</th>\n",
       "      <th>intense_a</th>\n",
       "      <th>intense_b</th>\n",
       "    </tr>\n",
       "  </thead>\n",
       "  <tbody>\n",
       "    <tr>\n",
       "      <td>0</td>\n",
       "      <td>20170806_VCVM001_01_11_05_400_0_00_065_sn</td>\n",
       "      <td>20170806_VHMM003_01_10_57_645_0_00_063_sn</td>\n",
       "      <td>0.651184</td>\n",
       "      <td>0.014940</td>\n",
       "      <td>1.198537</td>\n",
       "    </tr>\n",
       "    <tr>\n",
       "      <td>1</td>\n",
       "      <td>20170806_VCVM001_01_11_05_645_0_00_068_sn</td>\n",
       "      <td>20170806_VHMM003_01_10_57_887_0_00_071_sn</td>\n",
       "      <td>0.905537</td>\n",
       "      <td>0.046736</td>\n",
       "      <td>0.412277</td>\n",
       "    </tr>\n",
       "    <tr>\n",
       "      <td>2</td>\n",
       "      <td>20170806_VCVM001_01_11_05_880_0_00_062_sn</td>\n",
       "      <td>20170806_VHMM003_01_10_58_067_0_00_058_sn</td>\n",
       "      <td>0.540828</td>\n",
       "      <td>0.054092</td>\n",
       "      <td>0.948229</td>\n",
       "    </tr>\n",
       "    <tr>\n",
       "      <td>3</td>\n",
       "      <td>20170806_VCVM001_01_11_05_880_0_00_062_sn</td>\n",
       "      <td>20170806_VHMM003_01_10_58_153_0_00_069_sn</td>\n",
       "      <td>0.645326</td>\n",
       "      <td>0.054092</td>\n",
       "      <td>0.742683</td>\n",
       "    </tr>\n",
       "    <tr>\n",
       "      <td>4</td>\n",
       "      <td>20170806_VCVM001_01_12_26_129_0_00_064_sn_x</td>\n",
       "      <td>20170806_VHMM002_01_12_08_899_0_00_066_sn</td>\n",
       "      <td>1.036880</td>\n",
       "      <td>0.087846</td>\n",
       "      <td>0.145992</td>\n",
       "    </tr>\n",
       "    <tr>\n",
       "      <td>...</td>\n",
       "      <td>...</td>\n",
       "      <td>...</td>\n",
       "      <td>...</td>\n",
       "      <td>...</td>\n",
       "      <td>...</td>\n",
       "    </tr>\n",
       "    <tr>\n",
       "      <td>1838</td>\n",
       "      <td>20190719_VHMM017_01_18_54_428_0_00_161_cc</td>\n",
       "      <td>20190719_VHMM023_01_19_36_532_0_00_147_cc</td>\n",
       "      <td>0.481157</td>\n",
       "      <td>0.342398</td>\n",
       "      <td>1.160400</td>\n",
       "    </tr>\n",
       "    <tr>\n",
       "      <td>1839</td>\n",
       "      <td>20190719_VHMM021_01_19_42_491_0_00_172_cc</td>\n",
       "      <td>20190719_VHMM023_01_20_05_843_0_00_161_cc</td>\n",
       "      <td>0.367592</td>\n",
       "      <td>1.163698</td>\n",
       "      <td>0.740246</td>\n",
       "    </tr>\n",
       "    <tr>\n",
       "      <td>1840</td>\n",
       "      <td>20190719_VHMM021_01_20_07_584_0_00_146_cc</td>\n",
       "      <td>20190719_VHMM023_01_20_31_056_0_00_123_cc</td>\n",
       "      <td>0.487473</td>\n",
       "      <td>0.951883</td>\n",
       "      <td>1.092899</td>\n",
       "    </tr>\n",
       "    <tr>\n",
       "      <td>1841</td>\n",
       "      <td>20190719_VHMM021_01_20_21_300_0_00_123_cc</td>\n",
       "      <td>20190719_VHMM023_01_20_44_677_0_00_150_cc</td>\n",
       "      <td>0.269552</td>\n",
       "      <td>1.181925</td>\n",
       "      <td>0.533275</td>\n",
       "    </tr>\n",
       "    <tr>\n",
       "      <td>1842</td>\n",
       "      <td>20190719_VHMM021_01_28_29_568_0_00_165_cc</td>\n",
       "      <td>20190719_VHMM023_01_28_52_214_0_00_159_cc</td>\n",
       "      <td>0.247808</td>\n",
       "      <td>0.934555</td>\n",
       "      <td>0.591248</td>\n",
       "    </tr>\n",
       "  </tbody>\n",
       "</table>\n",
       "<p>1843 rows × 5 columns</p>\n",
       "</div>"
      ],
      "text/plain": [
       "                                           call_a  \\\n",
       "0       20170806_VCVM001_01_11_05_400_0_00_065_sn   \n",
       "1       20170806_VCVM001_01_11_05_645_0_00_068_sn   \n",
       "2       20170806_VCVM001_01_11_05_880_0_00_062_sn   \n",
       "3       20170806_VCVM001_01_11_05_880_0_00_062_sn   \n",
       "4     20170806_VCVM001_01_12_26_129_0_00_064_sn_x   \n",
       "...                                           ...   \n",
       "1838    20190719_VHMM017_01_18_54_428_0_00_161_cc   \n",
       "1839    20190719_VHMM021_01_19_42_491_0_00_172_cc   \n",
       "1840    20190719_VHMM021_01_20_07_584_0_00_146_cc   \n",
       "1841    20190719_VHMM021_01_20_21_300_0_00_123_cc   \n",
       "1842    20190719_VHMM021_01_28_29_568_0_00_165_cc   \n",
       "\n",
       "                                         call_b  dist_score  intense_a  \\\n",
       "0     20170806_VHMM003_01_10_57_645_0_00_063_sn    0.651184   0.014940   \n",
       "1     20170806_VHMM003_01_10_57_887_0_00_071_sn    0.905537   0.046736   \n",
       "2     20170806_VHMM003_01_10_58_067_0_00_058_sn    0.540828   0.054092   \n",
       "3     20170806_VHMM003_01_10_58_153_0_00_069_sn    0.645326   0.054092   \n",
       "4     20170806_VHMM002_01_12_08_899_0_00_066_sn    1.036880   0.087846   \n",
       "...                                         ...         ...        ...   \n",
       "1838  20190719_VHMM023_01_19_36_532_0_00_147_cc    0.481157   0.342398   \n",
       "1839  20190719_VHMM023_01_20_05_843_0_00_161_cc    0.367592   1.163698   \n",
       "1840  20190719_VHMM023_01_20_31_056_0_00_123_cc    0.487473   0.951883   \n",
       "1841  20190719_VHMM023_01_20_44_677_0_00_150_cc    0.269552   1.181925   \n",
       "1842  20190719_VHMM023_01_28_52_214_0_00_159_cc    0.247808   0.934555   \n",
       "\n",
       "      intense_b  \n",
       "0      1.198537  \n",
       "1      0.412277  \n",
       "2      0.948229  \n",
       "3      0.742683  \n",
       "4      0.145992  \n",
       "...         ...  \n",
       "1838   1.160400  \n",
       "1839   0.740246  \n",
       "1840   1.092899  \n",
       "1841   0.533275  \n",
       "1842   0.591248  \n",
       "\n",
       "[1843 rows x 5 columns]"
      ]
     },
     "execution_count": 87,
     "metadata": {},
     "output_type": "execute_result"
    }
   ],
   "source": [
    "f_nf['intense_a'] = [intense_dict[x] for x in f_nf.call_a]\n",
    "f_nf['intense_b'] = [intense_dict[x] for x in f_nf.call_b]\n",
    "f_nf.to_csv(OUTDIR+\"f_nf.csv\", sep=\"\\t\")\n",
    "f_nf"
   ]
  },
  {
   "cell_type": "markdown",
   "metadata": {},
   "source": [
    "# [Add intense_score relative to surrounding focal calls for all matches]"
   ]
  },
  {
   "cell_type": "markdown",
   "metadata": {},
   "source": [
    "Removed this section because it proved to be not such a great way to differentiate focal from nonfocal calls."
   ]
  },
  {
   "cell_type": "code",
   "execution_count": 14,
   "metadata": {},
   "outputs": [],
   "source": [
    "#Only need to do this for calls with a match:\n",
    "\n",
    "#matched_f_nf = f_nf.loc[f_nf.dist_score<=CUTOFF,:]\n",
    "#matched_f_nf"
   ]
  },
  {
   "cell_type": "code",
   "execution_count": 15,
   "metadata": {},
   "outputs": [],
   "source": [
    "#matched_calls = list(set(list(matched_f_nf.call_a)+list(matched_f_nf.call_b)))\n",
    "#len(matched_calls)"
   ]
  },
  {
   "cell_type": "code",
   "execution_count": 16,
   "metadata": {},
   "outputs": [],
   "source": [
    "#log2_dict = {}\n",
    "#start_time_dict = {}\n",
    "#end_time_dict = {}\n",
    "#wavs_we_need = []\n",
    "\n",
    "#n_compare = 3 # calls before and after to compare to\n",
    "#for call in matched_calls:\n",
    "    \n",
    "    # find recording filename\n",
    "#    wavFile = full_labelfile.loc[full_labelfile.callID_new==call,'wavFileName'].values[0]\n",
    "#    wavs_we_need.append(wavFile)\n",
    "    # select all calls in that recording\n",
    "#    sub_df = full_labelfile.loc[full_labelfile.wavFileName==wavFile,:]\n",
    "    # select only focal\n",
    "#    sub_df = sub_df.loc[sub_df.nonFocal==0,:]\n",
    "\n",
    "    # make sure it's sorted by t0 GPS time\n",
    "#    sub_df['date'] = pd.to_datetime(sub_df['t0GPS_UTC'])\n",
    "#    sub_df = sub_df.sort_values(by='date')\n",
    "\n",
    "    # reset index\n",
    "#    sub_df.reset_index(inplace=True)\n",
    "    # find call index\n",
    "#    call_index = sub_df.loc[sub_df.callID_new==call,:].index[0]\n",
    "\n",
    "    # border cases, where call is at very beginning or end of recording file\n",
    "#    if call_index<n_compare:\n",
    "#        n_left = call_index\n",
    "#        n_right = n_compare*2 - n_left\n",
    "#    elif ((sub_df.shape[0]-call_index-1)<n_compare):\n",
    "#        n_right = sub_df.shape[0]-call_index-1\n",
    "#        n_left = n_compare*2 - n_right\n",
    "    \n",
    "    # base case:\n",
    "#    else:\n",
    "#        n_left = n_compare\n",
    "#        n_right = n_compare\n",
    "        \n",
    "#   start_time_dict[call] = sub_df.iloc[call_index-n_left,:].t0File\n",
    "#    end_time_dict[call] = sub_df.iloc[call_index+n_right,:].t0File\n",
    "    \n",
    "#    surrounding_scores = []\n",
    "\n",
    "#    for i in range(1,n_left+1):\n",
    "#        nb_call = sub_df.iloc[call_index-i,:].callID_new\n",
    "#        surrounding_scores.append(intense_dict[nb_call])\n",
    "\n",
    "#    for i in range(1,n_right+1):\n",
    "#        nb_call = sub_df.iloc[call_index+i,:].callID_new\n",
    "#        surrounding_scores.append(intense_dict[nb_call])\n",
    "\n",
    "#    surrounding_mean = np.mean(surrounding_scores)\n",
    "#    log2_dict[call] = math.log2(intense_dict[call]/surrounding_mean)"
   ]
  },
  {
   "cell_type": "markdown",
   "metadata": {},
   "source": [
    "## Define cutoff"
   ]
  },
  {
   "cell_type": "code",
   "execution_count": 73,
   "metadata": {},
   "outputs": [],
   "source": [
    "percent_nonfocal_dict = {}\n",
    "\n",
    "for cutoff in np.arange(0.01,3, 0.01):\n",
    "    subset = full_labelfile.loc[full_labelfile.intense_score<=cutoff,:]\n",
    "    if subset.shape[0]!=0:\n",
    "        n_nf = subset.loc[subset.nonFocal==1,:].shape[0]\n",
    "        if n_nf==0:\n",
    "            percent_nonfocal_dict[cutoff] = 0\n",
    "        else:\n",
    "            percent_nonfocal_dict[cutoff] = n_nf/subset.shape[0]  \n",
    "\n",
    "percent_focal_dict = {}\n",
    "for cutoff in np.arange(20,40, 2):\n",
    "    subset = full_labelfile.loc[full_labelfile.intense_score>=cutoff,:]\n",
    "    if subset.shape[0]!=0:      \n",
    "        n_f = subset.loc[subset.nonFocal==0,:].shape[0]\n",
    "        if n_f==0:\n",
    "            percent_focal_dict[cutoff] = 0\n",
    "        else:\n",
    "            percent_focal_dict[cutoff] = n_f/subset.shape[0]"
   ]
  },
  {
   "cell_type": "code",
   "execution_count": 74,
   "metadata": {},
   "outputs": [
    {
     "name": "stdout",
     "output_type": "stream",
     "text": [
      "0.8200000000000001  :  1.0\n",
      "0.8300000000000001  :  1.0\n",
      "0.8400000000000001  :  1.0\n",
      "0.85  :  1.0\n",
      "0.86  :  1.0\n",
      "0.87  :  1.0\n",
      "0.88  :  1.0\n",
      "0.89  :  1.0\n",
      "0.9  :  1.0\n",
      "0.91  :  1.0\n",
      "0.92  :  1.0\n",
      "0.93  :  1.0\n",
      "1.05  :  0.9\n",
      "1.06  :  0.9047619047619048\n",
      "1.07  :  0.9166666666666666\n",
      "1.09  :  0.9\n"
     ]
    }
   ],
   "source": [
    "for key, val in zip(percent_nonfocal_dict.keys(), percent_nonfocal_dict.values()):\n",
    "    if val>=0.90 and val<=100:\n",
    "        print(key, \" : \", val)"
   ]
  },
  {
   "cell_type": "code",
   "execution_count": 76,
   "metadata": {},
   "outputs": [],
   "source": [
    "for key, val in zip(percent_focal_dict.keys(), percent_focal_dict.values()):\n",
    "    if val>=0.954 and val<=0.955:\n",
    "        print(key, \" : \", val)"
   ]
  },
  {
   "cell_type": "code",
   "execution_count": 88,
   "metadata": {},
   "outputs": [
    {
     "name": "stdout",
     "output_type": "stream",
     "text": [
      "0.011\n",
      "0.93\n"
     ]
    }
   ],
   "source": [
    "FAINT_CUTOFF = 0.011\n",
    "print(FAINT_CUTOFF)\n",
    "STRONG_CUTOFF = 0.93\n",
    "print(STRONG_CUTOFF)"
   ]
  },
  {
   "cell_type": "code",
   "execution_count": 21,
   "metadata": {},
   "outputs": [],
   "source": [
    "# old!\n",
    "#FAINT_CUTOFF = np.percentile(np.asarray(full_labelfile.loc[full_labelfile.nonFocal==1,'intense_score']), 5)\n",
    "#print(FAINT_CUTOFF)\n",
    "#STRONG_CUTOFF = np.percentile(np.asarray(full_labelfile.loc[full_labelfile.nonFocal==0,'intense_score']), 95)\n",
    "#print(STRONG_CUTOFF)"
   ]
  },
  {
   "cell_type": "markdown",
   "metadata": {},
   "source": [
    "# Assign focal or nonfocal"
   ]
  },
  {
   "cell_type": "markdown",
   "metadata": {},
   "source": [
    "Make dataframe of all call pairs, their distance scores and faint scores."
   ]
  },
  {
   "cell_type": "markdown",
   "metadata": {},
   "source": [
    "Then assign calls focal or noncal following these hierarchical steps:\n",
    "\n",
    "- 1) Assignment based on faintness alone\n",
    "- 2) Assignment of calls with no high fidelity match (e.g. that were not recognized as \"same-call\")\n",
    "- 3) Assignment of calls that have only one high fidelity match\n",
    "- 4) Assignment of calls that have multiple high fidelity matches"
   ]
  },
  {
   "cell_type": "markdown",
   "metadata": {},
   "source": [
    "### 1) Case: Assignment based on intensity alone\n",
    "\n",
    "Assignment based on intensity cutoffs. Some clearly focal, some clearly nonfocal."
   ]
  },
  {
   "cell_type": "code",
   "execution_count": 89,
   "metadata": {},
   "outputs": [
    {
     "name": "stdout",
     "output_type": "stream",
     "text": [
      "1018\n",
      "1018\n",
      "1018\n"
     ]
    }
   ],
   "source": [
    "very_faint = labelfile.loc[labelfile.intense_score<=FAINT_CUTOFF,:]\n",
    "pred_nonFocal=dict(zip(very_faint.callID_new, [1]*very_faint.shape[0]))\n",
    "why_pred = dict(zip(very_faint.callID_new, [\"intense_low\"]*very_faint.shape[0]))\n",
    "pred_comment = dict(zip(very_faint.callID_new, [str(round(intense_dict[x],2)) for x in very_faint.callID_new]))\n",
    "\n",
    "very_strong = labelfile.loc[labelfile.intense_score>=STRONG_CUTOFF,:]\n",
    "\n",
    "for call in very_strong.callID_new:\n",
    "    pred_nonFocal[call] = 0\n",
    "    why_pred[call] = \"intense_high\"\n",
    "    pred_comment[call] = str(round(intense_dict[call],2))\n",
    "\n",
    "print(len(pred_nonFocal))\n",
    "print(len(why_pred))\n",
    "print(len(pred_comment))"
   ]
  },
  {
   "cell_type": "code",
   "execution_count": 77,
   "metadata": {},
   "outputs": [
    {
     "name": "stdout",
     "output_type": "stream",
     "text": [
      "0\n",
      "0\n",
      "0\n"
     ]
    }
   ],
   "source": [
    "#FAINT_CUTOFF = 1.09\n",
    "\n",
    "#very_faint = labelfile.loc[labelfile.intense_score<=FAINT_CUTOFF,:]\n",
    "#pred_nonFocal=dict(zip(very_faint.callID_new, [1]*very_faint.shape[0]))\n",
    "#why_pred = dict(zip(very_faint.callID_new, [\"intense_low\"]*very_faint.shape[0]))\n",
    "#pred_comment = dict(zip(very_faint.callID_new, [str(round(intense_dict[x],2)) for x in very_faint.callID_new]))\n",
    "\n",
    "\n",
    "#print(len(pred_nonFocal))\n",
    "#print(len(why_pred))\n",
    "#print(len(pred_comment))"
   ]
  },
  {
   "cell_type": "markdown",
   "metadata": {},
   "source": [
    "### 2) Case: Calls with no high fidelity match\n",
    "\n",
    "--> can be assigned focal"
   ]
  },
  {
   "cell_type": "code",
   "execution_count": 90,
   "metadata": {},
   "outputs": [
    {
     "name": "stdout",
     "output_type": "stream",
     "text": [
      "2202\n",
      "2202\n",
      "2202\n"
     ]
    }
   ],
   "source": [
    "for call in labelfile.callID_new.values:    \n",
    "    # if not already assigned\n",
    "    if call not in pred_nonFocal.keys():\n",
    "        # all rows that concern this call\n",
    "        sub_df = f_nf.loc[(f_nf['call_a']==call) | (f_nf['call_b']==call),:]\n",
    "        # all matches of this call        \n",
    "        sub_df_matched = sub_df.loc[sub_df.dist_score<CUTOFF,:]\n",
    "        \n",
    "        # if call has no matches!:\n",
    "        if sub_df_matched.shape[0]==0:\n",
    "            pred_nonFocal[call] = 0\n",
    "            why_pred[call] = \"no_match\"\n",
    "            pred_comment[call] = \"no further info\"\n",
    "\n",
    "print(len(pred_nonFocal))\n",
    "print(len(why_pred))\n",
    "print(len(pred_comment))"
   ]
  },
  {
   "cell_type": "markdown",
   "metadata": {},
   "source": [
    "### 3) Case: Only 1 high fidelity match "
   ]
  },
  {
   "cell_type": "markdown",
   "metadata": {},
   "source": [
    "    3a) the match partner is already assigned f/nf or\n",
    "        -->  assign call to the opposite\n",
    "\n",
    "    3b) match partner is not yet assigned\n",
    "         --> assign to nf if weaker, assign to f if stronger "
   ]
  },
  {
   "cell_type": "code",
   "execution_count": 91,
   "metadata": {},
   "outputs": [
    {
     "name": "stdout",
     "output_type": "stream",
     "text": [
      "3106\n",
      "3106\n",
      "3106\n"
     ]
    }
   ],
   "source": [
    "for call in labelfile.callID_new.values:    \n",
    "    # if not already assigned\n",
    "    if call not in pred_nonFocal.keys():\n",
    "        # all rows that concern this call\n",
    "        sub_df = f_nf.loc[(f_nf['call_a']==call) | (f_nf['call_b']==call),:]\n",
    "        # all matches of this call\n",
    "        \n",
    "        sub_df_matched = sub_df.loc[sub_df.dist_score<CUTOFF,:]\n",
    "        \n",
    "        # if call has exactly 1 match:\n",
    "        if sub_df_matched.shape[0]==1:\n",
    "            me, other = which_call_am_I(call, sub_df_matched)\n",
    "            other_call = sub_df_matched['call_'+other].values[0] \n",
    "            \n",
    "            # if partner already assigned\n",
    "            if other_call in pred_nonFocal.keys():\n",
    "                # assign to opposite\n",
    "                pred_nonFocal[call] = np.abs(1-pred_nonFocal[other_call])\n",
    "                why_pred[call] = \"partner_assigned (\"+why_pred[other_call]+\")\"\n",
    "                \n",
    "                other_assignment = \"focal\" if pred_nonFocal[other_call]==0 else \"nonfocal\"\n",
    "                pred_comment[call] = other_call+\": \"+other_assignment\n",
    "                \n",
    "            # if partner not already assigned   \n",
    "            else:\n",
    "                #if weaker, assign nonfocal\n",
    "                if intense_dict[call]<=intense_dict[other_call]:\n",
    "                    pred_nonFocal[call] = 1\n",
    "                    why_pred[call] = \"weaker_1_match\"\n",
    "                    pred_comment[call] = str(round(intense_dict[call],2))+\" vs. \"+str(round(intense_dict[other_call],2))+\" (\"+other_call+\")\"\n",
    "                #if stronger, assign focal\n",
    "                else:\n",
    "                    pred_nonFocal[call] = 0\n",
    "                    why_pred[call] = \"stronger_1_match\"\n",
    "                    pred_comment[call] = str(round(intense_dict[call],2))+\" vs. \"+str(round(intense_dict[other_call],2))+\" (\"+other_call+\")\"\n",
    "\n",
    "\n",
    "print(len(pred_nonFocal))\n",
    "print(len(why_pred))\n",
    "print(len(pred_comment))"
   ]
  },
  {
   "cell_type": "markdown",
   "metadata": {},
   "source": [
    "### 4)  Case: Multiple high fidelity matches\n",
    "\n",
    "    4a) of which at least ONE (should be only one) is already known to be the focal one\n",
    "        -->  assign call to nonfocal\n",
    "\n",
    "    4b) of which NONE is known to be focal, but\n",
    "\n",
    "        4b1) I am the strongest\n",
    "            --> assign call to focal\n",
    "\n",
    "        4b2) I am not the strongest\n",
    "            --> assign call to nonfocal"
   ]
  },
  {
   "cell_type": "code",
   "execution_count": 92,
   "metadata": {},
   "outputs": [
    {
     "name": "stdout",
     "output_type": "stream",
     "text": [
      "3193\n",
      "3193\n",
      "3193\n"
     ]
    }
   ],
   "source": [
    "for call in labelfile.callID_new.values:    \n",
    "    # if not already assigned\n",
    "    if call not in pred_nonFocal.keys():\n",
    "        # all rows that concern this call\n",
    "        sub_df = f_nf.loc[(f_nf['call_a']==call) | (f_nf['call_b']==call),:]\n",
    "        # all matches of this call\n",
    "        \n",
    "        sub_df_matched = sub_df.loc[sub_df.dist_score<CUTOFF,:]\n",
    "        \n",
    "        # if call has  >1 match:\n",
    "        if sub_df_matched.shape[0]>1:\n",
    "            all_ids = (list(set(list(sub_df_matched.call_a.values)+list(sub_df_matched.call_b.values))))\n",
    "            all_partners = [x for x in all_ids if x != call]            \n",
    "            partner_assignments = [pred_nonFocal[x] for x in all_partners if x in pred_nonFocal.keys()]\n",
    "            \n",
    "            #  a) if at least 1 partner is assigned focal\n",
    "            # (at least one partner is assigned AND at least one is assigned as focal)\n",
    "            if ((len(partner_assignments)!=0) and (len([x for x in partner_assignments if x==0])>0)):\n",
    "                pred_nonFocal[call] = 1\n",
    "                why_pred[call] = \"match_with_a_focal\"\n",
    "                \n",
    "                focal_partner = [x for x in all_partners if ((x in pred_nonFocal.keys()) and (pred_nonFocal[x]==0))]\n",
    "                pred_comment[call] = focal_partner[0]\n",
    "            # b) no partner is assigned focal\n",
    "            else: \n",
    "                # b1) I am the strongest\n",
    "                if intense_dict[call]==np.max([intense_dict[x] for x in all_ids]):\n",
    "                    pred_nonFocal[call] = 0\n",
    "                    why_pred[call] = \"strongest_in_multiple\"\n",
    "                    pred_comment[call] = str(round(intense_dict[call],2))\n",
    "                # b2) I am not the strongest\n",
    "                else:\n",
    "                    pred_nonFocal[call] = 1\n",
    "                    why_pred[call] = \"not_strongest_in_multiple\"\n",
    "                    pred_comment[call] = str(round(intense_dict[call],2))+\" vs.\"+str(round(np.max([intense_dict[x] for x in all_ids]),2))\n",
    "                    \n",
    "                \n",
    "print(len(pred_nonFocal))\n",
    "print(len(why_pred))\n",
    "print(len(pred_comment))"
   ]
  },
  {
   "cell_type": "markdown",
   "metadata": {},
   "source": [
    "There should be no remainders"
   ]
  },
  {
   "cell_type": "code",
   "execution_count": null,
   "metadata": {},
   "outputs": [],
   "source": [
    "remainders = [x for x in labelfile.callID_new.values if x not in pred_nonFocal.keys()]\n",
    "print(len(remainders))"
   ]
  },
  {
   "cell_type": "markdown",
   "metadata": {},
   "source": [
    "# Save results"
   ]
  },
  {
   "cell_type": "code",
   "execution_count": 93,
   "metadata": {},
   "outputs": [],
   "source": [
    "labelfile['pred_nonFocal'] = [pred_nonFocal[x] for x in labelfile.callID_new]\n",
    "labelfile['pred_why'] = [why_pred[x] for x in labelfile.callID_new]\n",
    "labelfile['pred_comment'] = [pred_comment[x] for x in labelfile.callID_new]"
   ]
  },
  {
   "cell_type": "code",
   "execution_count": 94,
   "metadata": {},
   "outputs": [],
   "source": [
    "labelfile.to_pickle(OUTDIR+\"pred_labelfile.pkl\")"
   ]
  },
  {
   "cell_type": "markdown",
   "metadata": {},
   "source": [
    "# Check performance"
   ]
  },
  {
   "cell_type": "code",
   "execution_count": 53,
   "metadata": {},
   "outputs": [
    {
     "data": {
      "text/plain": [
       "0    2348\n",
       "1     845\n",
       "Name: pred_nonFocal, dtype: int64"
      ]
     },
     "execution_count": 53,
     "metadata": {},
     "output_type": "execute_result"
    }
   ],
   "source": [
    "labelfile.pred_nonFocal.value_counts()"
   ]
  },
  {
   "cell_type": "code",
   "execution_count": 54,
   "metadata": {},
   "outputs": [
    {
     "data": {
      "text/html": [
       "<div>\n",
       "<style scoped>\n",
       "    .dataframe tbody tr th:only-of-type {\n",
       "        vertical-align: middle;\n",
       "    }\n",
       "\n",
       "    .dataframe tbody tr th {\n",
       "        vertical-align: top;\n",
       "    }\n",
       "\n",
       "    .dataframe thead th {\n",
       "        text-align: right;\n",
       "    }\n",
       "</style>\n",
       "<table border=\"1\" class=\"dataframe\">\n",
       "  <thead>\n",
       "    <tr style=\"text-align: right;\">\n",
       "      <th>pred_nonFocal</th>\n",
       "      <th>0</th>\n",
       "      <th>1</th>\n",
       "    </tr>\n",
       "    <tr>\n",
       "      <th>pred_why</th>\n",
       "      <th></th>\n",
       "      <th></th>\n",
       "    </tr>\n",
       "  </thead>\n",
       "  <tbody>\n",
       "    <tr>\n",
       "      <td>intense_low</td>\n",
       "      <td>0</td>\n",
       "      <td>8</td>\n",
       "    </tr>\n",
       "    <tr>\n",
       "      <td>match_with_a_focal</td>\n",
       "      <td>0</td>\n",
       "      <td>80</td>\n",
       "    </tr>\n",
       "    <tr>\n",
       "      <td>no_match</td>\n",
       "      <td>1534</td>\n",
       "      <td>0</td>\n",
       "    </tr>\n",
       "    <tr>\n",
       "      <td>not_strongest_in_multiple</td>\n",
       "      <td>0</td>\n",
       "      <td>11</td>\n",
       "    </tr>\n",
       "    <tr>\n",
       "      <td>partner_assigned (stronger_1_match)</td>\n",
       "      <td>0</td>\n",
       "      <td>297</td>\n",
       "    </tr>\n",
       "    <tr>\n",
       "      <td>partner_assigned (weaker_1_match)</td>\n",
       "      <td>411</td>\n",
       "      <td>0</td>\n",
       "    </tr>\n",
       "    <tr>\n",
       "      <td>stronger_1_match</td>\n",
       "      <td>339</td>\n",
       "      <td>0</td>\n",
       "    </tr>\n",
       "    <tr>\n",
       "      <td>strongest_in_multiple</td>\n",
       "      <td>64</td>\n",
       "      <td>0</td>\n",
       "    </tr>\n",
       "    <tr>\n",
       "      <td>weaker_1_match</td>\n",
       "      <td>0</td>\n",
       "      <td>449</td>\n",
       "    </tr>\n",
       "  </tbody>\n",
       "</table>\n",
       "</div>"
      ],
      "text/plain": [
       "pred_nonFocal                           0    1\n",
       "pred_why                                      \n",
       "intense_low                             0    8\n",
       "match_with_a_focal                      0   80\n",
       "no_match                             1534    0\n",
       "not_strongest_in_multiple               0   11\n",
       "partner_assigned (stronger_1_match)     0  297\n",
       "partner_assigned (weaker_1_match)     411    0\n",
       "stronger_1_match                      339    0\n",
       "strongest_in_multiple                  64    0\n",
       "weaker_1_match                          0  449"
      ]
     },
     "execution_count": 54,
     "metadata": {},
     "output_type": "execute_result"
    }
   ],
   "source": [
    "pd.crosstab(index=labelfile['pred_why'], columns=labelfile['pred_nonFocal'])"
   ]
  },
  {
   "cell_type": "markdown",
   "metadata": {},
   "source": [
    "## Visualize some examples"
   ]
  },
  {
   "cell_type": "code",
   "execution_count": 22,
   "metadata": {},
   "outputs": [
    {
     "name": "stdout",
     "output_type": "stream",
     "text": [
      "20170806_VHMM002_01_09_58_067_0_00_060_sn\n",
      "20170806_VHMM006_01_10_18_373_0_00_067_sn\n",
      "20170806_2_VLF206_00_25_43_078_0_00_049_sn\n"
     ]
    },
    {
     "data": {
      "image/png": "[encoded data removed]",
      "text/plain": [
       "<Figure size 720x720 with 3 Axes>"
      ]
     },
     "metadata": {
      "needs_background": "light"
     },
     "output_type": "display_data"
    }
   ],
   "source": [
    "example= random.choice(list(matches.keys()))\n",
    "example = '20170806_VHMM002_01_09_58_067_0_00_060_sn'\n",
    "spec = list(labelfile.loc[labelfile.callID_new==example,'denoised_spectrograms'])[0]\n",
    "neighbor_specs = [list(labelfile.loc[labelfile.callID_new==x,'denoised_spectrograms'])[0] for x in matches[example]]\n",
    "neighbor_names = matches[example]\n",
    "\n",
    "print(example)\n",
    "for x in neighbor_names:\n",
    "    print(x)\n",
    "\n",
    "# Make padded data\n",
    "maxlen= np.max([spec.shape[1] for spec in neighbor_specs]+[spec.shape[1]])\n",
    "padded_spec = pad_spectro(spec, maxlen)\n",
    "\n",
    "fig = plt.figure(figsize=(10,10))\n",
    "plt.subplot(len(matches[example])+1,2,1)\n",
    "plt.imshow(padded_spec, interpolation='nearest', origin='lower', aspect='equal')\n",
    "intenseness = str(round(intense_dict[example],2))\n",
    "entryname = labelfile.loc[labelfile.callID_new==example,'entryName'].values[0]\n",
    "pred = \"f\" if pred_nonFocal[example]==0 else \"nf\"\n",
    "predwhy = str(why_pred[example])\n",
    "title_string = \"ORIGINAL: \"+entryname+\";intense:\"+intenseness+\"; pred:\"+pred+\" (\"+predwhy+\")\"\n",
    "plt.title(title_string)\n",
    "\n",
    "p=2\n",
    "\n",
    "dists = []\n",
    "for neighbor_spec, neighbor_name in zip(neighbor_specs, neighbor_names):\n",
    "    padded_neighbor_spec = pad_spectro(neighbor_spec, maxlen)\n",
    "    \n",
    "    sub_df = f_nf.loc[(f_nf['call_a']==sorted([example, neighbor_name])[0]) | (f_nf['call_b']==sorted([example, neighbor_name])[0]),:]\n",
    "    dist = sub_df.dist_score.values[0]    \n",
    "    dist_str = \"same\" if dist<=0.4 else \"diff\"\n",
    "    \n",
    "    intenseness = str(round(intense_dict[neighbor_name],2))\n",
    "    entryname = labelfile.loc[labelfile.callID_new==neighbor_name,'entryName'].values[0]\n",
    "    pred = \"f\" if pred_nonFocal[neighbor_name]==0 else \"nf\"\n",
    "    predwhy = str(why_pred[neighbor_name])\n",
    "    \n",
    "    title_string = entryname+\";intense:\"+intenseness+\";\"+dist_str+\":\"+str(round(dist,2))+\"; pred:\"+pred+\" (\"+predwhy+\")\"   \n",
    "    plt.subplot(len(matches[example])+1,2, p)\n",
    "    plt.imshow(padded_neighbor_spec, interpolation='nearest', origin='lower', aspect='equal')\n",
    "    plt.title(title_string)\n",
    "    p=p+1\n",
    "\n",
    "plt.tight_layout() "
   ]
  },
  {
   "cell_type": "code",
   "execution_count": null,
   "metadata": {},
   "outputs": [],
   "source": [
    "audio = list(labelfile.loc[labelfile.callID_new==example,'raw_audio'])[0]\n",
    "sr = list(labelfile.loc[labelfile.callID_new==example,'samplerate_hz'])[0]\n",
    "Audio(data = audio, rate=sr)"
   ]
  },
  {
   "cell_type": "code",
   "execution_count": null,
   "metadata": {},
   "outputs": [],
   "source": [
    "nn = neighbor_names[0]\n",
    "nb_audio = list(labelfile.loc[labelfile.callID_new==nn,'raw_audio'])[0]\n",
    "nb_sr = list(labelfile.loc[labelfile.callID_new==nn,'samplerate_hz'])[0]\n",
    "Audio(data =nb_audio, rate=nb_sr) "
   ]
  }
 ],
 "metadata": {
  "kernelspec": {
   "display_name": "Python 3",
   "language": "python",
   "name": "python3"
  },
  "language_info": {
   "codemirror_mode": {
    "name": "ipython",
    "version": 3
   },
   "file_extension": ".py",
   "mimetype": "text/x-python",
   "name": "python",
   "nbconvert_exporter": "python",
   "pygments_lexer": "ipython3",
   "version": "3.7.4"
  }
 },
 "nbformat": 4,
 "nbformat_minor": 2
}
