{
 "cells": [
  {
   "cell_type": "code",
   "execution_count": 3,
   "id": "elect-filing",
   "metadata": {},
   "outputs": [
    {
     "name": "stdout",
     "output_type": "stream",
     "text": [
      "Please type your path to the EAS server and press enter! \n",
      " For example: \n",
      " /Volumes    (on Mac) \n",
      " //10.126.19.90    (on Windows) \n",
      " /home/username/Documents/MPI-Server    (when mounted in Documents)\n",
      "/Volumes\n"
     ]
    }
   ],
   "source": [
    "import os\n",
    "\n",
    "print(\"Please type your path to the EAS server and press enter! \\n For example: \\n /Volumes    (on Mac) \\n //10.126.19.90    (on Windows) \\n /home/username/Documents/MPI-Server    (when mounted in Documents)\")\n",
    "SERVER=input()"
   ]
  },
  {
   "cell_type": "code",
   "execution_count": 4,
   "id": "optimum-globe",
   "metadata": {},
   "outputs": [],
   "source": [
    "if not os.path.exists(SERVER):\n",
    "    print(\"Invalid server path\")\n",
    "    exit()   "
   ]
  },
  {
   "cell_type": "code",
   "execution_count": 5,
   "id": "expressed-tradition",
   "metadata": {},
   "outputs": [
    {
     "name": "stdout",
     "output_type": "stream",
     "text": [
      "success\n"
     ]
    }
   ],
   "source": [
    "print(\"success\")"
   ]
  },
  {
   "cell_type": "code",
   "execution_count": null,
   "id": "living-belgium",
   "metadata": {},
   "outputs": [],
   "source": []
  }
 ],
 "metadata": {
  "kernelspec": {
   "display_name": "Python 3",
   "language": "python",
   "name": "python3"
  },
  "language_info": {
   "codemirror_mode": {
    "name": "ipython",
    "version": 3
   },
   "file_extension": ".py",
   "mimetype": "text/x-python",
   "name": "python",
   "nbconvert_exporter": "python",
   "pygments_lexer": "ipython3",
   "version": "3.7.10"
  }
 },
 "nbformat": 4,
 "nbformat_minor": 5
}
