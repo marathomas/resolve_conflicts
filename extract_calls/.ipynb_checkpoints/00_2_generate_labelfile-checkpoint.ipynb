{
 "cells": [
  {
   "cell_type": "markdown",
   "metadata": {},
   "source": [
    "# Generate full labelfile"
   ]
  },
  {
   "cell_type": "markdown",
   "metadata": {},
   "source": [
    "Script to generate a json file which contains raw audio and spectrogram data for each call.\n",
    "\n",
    "Requirements:\n",
    "\n",
    "- A labelfile containing callID_new of all calls (generated with 00_1_generate_call_txts)\n",
    "- A folder containig txt audio files of the calls (generated with 00_1_generate_call_txts)\n",
    "\n",
    "Final results will be called \"full_labelfile.pkl\" and saved in current working directory."
   ]
  },
  {
   "cell_type": "code",
   "execution_count": 1,
   "metadata": {},
   "outputs": [],
   "source": [
    "import pandas as pd\n",
    "import os\n",
    "import librosa\n",
    "import sys\n",
    "import numpy as np\n",
    "import pickle"
   ]
  },
  {
   "cell_type": "code",
   "execution_count": 2,
   "metadata": {},
   "outputs": [
    {
     "name": "stdout",
     "output_type": "stream",
     "text": [
      "Please type your path to the EAS server and press enter! \n",
      " For example: \n",
      " /Volumes    (on Mac) \n",
      " //10.126.19.90    (on Windows) \n",
      " /home/username/Documents/MPI-Server    (when mounted in Documents) \n",
      "\n",
      "/Volumes\n"
     ]
    }
   ],
   "source": [
    "print(\"Please type your path to the EAS server and press enter! \\n For example: \\n /Volumes    (on Mac) \\n //10.126.19.90    (on Windows) \\n /home/username/Documents/MPI-Server    (when mounted in Documents) \\n\")\n",
    "SERVER=input()"
   ]
  },
  {
   "cell_type": "code",
   "execution_count": 3,
   "metadata": {},
   "outputs": [],
   "source": [
    "if not os.path.exists(SERVER):\n",
    "    print(\"Invalid server path: \", SERVER)\n",
    "    exit()  \n",
    "    \n",
    "# If someone put a slash or backslash in last position\n",
    "if SERVER[-1:]==\"/\" or SERVER[-1:]==\"\\n\":\n",
    "    SERVER = SERVER[:-1]"
   ]
  },
  {
   "cell_type": "code",
   "execution_count": 8,
   "metadata": {},
   "outputs": [],
   "source": [
    "HOME = SERVER + os.path.join(os.path.sep, 'EAS_shared',\n",
    "                                         'meerkat','working','processed',\n",
    "                                         'acoustic', 'extract_calls')\n",
    "\n",
    "# labelfile generated with 00_1_generate_call_txts\n",
    "LABELFILE = os.path.join(os.path.sep, HOME,'labelfile.csv')\n",
    "\n",
    "# location of audio txt files generated with 00_1_generate_call_txts\n",
    "TXT_PATH = os.path.join(os.path.sep, HOME,'txts')"
   ]
  },
  {
   "cell_type": "code",
   "execution_count": 5,
   "metadata": {},
   "outputs": [],
   "source": [
    "# Spectrogramming parameters\n",
    "FFT_WIN = 0.03 # FFT_WIN*samplerate = length of fft/n_fft (number of audio frames that go in one fft)\n",
    "FFT_HOP = FFT_WIN/8 # FFT_HOP*samplerate = n of audio frames between successive ffts\n",
    "N_MELS = 40 # number of mel bins\n",
    "WINDOW = 'hann' # each frame of audio is windowed by a window function (its length can also be\n",
    "# determined and is then padded with zeros to match n_fft. we use window_length = length of fft"
   ]
  },
  {
   "cell_type": "code",
   "execution_count": 6,
   "metadata": {},
   "outputs": [],
   "source": [
    "def data_from_file(filename):\n",
    "    \"\"\"\n",
    "    Function that reads audio data audio\n",
    "    saved in txt format\n",
    "    (Helper function for read_wav_txt)\n",
    "\n",
    "    Parameters\n",
    "    ----------\n",
    "    data: String\n",
    "          path to txt file\n",
    "          \n",
    "    Returns\n",
    "    -------\n",
    "    data : 1D np.array\n",
    "           Raw audio data (Amplitude)\n",
    "    \"\"\"\n",
    "    data = pd.read_csv(filename, skiprows = 1,header = None)\n",
    "    return np.asarray(data.iloc[:,0])\n",
    "\n",
    "def sr_from_file(filename):\n",
    "    \"\"\"\n",
    "    Function that reads audio sr from audio\n",
    "    saved in txt format\n",
    "    (Helper function for read_wav_txt)\n",
    "\n",
    "    Parameters\n",
    "    ----------\n",
    "    data: String\n",
    "          path to txt file\n",
    "          \n",
    "    Returns\n",
    "    -------   \n",
    "    sr: numeric (Integer)\n",
    "        Samplerate (in Hz)\n",
    "    \"\"\"\n",
    "    f = open(filename)\n",
    "    line = f.readline()\n",
    "    sr = line.split(':')[1]\n",
    "    return int(sr)\n",
    "\n",
    "def read_wav_txt(filename):    \n",
    "    \"\"\"\n",
    "    Function that reads audio data and sr from audio\n",
    "    saved in txt format\n",
    "\n",
    "    Parameters\n",
    "    ----------\n",
    "    data: String\n",
    "          path to txt file\n",
    "          \n",
    "    Returns\n",
    "    -------\n",
    "    data : 1D np.array\n",
    "           Raw audio data (Amplitude)\n",
    "           \n",
    "    sr: numeric (Integer)\n",
    "        Samplerate (in Hz)\n",
    "    \"\"\"\n",
    "    data = \"NA\"\n",
    "    sr = \"NA\"\n",
    "    \n",
    "    if os.path.exists(filename):\n",
    "        data = data_from_file(filename)\n",
    "        sr = sr_from_file(filename)\n",
    "    else:\n",
    "        print(\"No such file or directory: \", filename)\n",
    "        data = np.asarray([0])\n",
    "        sr = 0\n",
    "    return data, sr\n",
    "\n",
    "def generate_mel_spectrogram(data, rate, n_mels, window, fft_win , fft_hop):\n",
    "    \n",
    "    \"\"\"\n",
    "    Function that generates mel spectrogram from audio data using librosa functions\n",
    "\n",
    "    Parameters\n",
    "    ----------\n",
    "    data: 1D numpy array (float)\n",
    "          Audio data\n",
    "    rate: numeric(integer)\n",
    "          samplerate in Hz\n",
    "    n_mels: numeric (integer)\n",
    "            number of mel bands\n",
    "    window: string\n",
    "            spectrogram window generation type ('hann'...)\n",
    "    fft_win: numeric (float)\n",
    "             window length in s\n",
    "    fft_hop: numeric (float)\n",
    "             hop between window start in s \n",
    "\n",
    "    Returns\n",
    "    -------\n",
    "    result : 2D np.array\n",
    "             Mel-transformed spectrogram\n",
    "\n",
    "    Example\n",
    "    -------\n",
    "    >>> \n",
    "    \n",
    "    \"\"\"\n",
    "    n_fft  = int(fft_win * rate) \n",
    "    hop_length = int(fft_hop * rate) \n",
    "        \n",
    "    s = librosa.feature.melspectrogram(y = data ,\n",
    "                                       sr = rate, \n",
    "                                       n_mels = n_mels , \n",
    "                                       fmax = 4000, \n",
    "                                       n_fft = n_fft,\n",
    "                                       hop_length = hop_length, \n",
    "                                       window = window, \n",
    "                                       win_length = n_fft)\n",
    "\n",
    "    spectro = librosa.power_to_db(s, ref=np.max)\n",
    "\n",
    "    return spectro"
   ]
  },
  {
   "cell_type": "markdown",
   "metadata": {},
   "source": [
    "# Read in data"
   ]
  },
  {
   "cell_type": "code",
   "execution_count": 12,
   "metadata": {},
   "outputs": [],
   "source": [
    "# Read in labelfile\n",
    "labelfile = pd.read_csv(LABELFILE, sep=\"\\t\")\n",
    "# remove zero duration calls\n",
    "labelfile = labelfile.loc[labelfile.duration_s>0,:]\n",
    "# remove non-calls\n",
    "labelfile = labelfile.loc[labelfile.isCall==1,:]"
   ]
  },
  {
   "cell_type": "markdown",
   "metadata": {},
   "source": [
    "# Generate audio and samplerate column"
   ]
  },
  {
   "cell_type": "code",
   "execution_count": null,
   "metadata": {},
   "outputs": [],
   "source": [
    "audios_we_need = [os.path.join(os.path.sep, TXT_PATH, x+'.txt') for x in labelfile.callID_new]\n",
    "raw_audio,samplerate_hz = map(list,zip(*[read_wav_txt(x) for x in audios_we_need]))\n",
    "\n",
    "labelfile['raw_audio'] = raw_audio\n",
    "labelfile['samplerate_hz'] = samplerate_hz"
   ]
  },
  {
   "cell_type": "markdown",
   "metadata": {},
   "source": [
    "# Generate spectrogram columns"
   ]
  },
  {
   "cell_type": "code",
   "execution_count": null,
   "metadata": {},
   "outputs": [],
   "source": [
    "spectrograms = labelfile.apply(lambda row: generate_mel_spectrogram(row['raw_audio'],\n",
    "                                                                    row['samplerate_hz'],\n",
    "                                                                    N_MELS,\n",
    "                                                                    WINDOW,\n",
    "                                                                    FFT_WIN,\n",
    "                                                                    FFT_HOP), \n",
    "                               axis=1)\n",
    "\n",
    "\n",
    "labelfile['spectrograms'] = spectrograms\n",
    "\n",
    "denoised = [(spectrogram - np.median(spectrogram, axis=0)) for spectrogram in labelfile['spectrograms']]\n",
    "labelfile['denoised_spectrograms'] = denoised"
   ]
  },
  {
   "cell_type": "markdown",
   "metadata": {},
   "source": [
    "# Save full labelfile"
   ]
  },
  {
   "cell_type": "code",
   "execution_count": 4,
   "metadata": {},
   "outputs": [
    {
     "data": {
      "text/plain": [
       "(54386, 34)"
      ]
     },
     "execution_count": 4,
     "metadata": {},
     "output_type": "execute_result"
    }
   ],
   "source": [
    "#labelfile.shape"
   ]
  },
  {
   "cell_type": "code",
   "execution_count": null,
   "metadata": {},
   "outputs": [],
   "source": [
    "labelfile.to_pickle(os.path.join(os.path.sep, HOME, \"full_labelfile.pkl\"))"
   ]
  }
 ],
 "metadata": {
  "kernelspec": {
   "display_name": "Python 3",
   "language": "python",
   "name": "python3"
  },
  "language_info": {
   "codemirror_mode": {
    "name": "ipython",
    "version": 3
   },
   "file_extension": ".py",
   "mimetype": "text/x-python",
   "name": "python",
   "nbconvert_exporter": "python",
   "pygments_lexer": "ipython3",
   "version": "3.7.10"
  }
 },
 "nbformat": 4,
 "nbformat_minor": 2
}
